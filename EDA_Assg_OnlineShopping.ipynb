{
  "nbformat": 4,
  "nbformat_minor": 0,
  "metadata": {
    "colab": {
      "provenance": []
    },
    "kernelspec": {
      "name": "python3",
      "display_name": "Python 3"
    },
    "language_info": {
      "name": "python"
    }
  },
  "cells": [
    {
      "cell_type": "markdown",
      "source": [
        "**Assignment Submission Guidelines**\n",
        "\n",
        "**1. Submission Platform:**\n",
        "\n",
        "- Submit your completed assignment through [Specify Platform: e.g., Google Classroom, Canvas, GitHub Classroom, etc.].\n",
        "\n",
        "**2. Submission Format:**\n",
        "\n",
        "- Submit the Google Colab Notebook (.ipynb file) provided as the assignment template.\n",
        "- Do not create a new notebook. Fill in the provided template.\n",
        "\n",
        "**3. Template Completion:**\n",
        "\n",
        "The template notebook contains:\n",
        "- The code to generate the student_performance_detailed_nan.csv dataset.\n",
        "- Placeholders for your code and explanations for each question.\n",
        "\n",
        "Follow the instructions within the template.\n",
        "- Code Cells:\n",
        "  - Place your code solutions directly in the designated code cells below each question.\n",
        "- Markdown Cells:\n",
        "  - Provide your explanations and justifications in the designated Markdown cells.\n",
        "- Report section:\n",
        "  - Complete the markdown section at the bottom of the notebook titled \"Report\".\n",
        "  - In this section, compile the explanation of each of the questions.\n",
        "  - Answer the following data analysis questions:\n",
        "   1. \"What are the key characteristics of the customer base in this dataset?\"\n",
        "   2. \"Which factors appear to have the strongest influence on product price or customer rating?\"\n",
        "   3. \"What are the most common missing data patterns, and what implications might they have on our analysis?\"\n",
        "   4. \"Based on your analysis, what are 2-3 recommendations you would make to improve sales or customer satisfaction?\"\n",
        "\n",
        "- Do not modify the structure of the template notebook.\n",
        "\n",
        "**4. File Naming:**\n",
        "\n",
        "Ensure the file name remains as provided in the template. Do not rename the file.\n",
        "\n",
        "**5. Timely Submission:**\n",
        "\n",
        "- Submit your completed template notebook by the deadline: **24th of March, 2025**.\n",
        "- Late submissions will be penalized as follows:\n",
        "- Submissions within **5:00pm 26th of March, 2025**  will receive a maximum of 5 marks for timely submission.\n",
        "Submissions after  will receive 0 marks for timely submission.\n",
        "\n",
        "**6. Report:**\n",
        "\n",
        "- Complete the \"Report\" section at the end of your notebook.\n",
        "- Ensure your report is:\n",
        "  - Well-organized and easy to read.\n",
        "  - Clear and concise.\n",
        "  - Free of grammatical errors.\n",
        "\n",
        "**7. Code Execution:**\n",
        "\n",
        "Ensure your completed notebook runs without errors from top to bottom.\n",
        "Before submitting, restart the kernel and run all cells to confirm reproducibility.\n",
        "\n",
        "\n",
        "\n",
        "**8. Academic Integrity:**\n",
        "\n",
        "All work must be your own.\n",
        "Plagiarism will result in a failing grade.\n",
        "Cite any external resources you use.\n",
        "\n",
        "\n",
        "\n",
        "**Tips for Success:**\n",
        "\n",
        "- Start the assignment early.\n",
        "- Read the instructions within the template carefully.\n",
        "- Plan your approach before coding.\n",
        "- Test your code thoroughly.\n",
        "- Document your work clearly.\n",
        "- Review the rubrics to understand the grading criteria.\n"
      ],
      "metadata": {
        "id": "V5L5TLCTyWzp"
      }
    },
    {
      "cell_type": "markdown",
      "source": [
        "**Grading Rubrics:**\n",
        "\n",
        "Total 50 Marks\n",
        "\n",
        "- Timely Submission: 10 Marks\n",
        "- Report : 10 Marks\n",
        "- Level 1 (Basic Questions): 5 Marks (1 x 5 = 5)\n",
        "- Level 2 (Intermediate Questions): 10 Marks (2 x 5 = 10)\n",
        "- Level 3 (Advanced Questions): 15 Marks (3 x 5 = 15)"
      ],
      "metadata": {
        "id": "KuApPrY4xHsQ"
      }
    },
    {
      "cell_type": "markdown",
      "source": [
        "##**Assignment Title: Analyzing Online Shopping Trends - A Data Exploration**"
      ],
      "metadata": {
        "id": "-160l66H1rRa"
      }
    },
    {
      "cell_type": "markdown",
      "source": [
        "**Background**\n",
        "\n",
        "You are a data analyst working for \"ShopInsights,\" a market research firm specializing in e-commerce trends. ShopInsights partners with online retailers to provide insights into customer behavior, product performance, and market dynamics.\n",
        "\n",
        "Your team has compiled a dataset of customer purchase data from an online marketplace. This dataset includes information on customer demographics, product details, purchase history, and reviews.\n",
        "\n",
        "Your goal is to explore and analyze this data to uncover key trends and patterns that can help online retailers:\n",
        "\n",
        "Understand customer purchasing behavior. Optimize product offerings and marketing strategies. Improve customer satisfaction and retention. Identify popular product categories and trends. In this assignment, you will explore and analyze the online shopping data. If you choose to tackle the advanced level, you will delve deeper by building predictive models to understand the key drivers of customer purchases and provide recommendations for enhancing future data collection."
      ],
      "metadata": {
        "id": "5vHQVUMmoixt"
      }
    },
    {
      "cell_type": "markdown",
      "source": [
        "**Dataset (Synthetic):**\n",
        "\n",
        "We will create a synthetic dataset resembling Amazon-like purchase data."
      ],
      "metadata": {
        "id": "aGAbP-GSWINr"
      }
    },
    {
      "cell_type": "code",
      "execution_count": null,
      "metadata": {
        "colab": {
          "base_uri": "https://localhost:8080/"
        },
        "id": "bKAhCN7Aeez7",
        "outputId": "7683432e-4579-4e42-e6ff-31ff9100f928"
      },
      "outputs": [
        {
          "output_type": "stream",
          "name": "stdout",
          "text": [
            "Synthetic online shopping dataset generated: online_shopping_data.csv\n"
          ]
        }
      ],
      "source": [
        "import pandas as pd\n",
        "import numpy as np\n",
        "import random\n",
        "from datetime import datetime, timedelta\n",
        "\n",
        "def generate_online_shopping_data(num_records=1000):\n",
        "    \"\"\"Generates synthetic online shopping data.\"\"\"\n",
        "\n",
        "    data = []\n",
        "    for record_id in range(1, num_records + 1):\n",
        "        customer_id = random.randint(1001, 2000)\n",
        "        product_category = random.choice(['Electronics', 'Clothing', 'Books', 'Home & Kitchen', 'Beauty'])\n",
        "        product_price = np.random.uniform(10, 500)\n",
        "        purchase_date = datetime(2023, 1, 1) + timedelta(days=random.randint(0, 364))\n",
        "        customer_age = random.randint(18, 70)\n",
        "        customer_gender = random.choice(['Male', 'Female', 'Other'])\n",
        "        customer_location = random.choice(['Urban', 'Suburban', 'Rural'])\n",
        "        rating = random.choice([1, 2, 3, 4, 5, np.nan])\n",
        "        review = random.choice(['Good product', 'Average', 'Poor quality', 'Excellent', np.nan])\n",
        "        shipping_method = random.choice(['Standard', 'Express', np.nan])\n",
        "        discount_applied = random.choice([True, False])\n",
        "\n",
        "        data.append({\n",
        "            'RecordID': record_id,\n",
        "            'CustomerID': customer_id,\n",
        "            'ProductCategory': product_category,\n",
        "            'ProductPrice': product_price,\n",
        "            'PurchaseDate': purchase_date,\n",
        "            'CustomerAge': customer_age,\n",
        "            'CustomerGender': customer_gender,\n",
        "            'CustomerLocation': customer_location,\n",
        "            'Rating': rating,\n",
        "            'Review': review,\n",
        "            'ShippingMethod': shipping_method,\n",
        "            'DiscountApplied': discount_applied\n",
        "        })\n",
        "\n",
        "    df = pd.DataFrame(data)\n",
        "    df['PurchaseDate'] = pd.to_datetime(df['PurchaseDate'])\n",
        "    return df\n",
        "\n",
        "# Generate and save the dataset\n",
        "online_shopping_df = generate_online_shopping_data()\n",
        "online_shopping_df.to_csv('online_shopping_data.csv', index=False)\n",
        "\n",
        "print(\"Synthetic online shopping dataset generated: online_shopping_data.csv\")"
      ]
    },
    {
      "cell_type": "markdown",
      "source": [
        "**The Data**\n",
        "\n",
        "The data comes from a compilation by ShopInsights, available in 'online_shopping_data.csv'. Each row represents a single customer's purchase record:\n",
        "\n",
        "**RecordID** - Unique identifier for each purchase record.\n",
        "\n",
        "**CustomerID** - Unique identifier for each customer.\n",
        "\n",
        "**ProductCategory** - Category of the purchased product:\n",
        "    \n",
        "    -Electronics\n",
        "    -Clothing\n",
        "    -Books\n",
        "    -Home & Kitchen\n",
        "    -Beauty\n",
        "\n",
        "**ProductPrice** - Price of the purchased product (in USD).\n",
        "\n",
        "**PurchaseDate** - Date of purchase (YYYY-MM-DD).\n",
        "\n",
        "**CustomerAge** - Age of the customer (in years).\n",
        "\n",
        "**CustomerGender** - Gender of the customer:\n",
        "    -Male\n",
        "    -Female\n",
        "    -Other\n",
        "\n",
        "**CustomerLocation** - Location of the customer:\n",
        "    \n",
        "    -Urban\n",
        "    -Suburban\n",
        "    -Rural\n",
        "\n",
        "**Rating** - Customer rating of the product: 1-5, or NaN if no rating.\n",
        "\n",
        "**Review** - Customer review of the product, or NaN if no review.\n",
        "\n",
        "**ShippingMethod** - Shipping method used:\n",
        "    -Standard\n",
        "    -Express\n",
        "    -NaN (if not specified)\n",
        "\n",
        "**DiscountApplied** - Indicates whether a discount was applied: True/False."
      ],
      "metadata": {
        "id": "pffym1X7p6kb"
      }
    },
    {
      "cell_type": "markdown",
      "source": [
        "## **Basic (RBT Levels: 2, 3):**\n",
        "\n",
        "Total: 5 Marks\n",
        "\n",
        "Each Question Carry 1 Mark"
      ],
      "metadata": {
        "id": "IOGkhu55u7EP"
      }
    },
    {
      "cell_type": "code",
      "source": [],
      "metadata": {
        "id": "PKatURVSbhZV"
      },
      "execution_count": null,
      "outputs": []
    },
    {
      "cell_type": "markdown",
      "source": [
        "**Question 1. Missing Value Identification:**\n",
        "\n",
        "Identify the columns in the dataset that contain missing values. How many missing values are present in each column?"
      ],
      "metadata": {
        "id": "VMuKMQsjqYRT"
      }
    },
    {
      "cell_type": "code",
      "source": [
        "# Question 1: Missing Value Identification\n",
        "# Identify the columns in the dataset that contain missing values. How many missing values are present in each column?\n",
        "# Your Code Here:"
      ],
      "metadata": {
        "id": "xin7rfJiqz5x"
      },
      "execution_count": null,
      "outputs": []
    },
    {
      "cell_type": "markdown",
      "source": [
        "**Explanation**\n",
        "\n",
        "[Your explanation here]"
      ],
      "metadata": {
        "id": "6kQStsoecr1E"
      }
    },
    {
      "cell_type": "markdown",
      "source": [
        "**Question 2: Basic Missing Value Handling**\n",
        "\n",
        "Remove all rows that contain at least one missing value. How many rows are removed? Explain why you chose this approach.\n"
      ],
      "metadata": {
        "id": "Xid0fq3aq-oa"
      }
    },
    {
      "cell_type": "code",
      "source": [
        "# Question 2: Basic Missing Value Handling\n",
        "# Remove all rows that contain at least one missing value. How many rows are removed? Explain why you chose this approach.\n",
        "# Your Code Here:"
      ],
      "metadata": {
        "id": "UtiTeJ6kq-_C"
      },
      "execution_count": null,
      "outputs": []
    },
    {
      "cell_type": "markdown",
      "source": [
        "**Explanation**\n",
        "\n",
        "[Your explanation here]"
      ],
      "metadata": {
        "id": "RXbg4fFprMXX"
      }
    },
    {
      "cell_type": "markdown",
      "source": [
        "**Question 3: Data Type Conversion**\n",
        "\n",
        "Verify the data types of each column in the online shopping dataset. Convert the 'ProductPrice' column to a float data type and the 'PurchaseDate' column to a datetime data type. Explain why these data types are appropriate.\n"
      ],
      "metadata": {
        "id": "eb4SIFzUrTMn"
      }
    },
    {
      "cell_type": "code",
      "source": [
        "# Question 3: Data Type Conversion\n",
        "# Verify the data types of each column. Convert the 'ProductPrice' column to a float data type and the 'PurchaseDate' column to a datetime data type. Explain why these data types are appropriate.\n",
        "# Your Code Here:\n",
        "# ... your code here ..."
      ],
      "metadata": {
        "id": "2NA2q68ErZi8"
      },
      "execution_count": null,
      "outputs": []
    },
    {
      "cell_type": "markdown",
      "source": [
        "**Explanation**\n",
        "\n",
        "[Your explanation here]"
      ],
      "metadata": {
        "id": "Br74aBGIrbYU"
      }
    },
    {
      "cell_type": "markdown",
      "source": [
        "**Question 4: Renaming Columns**\n",
        "\n",
        "Rename the 'CustomerID' column to 'Customer_ID' and the 'ProductCategory' column to 'Category'. Explain why renaming columns can be useful.\n"
      ],
      "metadata": {
        "id": "E-2eKwwgrfyc"
      }
    },
    {
      "cell_type": "code",
      "source": [
        "# Question 4: Renaming Columns\n",
        "# Rename the 'CustomerID' column to 'Customer_ID' and the 'ProductCategory' column to 'Category'. Explain why renaming columns can be useful.\n",
        "# Your Code Here:\n",
        "# ... your code here ...\n"
      ],
      "metadata": {
        "id": "Tw9EU-BereyX"
      },
      "execution_count": null,
      "outputs": []
    },
    {
      "cell_type": "markdown",
      "source": [
        "**Explanation**\n",
        "\n",
        "[Your explanation here]"
      ],
      "metadata": {
        "id": "iyQnG0LyrnKv"
      }
    },
    {
      "cell_type": "markdown",
      "source": [
        "Question 5: Duplicate Row Removal\n",
        "\n",
        "Check for and remove any duplicate rows in the dataset. How many duplicate rows were found and removed?\n"
      ],
      "metadata": {
        "id": "N1A9gc4rrokI"
      }
    },
    {
      "cell_type": "code",
      "source": [
        "# Question 5: Duplicate Row Removal\n",
        "# Check for and remove any duplicate rows in the dataset. How many duplicate rows were found and removed?\n",
        "# Your Code Here:"
      ],
      "metadata": {
        "id": "w_ZJDkUKrs6p"
      },
      "execution_count": null,
      "outputs": []
    },
    {
      "cell_type": "markdown",
      "source": [
        "**Explanation**\n",
        "\n",
        "[Your explanation here]"
      ],
      "metadata": {
        "id": "yI-gGOm9rt30"
      }
    },
    {
      "cell_type": "markdown",
      "source": [
        "##**Intermediate (RBT Levels: 3, 4):**\n",
        "\n",
        "Total: 10 Marks\n",
        "\n",
        "Each Question Carry 2 Marks\n",
        "\n"
      ],
      "metadata": {
        "id": "YFGbvgbHrwQG"
      }
    },
    {
      "cell_type": "markdown",
      "source": [
        "**Question 6: Targeted Missing Value Imputation**\n",
        "\n",
        "Impute the missing values in the 'Rating' column with the median rating. Explain why you chose this imputation method."
      ],
      "metadata": {
        "id": "KKS8BMOkr5JQ"
      }
    },
    {
      "cell_type": "code",
      "source": [
        "# Question 6: Targeted Missing Value Imputation\n",
        "# Impute the missing values in the 'Rating' column with the median rating. Explain why you chose this imputation method.\n",
        "# Your Code Here:\n",
        "# ... your code here ...\n"
      ],
      "metadata": {
        "id": "lXoU0J9er4m2"
      },
      "execution_count": null,
      "outputs": []
    },
    {
      "cell_type": "markdown",
      "source": [
        "**Explanation**\n",
        "\n",
        "[Your explanation here]"
      ],
      "metadata": {
        "id": "EGhDjPDKsG--"
      }
    },
    {
      "cell_type": "markdown",
      "source": [
        "\n",
        "\n",
        "```\n",
        "# This is formatted as code\n",
        "```\n",
        "Impute the missing values in the 'ShippingMethod' column with the string 'Unknown'. Explain why you chose this imputation method.\n"
      ],
      "metadata": {
        "id": "V9kzr552sKaq"
      }
    },
    {
      "cell_type": "code",
      "source": [
        "\n",
        "# Impute the missing values in the 'ShippingMethod' column with the string 'Unknown'. Explain why you chose this imputation method.\n",
        "# Your Code Here:\n",
        "# ... your code here ...\n",
        "\n"
      ],
      "metadata": {
        "id": "Mkktkt2_sUnB"
      },
      "execution_count": null,
      "outputs": []
    },
    {
      "cell_type": "markdown",
      "source": [
        "**Explanation**\n",
        "\n",
        "[Your explanation here]"
      ],
      "metadata": {
        "id": "ck8KxO5tsWkR"
      }
    },
    {
      "cell_type": "markdown",
      "source": [
        "**Question 7: Binning Numerical Data and Visualization**\n",
        "\n",
        "Create a new categorical column called 'PriceRange' by binning the 'ProductPrice' column into appropriate price ranges (e.g., Low, Medium, High). Explain your binning strategy. Create a bar chart showing the distribution of products in each price range.\n"
      ],
      "metadata": {
        "id": "GK7ssffVscGc"
      }
    },
    {
      "cell_type": "code",
      "source": [
        "# Question 7: Binning Numerical Data and Visualization\n",
        "# Create a new categorical column called 'PriceRange' by binning the 'ProductPrice' column into appropriate price ranges (e.g., Low, Medium, High).\n",
        "# Explain your binning strategy. Create a bar chart showing the distribution of products in each price range.\n",
        "# Your Code Here:\n",
        "# ... your code here ...\n",
        "\n"
      ],
      "metadata": {
        "id": "z5-tC9AIshsR"
      },
      "execution_count": null,
      "outputs": []
    },
    {
      "cell_type": "markdown",
      "source": [
        "**Explanation**\n",
        "\n",
        "[Your explanation here]"
      ],
      "metadata": {
        "id": "Cp8XZjXdsihR"
      }
    },
    {
      "cell_type": "markdown",
      "source": [
        "Create a new categorical column called 'AgeGroup' by binning the 'CustomerAge' column into quantiles. Explain your binning strategy. Create a boxplot chart showing the distribution of 'ProductPrice' based on 'AgeGroup'."
      ],
      "metadata": {
        "id": "_iP8-WjVssGI"
      }
    },
    {
      "cell_type": "code",
      "source": [
        "# Create a new categorical column called 'AgeGroup' by binning the 'CustomerAge' column into quantiles.\n",
        "# Explain your binning strategy. Create a boxplot chart showing the distribution of 'ProductPrice' based on 'AgeGroup'.\n",
        "\n",
        "# Your Code Here:\n",
        "# ... your code here ..."
      ],
      "metadata": {
        "id": "Qcndp-8TspoR"
      },
      "execution_count": null,
      "outputs": []
    },
    {
      "cell_type": "markdown",
      "source": [
        "**Explanation**\n",
        "\n",
        "[Your explanation here]"
      ],
      "metadata": {
        "id": "XAhpsFIjsxZx"
      }
    },
    {
      "cell_type": "markdown",
      "source": [
        "**Question 8: Outlier Detection and Removal**\n",
        "\n",
        "Use the IQR method to identify and remove outliers from the 'ProductPrice' column. Explain your outlier detection and removal process.\n"
      ],
      "metadata": {
        "id": "ln2oQTezs2tM"
      }
    },
    {
      "cell_type": "code",
      "source": [
        "# Question 8: Outlier Detection and Removal\n",
        "# Use the IQR method to identify and remove outliers from the 'ProductPrice' column. Explain your outlier detection and removal process.\n",
        "# Your Code Here:\n",
        "# ... your code here ...\n",
        "\n"
      ],
      "metadata": {
        "id": "pkzXo2WGs6Cj"
      },
      "execution_count": null,
      "outputs": []
    },
    {
      "cell_type": "markdown",
      "source": [
        "**Explanation**\n",
        "\n",
        "[Your explanation here]"
      ],
      "metadata": {
        "id": "Ye8S33-ks7-Z"
      }
    },
    {
      "cell_type": "markdown",
      "source": [
        "**Question 9: String Manipulation**\n",
        "\n",
        "Clean the 'Review' column by removing any leading or trailing whitespace. Convert all values to lowercase to ensure consistency."
      ],
      "metadata": {
        "id": "zWebkA95tBAx"
      }
    },
    {
      "cell_type": "code",
      "source": [
        "# Question 10: String Manipulation\n",
        "# Clean the 'Review' column by removing any leading or trailing whitespace. Convert all values to lowercase to ensure consistency.\n",
        "# Your Code Here:\n",
        "# ... your code here ..."
      ],
      "metadata": {
        "id": "KSphwJ3atEnM"
      },
      "execution_count": null,
      "outputs": []
    },
    {
      "cell_type": "markdown",
      "source": [
        "**Explanation**\n",
        "\n",
        "[Your explanation here]"
      ],
      "metadata": {
        "id": "lY2kWLUttFnK"
      }
    },
    {
      "cell_type": "markdown",
      "source": [
        "**Question 10: Dummy Variable Creation and Stacked Bar Plot**\n",
        "\n",
        "Create dummy variables for the 'CustomerGender' and 'ProductCategory' columns. Explain how dummy variables are used in data analysis. Create a stacked bar plot to visualize the distribution of 'CustomerGender' within each 'ProductCategory'.\n"
      ],
      "metadata": {
        "id": "Co_40ItytK66"
      }
    },
    {
      "cell_type": "code",
      "source": [
        "# Question 10: Dummy Variable Creation and Stacked Bar Plot\n",
        "# Create dummy variables for the 'CustomerGender' and 'ProductCategory' columns. Explain how dummy variables are used in data analysis.\n",
        "# Create a stacked bar plot to visualize the distribution of 'CustomerGender' within each 'ProductCategory'.\n",
        "# Your Code Here:\n",
        "# ... your code here ...\n",
        "\n"
      ],
      "metadata": {
        "id": "Dfu0AxIDtOVh"
      },
      "execution_count": null,
      "outputs": []
    },
    {
      "cell_type": "markdown",
      "source": [
        "**Explanation**\n",
        "\n",
        "[Your explanation here]"
      ],
      "metadata": {
        "id": "WcqeN9MUtQZv"
      }
    },
    {
      "cell_type": "markdown",
      "source": [
        "##**Advanced (RBT Levels: 4, 5):**\n",
        "\n",
        "Total: 15 Marks\n",
        "\n",
        "Each Question Carry 3 Marks"
      ],
      "metadata": {
        "id": "QpPOrEp6tSh8"
      }
    },
    {
      "cell_type": "markdown",
      "source": [
        "**Question 11: Conditional Missing Value Imputation**\n",
        "\n",
        "Impute missing values in the 'Rating' column. If 'Review' is NaN, impute 'Rating' with the overall median rating. Otherwise, impute with the median rating of the reviews that are not NaN. Explain your approach."
      ],
      "metadata": {
        "id": "dT7J-qPDtZEa"
      }
    },
    {
      "cell_type": "code",
      "source": [
        "# Question 11: Conditional Missing Value Imputation\n",
        "# Impute missing values in the 'Rating' column. If 'Review' is NaN, impute 'Rating' with the overall median rating.\n",
        "# Otherwise, impute with the median rating of the reviews that are not NaN. Explain your approach.\n",
        "# Your Code Here:\n",
        "# ... your code here ...\n"
      ],
      "metadata": {
        "id": "VUpVUV8Gtc_r"
      },
      "execution_count": null,
      "outputs": []
    },
    {
      "cell_type": "markdown",
      "source": [
        "**Explanation**\n",
        "\n",
        "[Your explanation here]"
      ],
      "metadata": {
        "id": "Z-4SlRaKtgMi"
      }
    },
    {
      "cell_type": "markdown",
      "source": [
        "**Question 12: Custom Binning Function**\n",
        "\n",
        "Write a custom function to create a 'PriceCategory' column based on the 'ProductPrice'. Categorize prices below  50as′Low′,pricesbetween 50 and  200as′Medium′,andpricesabove 200 as 'High'. Apply this function to create the new column."
      ],
      "metadata": {
        "id": "ujJXl0QctiUE"
      }
    },
    {
      "cell_type": "code",
      "source": [
        "# Question 12: Custom Binning Function\n",
        "# Write a custom function to create a 'PriceCategory' column based on the 'ProductPrice'.\n",
        "# Categorize prices below $50 as 'Low', prices between $50 and $200 as 'Medium', and prices above $200 as 'High'. Apply this function to create the new column.\n",
        "# Your Code Here:\n",
        "# ... your code here ...\n",
        "\n"
      ],
      "metadata": {
        "id": "Dz_PEI1QtmcA"
      },
      "execution_count": null,
      "outputs": []
    },
    {
      "cell_type": "markdown",
      "source": [
        "**Explanation**\n",
        "\n",
        "[Your explanation here]"
      ],
      "metadata": {
        "id": "hA24kA1StoZw"
      }
    },
    {
      "cell_type": "markdown",
      "source": [
        "**Question 13: Grouped Transformations and Line Chart**\n",
        "\n",
        "Calculate the average 'ProductPrice' for each 'ProductCategory'. Then create a new column called 'PriceNormalized' that represents each product's 'ProductPrice' as a z-score relative to its category's average. Create a line chart visualizing the average normalized Price across categories sorted by average normalized Price.\n"
      ],
      "metadata": {
        "id": "xgidKP7zts6U"
      }
    },
    {
      "cell_type": "code",
      "source": [
        "# Question 13: Grouped Transformations and Line Chart\n",
        "# Calculate the average 'ProductPrice' for each 'ProductCategory'.\n",
        "# Then create a new column called 'PriceNormalized' that represents each product's 'ProductPrice' as a z-score relative to its category's average.\n",
        "# Create a line chart visualizing the average normalized Price across categories sorted by average normalized Price.\n",
        "# Your Code Here:\n",
        "# ... your code here ...\n"
      ],
      "metadata": {
        "id": "LDRMBxYItv9H"
      },
      "execution_count": null,
      "outputs": []
    },
    {
      "cell_type": "markdown",
      "source": [
        "**Explanation**\n",
        "\n",
        "[Your explanation here]"
      ],
      "metadata": {
        "id": "bJMyhZ_ZtwxT"
      }
    },
    {
      "cell_type": "markdown",
      "source": [
        "**Question 14: Data Sampling and Validation**\n",
        "\n",
        "Randomly sample 30% of the dataset. Use this sample to calculate the average 'ProductPrice' for each 'CustomerLocation'. Compare these means to the means calculated using the entire dataset. Discuss any differences and their potential implications."
      ],
      "metadata": {
        "id": "RCGnLcnit1Tb"
      }
    },
    {
      "cell_type": "code",
      "source": [
        "# Question 14: Data Sampling and Validation\n",
        "# Randomly sample 30% of the dataset. Use this sample to calculate the mean 'ProductPrice' for each 'CustomerLocation'.\n",
        "# Compare these means to the means calculated using the entire dataset. Discuss any differences and their potential implications.\n",
        "# Your Code Here:\n",
        "# ... your code here ...\n",
        "\n"
      ],
      "metadata": {
        "id": "vR04KOlgt7y2"
      },
      "execution_count": null,
      "outputs": []
    },
    {
      "cell_type": "markdown",
      "source": [
        "**Explanation**\n",
        "\n",
        "[Your explanation here]"
      ],
      "metadata": {
        "id": "YvQ4rx57t8fi"
      }
    },
    {
      "cell_type": "markdown",
      "source": [
        "**Question 15: Merging Hypothetical Data**\n",
        "\n",
        "Imagine you have a second dataset with customer demographic information (e.g., income level, marital status). Merge this hypothetical dataset with the online shopping dataset using the 'CustomerID' column as a key. Explain your merge strategy and how this merged data could be used for further analysis.\n"
      ],
      "metadata": {
        "id": "hHpgcuoXuAuP"
      }
    },
    {
      "cell_type": "code",
      "source": [
        "# Question 15: Merging Hypothetical Data\n",
        "# Imagine you have a second dataset with customer demographic information (e.g., income level, marital status).\n",
        "# Merge this hypothetical dataset with the online shopping dataset using the 'CustomerID' column as a key. Explain your merge strategy and how this merged data could be used for further analysis.\n",
        "# Your Code Here:\n",
        "# ... your code here ...\n",
        "\n"
      ],
      "metadata": {
        "id": "tNQaFiZUuFMl"
      },
      "execution_count": null,
      "outputs": []
    },
    {
      "cell_type": "markdown",
      "source": [
        "**Explanation**\n",
        "\n",
        "[Your explanation here]"
      ],
      "metadata": {
        "id": "GvD9l0ICuFuq"
      }
    },
    {
      "cell_type": "markdown",
      "source": [
        "**Report**\n",
        "\n",
        "**Part 1**\n",
        "\n",
        "- In this section, compile the explanation of each of the questions.\n",
        "\n",
        "**Part 2**\n",
        "\n",
        "- Answer the following data analysis questions:\n",
        " 1. \"What are the key characteristics of the customer base in this dataset?\"\n",
        " 2. \"Which factors appear to have the strongest influence on product price or customer rating?\"\n",
        " 3. \"What are the most common missing data patterns, and what implications might they have on our analysis?\"\n",
        " 4. \"Based on your analysis, what are 2-3 recommendations you would make to improve sales or customer satisfaction?\""
      ],
      "metadata": {
        "id": "SkaQA3LKzVT9"
      }
    },
    {
      "cell_type": "markdown",
      "source": [
        "##**Answers**"
      ],
      "metadata": {
        "id": "23ZvV8WziL0d"
      }
    }
  ]
}