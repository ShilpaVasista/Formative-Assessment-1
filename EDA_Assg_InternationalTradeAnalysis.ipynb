{
  "nbformat": 4,
  "nbformat_minor": 0,
  "metadata": {
    "colab": {
      "provenance": []
    },
    "kernelspec": {
      "name": "python3",
      "display_name": "Python 3"
    },
    "language_info": {
      "name": "python"
    }
  },
  "cells": [
    {
      "cell_type": "markdown",
      "source": [
        "**Assignment Submission Guidelines**\n",
        "\n",
        "**1. Submission Platform:**\n",
        "\n",
        "- Submit your completed assignment through Google Classroom.\n",
        "\n",
        "**2. Submission Format:**\n",
        "\n",
        "- Submit the Google Colab Notebook (.ipynb file) provided as the assignment template.\n",
        "- Do not create a new notebook. Fill in the provided template.\n",
        "\n",
        "**3. Template Completion:**\n",
        "\n",
        "The template notebook contains:\n",
        "- The code to generate the student_performance_detailed_nan.csv dataset.\n",
        "- Placeholders for your code and explanations for each question.\n",
        "\n",
        "Follow the instructions within the template.\n",
        "- Code Cells:\n",
        "  - Place your code solutions directly in the designated code cells below each question.\n",
        "- Markdown Cells:\n",
        "  - Provide your explanations and justifications in the designated Markdown cells.\n",
        "- Report section:\n",
        "  - Complete the markdown section at the bottom of the notebook titled \"Report\".\n",
        "  - In this section, compile the explanation of each of the questions.\n",
        "  - Answer the following data analysis questions:\n",
        "    1.  What are the key characteristics of the student population in this dataset?\n",
        "    2. Which factors appear to have the strongest influence on student grades?\n",
        "    3. What are the most common missing data patterns, and what implications might they have?\n",
        "    4. Based on your analysis, what are 2-3 recommendations you would make to improve student performance?\n",
        "\n",
        "- Do not modify the structure of the template notebook.\n",
        "\n",
        "**4. File Naming:**\n",
        "\n",
        "Ensure the file name remains as provided in the template. Do not rename the file.\n",
        "\n",
        "**5. Timely Submission:**\n",
        "\n",
        "- Submit your completed template notebook by the deadline: **24th of March, 2025**.\n",
        "- Late submissions will be penalized as follows:\n",
        "- Submissions within **5:00pm 26th of March, 2025**  will receive a maximum of 5 marks for timely submission.\n",
        "Submissions after  will receive 0 marks for timely submission.\n",
        "\n",
        "**6. Report:**\n",
        "\n",
        "- Complete the \"Report\" section at the end of your notebook.\n",
        "- Ensure your report is:\n",
        "  - Well-organized and easy to read.\n",
        "  - Clear and concise.\n",
        "  - Free of grammatical errors.\n",
        "\n",
        "**7. Code Execution:**\n",
        "\n",
        "Ensure your completed notebook runs without errors from top to bottom.\n",
        "Before submitting, restart the kernel and run all cells to confirm reproducibility.\n",
        "\n",
        "\n",
        "\n",
        "**8. Academic Integrity:**\n",
        "\n",
        "All work must be your own.\n",
        "Plagiarism will result in a failing grade.\n",
        "Cite any external resources you use.\n",
        "\n",
        "\n",
        "\n",
        "**Tips for Success:**\n",
        "\n",
        "- Start the assignment early.\n",
        "- Read the instructions within the template carefully.\n",
        "- Plan your approach before coding.\n",
        "- Test your code thoroughly.\n",
        "- Document your work clearly.\n",
        "- Review the rubrics to understand the grading criteria.\n"
      ],
      "metadata": {
        "id": "nBRm_jBvrpQO"
      }
    },
    {
      "cell_type": "markdown",
      "source": [
        "**Grading Rubrics:**\n",
        "\n",
        "Total 50 Marks\n",
        "\n",
        "- Timely Submission: 10 Marks\n",
        "- Report : 10 Marks\n",
        "- Level 1 (Basic Questions): 5 Marks (1 x 5 = 5)\n",
        "- Level 2 (Intermediate Questions): 10 Marks (2 x 5 = 10)\n",
        "- Level 3 (Advanced Questions): 15 Marks (3 x 5 = 15)"
      ],
      "metadata": {
        "id": "7TUQprCqru-F"
      }
    },
    {
      "cell_type": "markdown",
      "source": [
        "**Assignment: International Trade Analysis**\n",
        "\n",
        "**Background:**\n",
        "\n",
        "You are a data analyst working for \"Global Trade Insights,\" a firm specializing in international trade analytics. Global Trade Insights partners with governments, businesses, and international organizations to provide data-driven insights into trade patterns and trends. Your team has been tasked with analyzing datasets containing details of international exports and imports. These datasets, compiled from raw sources, contain information on global trade transactions, including trade values, product categories, and country details.\n",
        "\n",
        "Your goal is to leverage this data to uncover key patterns in international trade and identify opportunities for improved trade policies and business strategies. By identifying these trends, you can provide actionable recommendations to stakeholders for better trade facilitation, market access, and economic growth."
      ],
      "metadata": {
        "id": "tvWdru6Bk1Q9"
      }
    },
    {
      "cell_type": "code",
      "source": [
        "pip install Faker"
      ],
      "metadata": {
        "id": "zoNLalXUlhTM"
      },
      "execution_count": null,
      "outputs": []
    },
    {
      "cell_type": "code",
      "source": [
        "import pandas as pd\n",
        "import numpy as np\n",
        "from faker import Faker\n",
        "import random\n",
        "\n",
        "# Initialize Faker\n",
        "fake = Faker()\n",
        "\n",
        "# Generate Export Data\n",
        "df_export = pd.DataFrame({\n",
        "    'export_id': range(1, 501),\n",
        "    'exporter_country': [fake.country() for _ in range(500)],\n",
        "    'importer_country': [fake.country() for _ in range(500)],\n",
        "    'product_category': np.random.choice(['Electronics', 'Agriculture', 'Textiles', 'Machinery', 'Pharmaceuticals'], 500),\n",
        "    'trade_value': np.round(np.random.uniform(1000, 500000, 500), 2),\n",
        "    'currency': np.random.choice(['USD', 'EUR', 'GBP', 'JPY', 'INR'], 500),\n",
        "    'export_date': [fake.date_this_decade() for _ in range(500)]\n",
        "})\n",
        "\n",
        "df_export.to_csv('export_data.csv', index=False)\n",
        "\n",
        "# Generate Import Data\n",
        "df_import = pd.DataFrame({\n",
        "    'import_id': range(1, 501),\n",
        "    'importer_country': [fake.country() for _ in range(500)],\n",
        "    'exporter_country': [fake.country() for _ in range(500)],\n",
        "    'product_category': np.random.choice(['Electronics', 'Agriculture', 'Textiles', 'Machinery', 'Pharmaceuticals'], 500),\n",
        "    'trade_value': np.round(np.random.uniform(1000, 500000, 500), 2),\n",
        "    'currency': np.random.choice(['USD', 'EUR', 'GBP', 'JPY', 'INR'], 500),\n",
        "    'import_date': [fake.date_this_decade() for _ in range(500)]\n",
        "})\n",
        "\n",
        "df_import.to_csv('import_data.csv', index=False)\n",
        "\n",
        "print(\"Synthetic datasets generated: 'export_data.csv' and 'import_data.csv'\")\n"
      ],
      "metadata": {
        "id": "z_MS-rbLlUEe"
      },
      "execution_count": null,
      "outputs": []
    },
    {
      "cell_type": "markdown",
      "source": [
        "**Data**\n",
        "\n",
        "export_data.csv:\n",
        "- export_id: Unique identifier for each export transaction (integer).\n",
        "- exporter_country: Country exporting the goods (string).\n",
        "- importer_country: Country importing the goods (string).\n",
        "- product_category: Category of goods exported (string: Electronics, Agriculture, Textiles, Machinery, Pharmaceuticals).\n",
        "- trade_value: Monetary value of the exported goods (float).\n",
        "- currency: Currency in which trade value is recorded (string: USD, EUR, GBP, JPY, INR).\n",
        "- export_date: Date of the export transaction (date/string).\n",
        "\n",
        "import_data.csv:\n",
        "- import_id: Unique identifier for each import transaction (integer).\n",
        "- importer_country: Country receiving the goods (string).\n",
        "- exporter_country: Country sending the goods (string).\n",
        "- product_category: Category of goods imported (string: Electronics, Agriculture, Textiles, Machinery, Pharmaceuticals).\n",
        "- trade_value: Monetary value of the imported goods (float).\n",
        "currency: Currency in which trade value is recorded (string: USD, EUR, GBP, JPY, INR).\n",
        "- import_date: Date of the import transaction (date/string)."
      ],
      "metadata": {
        "id": "dxI3yxralApZ"
      }
    },
    {
      "cell_type": "markdown",
      "source": [
        "## **Beginner (RBT Levels: 2, 3):**\n",
        "\n",
        "Total: 5 Marks\n",
        "\n",
        "Each Question Carry 1 Mark"
      ],
      "metadata": {
        "id": "1uEEAtymlwZP"
      }
    },
    {
      "cell_type": "markdown",
      "source": [
        "**1. Data Loading and Exploration:**\n",
        "\n",
        "- Load export_data.csv and import_data.csv into Pandas DataFrames.\n",
        "- Display the first 5 rows and use .info() to display data types.\n"
      ],
      "metadata": {
        "id": "jaJp1J5hl6NZ"
      }
    },
    {
      "cell_type": "code",
      "execution_count": null,
      "metadata": {
        "id": "GnSYIGmAk0il"
      },
      "outputs": [],
      "source": [
        "# Data Loading and Exploration:\n",
        "# Load export_data.csv and import_data.csv into Pandas DataFrames.\n",
        "# Display the first 5 rows and use .info() to display data types.\n",
        "# Your Code Here"
      ]
    },
    {
      "cell_type": "markdown",
      "source": [
        "**Explanation**\n",
        "\n",
        "[Your explanation here]"
      ],
      "metadata": {
        "id": "xdYsTfR3r5b9"
      }
    },
    {
      "cell_type": "markdown",
      "source": [
        "**2. Data Merging:**\n",
        "- Merge the two datasets using an inner join on exporter_country and importer_country.\n",
        "- Display the first 5 rows of the merged DataFrame."
      ],
      "metadata": {
        "id": "EwgHebksmDZb"
      }
    },
    {
      "cell_type": "code",
      "source": [
        "# Data Merging:\n",
        "# Merge the two datasets using an inner join on exporter_country and importer_country.\n",
        "# Display the first 5 rows of the merged DataFrame.\n",
        "# Your Code Here"
      ],
      "metadata": {
        "id": "IPnziQMYmK8J"
      },
      "execution_count": null,
      "outputs": []
    },
    {
      "cell_type": "markdown",
      "source": [
        "**Explanation**\n",
        "\n",
        "[Your explanation here]"
      ],
      "metadata": {
        "id": "NWH1luIBr6Ra"
      }
    },
    {
      "cell_type": "markdown",
      "source": [
        "**3. Missing Value Identification:**\n",
        "\n",
        "Identify columns with missing values and report the count of missing values in each."
      ],
      "metadata": {
        "id": "PmyCwPM6maP3"
      }
    },
    {
      "cell_type": "code",
      "source": [
        "# Missing Value Identification:\n",
        "# Identify columns with missing values and report the count of missing values in each.\n",
        "# Your Code Here"
      ],
      "metadata": {
        "id": "YN3xiH1EmkXO"
      },
      "execution_count": null,
      "outputs": []
    },
    {
      "cell_type": "markdown",
      "source": [
        "**Explanation**\n",
        "\n",
        "[Your explanation here]"
      ],
      "metadata": {
        "id": "siZh8o4er6x2"
      }
    },
    {
      "cell_type": "markdown",
      "source": [
        "**4. Duplicate Row Removal:**\n",
        "\n",
        "Check for and remove any duplicate rows in the export_data.csv DataFrame."
      ],
      "metadata": {
        "id": "-7CPowbGnNI1"
      }
    },
    {
      "cell_type": "code",
      "source": [
        "# Duplicate Row Removal:\n",
        "# Check for and remove any duplicate rows in the export_data.csv DataFrame.\n",
        "# Your Code Here"
      ],
      "metadata": {
        "id": "aEqfm7JenRL1"
      },
      "execution_count": null,
      "outputs": []
    },
    {
      "cell_type": "markdown",
      "source": [
        "**Explanation**\n",
        "\n",
        "[Your explanation here]"
      ],
      "metadata": {
        "id": "GPBTOM-8r7St"
      }
    },
    {
      "cell_type": "markdown",
      "source": [
        "**5. Basic Column Renaming:**\n",
        "\n",
        "Rename the trade_value column in both datasets to trade_amount."
      ],
      "metadata": {
        "id": "qOvYmRz6nWo2"
      }
    },
    {
      "cell_type": "code",
      "source": [
        "# Basic Column Renaming:\n",
        "# Rename the trade_value column in both datasets to trade_amount.\n",
        "# Your Code Here"
      ],
      "metadata": {
        "id": "1dSxMnYCnaoz"
      },
      "execution_count": null,
      "outputs": []
    },
    {
      "cell_type": "markdown",
      "source": [
        "**Explanation**\n",
        "\n",
        "[Your explanation here]"
      ],
      "metadata": {
        "id": "j6rcUK08r7zk"
      }
    },
    {
      "cell_type": "markdown",
      "source": [
        "## **Intermediate (RBT Levels: 3, 4):**\n",
        "\n",
        "Total: 10 Marks\n",
        "\n",
        "Each Question Carry 2 Marks\n",
        "\n"
      ],
      "metadata": {
        "id": "_abzoeobnvaj"
      }
    },
    {
      "cell_type": "markdown",
      "source": [
        "**6. Missing Value Imputation:**\n",
        "\n",
        "- Impute missing values in the currency column with the mode (most frequent currency).\n",
        "- Impute missing values in export_date and import_date with the most recent date.\n"
      ],
      "metadata": {
        "id": "UuG76M5Fn0dX"
      }
    },
    {
      "cell_type": "code",
      "source": [
        "# Missing Value Imputation\n",
        "# Impute missing values in the currency column with the mode (most frequent currency).\n",
        "# Impute missing values in export_date and import_date with the most recent date.\n",
        "# Your Code Here"
      ],
      "metadata": {
        "id": "u_YrC374n8HS"
      },
      "execution_count": null,
      "outputs": []
    },
    {
      "cell_type": "markdown",
      "source": [
        "**Explanation**\n",
        "\n",
        "[Your explanation here]"
      ],
      "metadata": {
        "id": "uoltwyXZr8fP"
      }
    },
    {
      "cell_type": "markdown",
      "source": [
        "**7. Categorical Data Conversion:**\n",
        "\n",
        "Apply one-hot encoding to the product_category column in both datasets.\n"
      ],
      "metadata": {
        "id": "QrFXvq0PoEqB"
      }
    },
    {
      "cell_type": "code",
      "source": [
        "# Categorical Data Conversion:\n",
        "# Apply one-hot encoding to the product_category column in both datasets.\n",
        "# Your Code Here\n"
      ],
      "metadata": {
        "id": "bf1I4Le5oIHc"
      },
      "execution_count": null,
      "outputs": []
    },
    {
      "cell_type": "markdown",
      "source": [
        "**Explanation**\n",
        "\n",
        "[Your explanation here]"
      ],
      "metadata": {
        "id": "W5oJD7tMr88r"
      }
    },
    {
      "cell_type": "markdown",
      "source": [
        "**8. String Manipulation:**\n",
        "\n",
        "Convert the exporter_country and importer_country columns to uppercase."
      ],
      "metadata": {
        "id": "7DYSfZ1doRjy"
      }
    },
    {
      "cell_type": "code",
      "source": [
        "# String Manipulation:\n",
        "# Convert the exporter_country and importer_country columns to uppercase.\n",
        "# Your Code Here"
      ],
      "metadata": {
        "id": "nIjWbotDoUbS"
      },
      "execution_count": null,
      "outputs": []
    },
    {
      "cell_type": "markdown",
      "source": [
        "**Explanation**\n",
        "\n",
        "[Your explanation here]"
      ],
      "metadata": {
        "id": "KqlQFZVyr9mE"
      }
    },
    {
      "cell_type": "markdown",
      "source": [
        "**9. Discretization and Binning:**\n",
        "\n",
        "Create a new categorical column called trade_amount_category by binning the trade_amount into \"Low\", \"Medium\", and \"High\" categories."
      ],
      "metadata": {
        "id": "Dj8YzkOdoeww"
      }
    },
    {
      "cell_type": "code",
      "source": [
        "# Discretization and Binning:\n",
        "# Create a new categorical column called trade_amount_category by binning the trade_amount into \"Low\", \"Medium\",\n",
        "# and \"High\" categories.\n",
        "# Your Code Here"
      ],
      "metadata": {
        "id": "y26qfYqeohdA"
      },
      "execution_count": null,
      "outputs": []
    },
    {
      "cell_type": "markdown",
      "source": [
        "**Explanation**\n",
        "\n",
        "[Your explanation here]"
      ],
      "metadata": {
        "id": "zaMnxX_pr-Mw"
      }
    },
    {
      "cell_type": "markdown",
      "source": [
        "**10. Outlier Detection:**\n",
        "\n",
        "Use the IQR method to identify outliers in the trade_amount column."
      ],
      "metadata": {
        "id": "56c4IvM3oryD"
      }
    },
    {
      "cell_type": "code",
      "source": [
        "# Outlier Detection:\n",
        "# Use the IQR method to identify outliers in the trade_amount column.\n",
        "# Your Code Here"
      ],
      "metadata": {
        "id": "Aam2W9jnovWb"
      },
      "execution_count": null,
      "outputs": []
    },
    {
      "cell_type": "markdown",
      "source": [
        "##**Advanced (RBT Levels: 4, 5):**\n",
        "\n",
        "Total: 15 Marks\n",
        "\n",
        "Each Question Carry 3 Marks"
      ],
      "metadata": {
        "id": "yvTiqQZWo3HQ"
      }
    },
    {
      "cell_type": "markdown",
      "source": [
        "**Explanation**\n",
        "\n",
        "[Your explanation here]"
      ],
      "metadata": {
        "id": "5UCa6_Fjr-uK"
      }
    },
    {
      "cell_type": "markdown",
      "source": [
        "**11. Grouped Aggregation:**\n",
        "\n",
        "Group exports by exporter_country and calculate the total trade_amount for each country."
      ],
      "metadata": {
        "id": "9hXAY8Woo7Wp"
      }
    },
    {
      "cell_type": "code",
      "source": [
        "# Grouped Aggregation:\n",
        "# Group exports by exporter_country and calculate the total trade_amount for each country.\n",
        "# Your Code Here"
      ],
      "metadata": {
        "id": "8cH4LpWIo_Ax"
      },
      "execution_count": null,
      "outputs": []
    },
    {
      "cell_type": "markdown",
      "source": [
        "**Explanation**\n",
        "\n",
        "[Your explanation here]"
      ],
      "metadata": {
        "id": "AERAn2KFr_Of"
      }
    },
    {
      "cell_type": "markdown",
      "source": [
        "**12. Grouped Transformation:**\n",
        "\n",
        "Normalize the trade_amount within each product_category using z-scores."
      ],
      "metadata": {
        "id": "sxSsqXRipDMp"
      }
    },
    {
      "cell_type": "code",
      "source": [
        "# Grouped Transformation:\n",
        "# Normalize the trade_amount within each product_category using z-scores.\n",
        "# Your Code Here"
      ],
      "metadata": {
        "id": "ghP9Dh2kpF8O"
      },
      "execution_count": null,
      "outputs": []
    },
    {
      "cell_type": "markdown",
      "source": [
        "**Explanation**\n",
        "\n",
        "[Your explanation here]"
      ],
      "metadata": {
        "id": "y1S_Mg4Xr_0v"
      }
    },
    {
      "cell_type": "markdown",
      "source": [
        "**13. Time Series Analysis:**\n",
        "\n",
        "Convert export_date and import_date to datetime objects.\n",
        "Group exports by month and calculate the average trade_amount for each month."
      ],
      "metadata": {
        "id": "xf2UMpg2pQnl"
      }
    },
    {
      "cell_type": "code",
      "source": [
        "# Time Series Analysis:\n",
        "# Convert export_date and import_date to datetime objects.\n",
        "# Group exports by month and calculate the average trade_amount for each month.\n",
        "# Your Code Here"
      ],
      "metadata": {
        "id": "nH2RkK6SpUcn"
      },
      "execution_count": null,
      "outputs": []
    },
    {
      "cell_type": "markdown",
      "source": [
        "**Explanation**\n",
        "\n",
        "[Your explanation here]"
      ],
      "metadata": {
        "id": "SRpvVohxsBGg"
      }
    },
    {
      "cell_type": "markdown",
      "source": [
        "**14. Correlation Analysis:**\n",
        "- Calculate the correlation between trade_amount and the number of characters in product_category.\n",
        "- Calculate the correlation between export and import trade values."
      ],
      "metadata": {
        "id": "tMx_KAXxpbY5"
      }
    },
    {
      "cell_type": "code",
      "source": [
        "# Correlation Analysis:\n",
        "# Calculate the correlation between trade_amount and the number of characters in product_category.\n",
        "# Calculate the correlation between export and import trade values.\n",
        "# Your Code Here"
      ],
      "metadata": {
        "id": "HQYtWIw9pfn-"
      },
      "execution_count": null,
      "outputs": []
    },
    {
      "cell_type": "markdown",
      "source": [
        "**Explanation**\n",
        "\n",
        "[Your explanation here]"
      ],
      "metadata": {
        "id": "Xeyvu_7IsCkj"
      }
    },
    {
      "cell_type": "markdown",
      "source": [
        "**15. Conditional Logic and Feature Engineering:**\n",
        "\n",
        "Create a new column called high_trade_country that indicates whether a country's total trade amount (exports + imports) is above a certain threshold."
      ],
      "metadata": {
        "id": "eW-sOBB-pmUc"
      }
    },
    {
      "cell_type": "code",
      "source": [
        "# Conditional Logic and Feature Engineering:\n",
        "# Create a new column called high_trade_country that indicates whether a country's\n",
        "# total trade amount (exports + imports) is above a certain threshold.\n",
        "# Your Code Here"
      ],
      "metadata": {
        "id": "h-3byre3pus7"
      },
      "execution_count": null,
      "outputs": []
    },
    {
      "cell_type": "markdown",
      "source": [
        "**Explanation**\n",
        "\n",
        "[Your explanation here]"
      ],
      "metadata": {
        "id": "z-CVTYh_sDZZ"
      }
    },
    {
      "cell_type": "markdown",
      "source": [
        "Report:\n",
        "\n",
        "Part 1: Compile the explanations for each question.\n",
        "Part 2: Answer the following data analysis questions:\n",
        "  1. What are the key characteristics of the export and import data?\n",
        "  2. What are the main trends in international trade?\n",
        "  3. How do product categories influence trade amounts?\n",
        "  4. Identify and discuss any potential data quality issues.\n",
        "  5. Provide 2-3 actionable business or policy insights based on your analysis."
      ],
      "metadata": {
        "id": "jp3kMMOBp2Sp"
      }
    }
  ]
}