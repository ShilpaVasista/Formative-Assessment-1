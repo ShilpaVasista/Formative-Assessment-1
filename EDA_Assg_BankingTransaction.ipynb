{
  "nbformat": 4,
  "nbformat_minor": 0,
  "metadata": {
    "colab": {
      "provenance": []
    },
    "kernelspec": {
      "name": "python3",
      "display_name": "Python 3"
    },
    "language_info": {
      "name": "python"
    }
  },
  "cells": [
    {
      "cell_type": "markdown",
      "source": [
        "**Assignment Submission Guidelines**\n",
        "\n",
        "**1. Submission Platform:**\n",
        "\n",
        "- Submit your completed assignment through Google Classroom.\n",
        "\n",
        "**2. Submission Format:**\n",
        "\n",
        "- Submit the Google Colab Notebook (.ipynb file) provided as the assignment template.\n",
        "- Do not create a new notebook. Fill in the provided template.\n",
        "\n",
        "**3. Template Completion:**\n",
        "\n",
        "The template notebook contains:\n",
        "- The code to generate the Banking Transaction csv datasets.\n",
        "- Placeholders for your code and explanations for each question.\n",
        "\n",
        "Follow the instructions within the template.\n",
        "- Code Cells:\n",
        "  - Place your code solutions directly in the designated code cells below each question.\n",
        "- Markdown Cells:\n",
        "  - Provide your explanations and justifications in the designated Markdown cells.\n",
        "- Report section:\n",
        "  - Complete the markdown section at the bottom of the notebook titled \"Report\".\n",
        "  - In this section, compile the explanation of each of the questions.\n",
        "  - Answer the following data analysis questions:\n",
        "    1.   What are the key characteristics of the customer and transaction data?\n",
        "    2. What are the main trends in customer spending?\n",
        "    3. How does customer age relate to transaction amounts\n",
        "    4. Identify and discuss any potential data quality issues\n",
        "    5. Provide 2-3 actionable business insights based on your analysis.\n",
        "\n",
        "- Do not modify the structure of the template notebook.\n",
        "\n",
        "**4. File Naming:**\n",
        "\n",
        "Ensure the file name remains as provided in the template. Do not rename the file.\n",
        "\n",
        "**5. Timely Submission:**\n",
        "\n",
        "- Submit your completed template notebook by the deadline: **24th of March, 2025**.\n",
        "- Late submissions will be penalized as follows:\n",
        "- Submissions within **5:00pm 26th of March, 2025**  will receive a maximum of 5 marks for timely submission.\n",
        "Submissions after  will receive 0 marks for timely submission.\n",
        "\n",
        "**6. Report:**\n",
        "\n",
        "- Complete the \"Report\" section at the end of your notebook.\n",
        "- Ensure your report is:\n",
        "  - Well-organized and easy to read.\n",
        "  - Clear and concise.\n",
        "  - Free of grammatical errors.\n",
        "\n",
        "**7. Code Execution:**\n",
        "\n",
        "Ensure your completed notebook runs without errors from top to bottom.\n",
        "Before submitting, restart the kernel and run all cells to confirm reproducibility.\n",
        "\n",
        "\n",
        "\n",
        "**8. Academic Integrity:**\n",
        "\n",
        "All work must be your own.\n",
        "Plagiarism will result in a failing grade.\n",
        "Cite any external resources you use.\n",
        "\n",
        "\n",
        "\n",
        "**Tips for Success:**\n",
        "\n",
        "- Start the assignment early.\n",
        "- Read the instructions within the template carefully.\n",
        "- Plan your approach before coding.\n",
        "- Test your code thoroughly.\n",
        "- Document your work clearly.\n",
        "- Review the rubrics to understand the grading criteria.\n"
      ],
      "metadata": {
        "id": "V5L5TLCTyWzp"
      }
    },
    {
      "cell_type": "markdown",
      "source": [
        "**Grading Rubrics:**\n",
        "\n",
        "Total 50 Marks\n",
        "\n",
        "- Timely Submission: 10 Marks\n",
        "- Report : 10 Marks\n",
        "- Level 1 (Basic Questions): 5 Marks (1 x 5 = 5)\n",
        "- Level 2 (Intermediate Questions): 10 Marks (2 x 5 = 10)\n",
        "- Level 3 (Advanced Questions): 15 Marks (3 x 5 = 15)"
      ],
      "metadata": {
        "id": "KuApPrY4xHsQ"
      }
    },
    {
      "cell_type": "markdown",
      "source": [
        "##**Assignment**"
      ],
      "metadata": {
        "id": "-160l66H1rRa"
      }
    },
    {
      "cell_type": "markdown",
      "source": [
        "**Background**\n",
        "\n",
        "You are a data analyst working for \"FinTech Insights,\" a consultancy specializing in data-driven financial analysis. FinTech Insights partners with banks, credit unions, and financial technology companies to optimize their operations and enhance customer experiences through in-depth data analysis. Your team has been assigned the task of analyzing a comprehensive dataset of banking transactions and customer details. This dataset, compiled from raw sources, contains information on a diverse group of bank customers, including their demographics, transaction histories, and account balances. Your goal is to leverage this data to uncover key patterns in customer behavior and identify opportunities for improved financial services. By identifying these trends, you can provide actionable recommendations to financial institutions for better customer engagement, risk management, and service optimization."
      ],
      "metadata": {
        "id": "5vHQVUMmoixt"
      }
    },
    {
      "cell_type": "code",
      "execution_count": null,
      "metadata": {
        "colab": {
          "base_uri": "https://localhost:8080/"
        },
        "id": "bKAhCN7Aeez7",
        "outputId": "47ee1b9b-0c30-4be4-bd13-603dff304625"
      },
      "outputs": [
        {
          "output_type": "stream",
          "name": "stdout",
          "text": [
            "Synthetic student performance dataset generated: student_performance_detailed.csv\n"
          ]
        }
      ],
      "source": [
        "import pandas as pd\n",
        "import numpy as np\n",
        "from faker import Faker\n",
        "import random\n",
        "\n",
        "# Initialize Faker\n",
        "fake = Faker()\n",
        "\n",
        "# Generate Customer Data\n",
        "df_customers = pd.DataFrame({\n",
        "    'customer_id': range(1, 101),\n",
        "    'name': [fake.name() for _ in range(100)],\n",
        "    'age': np.random.randint(18, 80, 100),\n",
        "    'gender': np.random.choice(['Male', 'Female', 'Other'], 100),\n",
        "    'email': [fake.email() for _ in range(100)],\n",
        "    'city': [fake.city() for _ in range(100)]\n",
        "})\n",
        "\n",
        "df_customers.to_csv('customers_raw.csv', index=False)\n",
        "\n",
        "# Generate Transaction Data\n",
        "df_transactions = pd.DataFrame({\n",
        "    'transaction_id': range(1, 501),\n",
        "    'customer_id': np.random.choice(df_customers['customer_id'], 500),\n",
        "    'transaction_date': [fake.date_this_decade() for _ in range(500)],\n",
        "    'transaction_type': np.random.choice(['Deposit', 'Withdrawal', 'Payment', 'Transfer'], 500),\n",
        "    'amount': np.round(np.random.uniform(100, 5000, 500), 2),\n",
        "    'balance_after_transaction': np.round(np.random.uniform(1000, 20000, 500), 2)\n",
        "})\n",
        "\n",
        "df_transactions.to_csv('bank_transactions.csv', index=False)\n",
        "\n",
        "print(\"Synthetic datasets generated: 'customers_raw.csv' and 'bank_transactions.csv'\")\n"
      ]
    },
    {
      "cell_type": "markdown",
      "source": [
        "**The Data**\n",
        "\n",
        "customers_raw.csv:\n",
        "  - customer_id: Unique identifier for each customer (integer).\n",
        "  - name: Full name of the customer (string).\n",
        "  - age: Age of the customer (integer).\n",
        "  - gender: Gender of the customer (string: Male, Female, Other).\n",
        "  - email: Email address of the customer (string).\n",
        "  - city: City where the customer resides (string).\n",
        "\n",
        "bank_transactions.csv:\n",
        "  - transaction_id: Unique identifier for each transaction (integer).\n",
        "  - customer_id: Identifier linking transactions to customers (integer).\n",
        "  - transaction_date: Date of the transaction (date/string).\n",
        "  - transaction_type: Type of transaction (string: Deposit, Withdrawal, Payment, Transfer).\n",
        "  - amount: Transaction amount (float).\n",
        "  - balance_after_transaction: Account balance after the transaction (float).\n"
      ],
      "metadata": {
        "id": "pffym1X7p6kb"
      }
    },
    {
      "cell_type": "markdown",
      "source": [
        "## **Basic (RBT Levels: 2, 3):**\n",
        "\n",
        "Total: 5 Marks\n",
        "\n",
        "Each Question Carry 1 Mark"
      ],
      "metadata": {
        "id": "IOGkhu55u7EP"
      }
    },
    {
      "cell_type": "markdown",
      "source": [
        "**Question 1. Data Loading and Initial Exploration:**\n",
        "\n",
        "- Load customers_raw.csv and bank_transactions.csv into Pandas DataFrames.\n",
        "- Display the first 5 rows and use .info() to display data types."
      ],
      "metadata": {
        "id": "VMuKMQsjqYRT"
      }
    },
    {
      "cell_type": "code",
      "source": [
        "# Question 1: Data Loading and Initial Exploration\n",
        "# Load customers_raw.csv and bank_transactions.csv into Pandas DataFrames.\n",
        "#Display the first 5 rows and use .info() to display data types.\n",
        "# Your Code Here:"
      ],
      "metadata": {
        "id": "xin7rfJiqz5x"
      },
      "execution_count": null,
      "outputs": []
    },
    {
      "cell_type": "markdown",
      "source": [
        "**Explanation**\n",
        "\n",
        "[Your explanation here]"
      ],
      "metadata": {
        "id": "nk4VmK0Iq1Zh"
      }
    },
    {
      "cell_type": "markdown",
      "source": [
        "**Question 2: Data Merging:**\n",
        "\n",
        "- Merge the two datasets using an inner join on customer_id.\n",
        "- Display the first 5 rows of the merged DataFrame."
      ],
      "metadata": {
        "id": "Xid0fq3aq-oa"
      }
    },
    {
      "cell_type": "code",
      "source": [
        "# Question 2: Data Merging\n",
        "# Merge the two datasets using an inner join on customer_id.\n",
        "# Display the first 5 rows of the merged DataFrame.\n",
        "# Your Code Here:"
      ],
      "metadata": {
        "id": "UtiTeJ6kq-_C"
      },
      "execution_count": null,
      "outputs": []
    },
    {
      "cell_type": "markdown",
      "source": [
        "**Explanation**\n",
        "\n",
        "[Your explanation here]"
      ],
      "metadata": {
        "id": "RXbg4fFprMXX"
      }
    },
    {
      "cell_type": "markdown",
      "source": [
        "**Question 3: Missing Value Identification:**\n",
        "\n",
        "Identify columns with missing values and report the count of missing values in each."
      ],
      "metadata": {
        "id": "eb4SIFzUrTMn"
      }
    },
    {
      "cell_type": "code",
      "source": [
        "# Question 3: Missing Value Identification\n",
        "# Identify columns with missing values and report the count of missing values in each.\n",
        "# Your Code Here:"
      ],
      "metadata": {
        "id": "2NA2q68ErZi8"
      },
      "execution_count": null,
      "outputs": []
    },
    {
      "cell_type": "markdown",
      "source": [
        "**Explanation**\n",
        "\n",
        "[Your explanation here]"
      ],
      "metadata": {
        "id": "Br74aBGIrbYU"
      }
    },
    {
      "cell_type": "markdown",
      "source": [
        "**Question 4: Duplicate Row Removal:**\n",
        "\n",
        "Check for and remove any duplicate rows in the bank_transactions.csv DataFrame.\n"
      ],
      "metadata": {
        "id": "E-2eKwwgrfyc"
      }
    },
    {
      "cell_type": "code",
      "source": [
        "# Question 4: Duplicate Row Removal\n",
        "# Check for and remove any duplicate rows in the bank_transactions.csv DataFrame.\n",
        "#Your Code Here:"
      ],
      "metadata": {
        "id": "Tw9EU-BereyX"
      },
      "execution_count": null,
      "outputs": []
    },
    {
      "cell_type": "markdown",
      "source": [
        "**Explanation**\n",
        "\n",
        "[Your explanation here]"
      ],
      "metadata": {
        "id": "iyQnG0LyrnKv"
      }
    },
    {
      "cell_type": "markdown",
      "source": [
        "**Question 5: Column Renaming:**\n",
        "\n",
        "Rename the amount column in bank_transactions.csv to transaction_amount."
      ],
      "metadata": {
        "id": "N1A9gc4rrokI"
      }
    },
    {
      "cell_type": "code",
      "source": [
        "# Question 5: Column Renaming\n",
        "# Rename the amount column in bank_transactions.csv to transaction_amount.\n",
        "# Your Code Here:"
      ],
      "metadata": {
        "id": "w_ZJDkUKrs6p"
      },
      "execution_count": null,
      "outputs": []
    },
    {
      "cell_type": "markdown",
      "source": [
        "**Explanation**\n",
        "\n",
        "[Your explanation here]"
      ],
      "metadata": {
        "id": "yI-gGOm9rt30"
      }
    },
    {
      "cell_type": "markdown",
      "source": [
        "##**Intermediate (RBT Levels: 3, 4):**\n",
        "\n",
        "Total: 10 Marks\n",
        "\n",
        "Each Question Carry 2 Marks\n",
        "\n"
      ],
      "metadata": {
        "id": "YFGbvgbHrwQG"
      }
    },
    {
      "cell_type": "markdown",
      "source": [
        "**Question 6: Missing Value Imputation:**\n",
        "\n",
        "Impute missing values in the age column with the median age.\n",
        "\n"
      ],
      "metadata": {
        "id": "KKS8BMOkr5JQ"
      }
    },
    {
      "cell_type": "code",
      "source": [
        "# Question 6: Missing Value Imputation\n",
        "# Impute missing values in the age column with the median age.\n",
        "# Your Code Here:"
      ],
      "metadata": {
        "id": "lXoU0J9er4m2"
      },
      "execution_count": null,
      "outputs": []
    },
    {
      "cell_type": "markdown",
      "source": [
        "**Explanation**\n",
        "\n",
        "[Your explanation here]"
      ],
      "metadata": {
        "id": "EGhDjPDKsG--"
      }
    },
    {
      "cell_type": "markdown",
      "source": [
        "Impute missing values in the email column with a placeholder string \"[email address removed]\".\n"
      ],
      "metadata": {
        "id": "V9kzr552sKaq"
      }
    },
    {
      "cell_type": "code",
      "source": [
        "# Impute missing values in the email column with a placeholder string \"[email address removed]\".\n",
        "# Your Code Here:"
      ],
      "metadata": {
        "id": "Mkktkt2_sUnB"
      },
      "execution_count": null,
      "outputs": []
    },
    {
      "cell_type": "markdown",
      "source": [
        "**Explanation**\n",
        "\n",
        "[Your explanation here]"
      ],
      "metadata": {
        "id": "ck8KxO5tsWkR"
      }
    },
    {
      "cell_type": "markdown",
      "source": [
        "**Question 7: Categorical Data Conversion:**\n",
        "\n",
        "Convert the gender column to numerical values (e.g., Male=0, Female=1, Other=2)."
      ],
      "metadata": {
        "id": "GK7ssffVscGc"
      }
    },
    {
      "cell_type": "code",
      "source": [
        "# Categorical Data Conversion\n",
        "\n",
        "# Convert the gender column to numerical values (e.g., Male=0, Female=1, Other=2).\n",
        "# Your Code Here:"
      ],
      "metadata": {
        "id": "z5-tC9AIshsR"
      },
      "execution_count": null,
      "outputs": []
    },
    {
      "cell_type": "markdown",
      "source": [
        "**Explanation**\n",
        "\n",
        "[Your explanation here]"
      ],
      "metadata": {
        "id": "Cp8XZjXdsihR"
      }
    },
    {
      "cell_type": "markdown",
      "source": [
        "**Question 8: String Manipulation:**\n",
        "\n",
        "Extract the domain name from the email column and create a new column called email_domain."
      ],
      "metadata": {
        "id": "ln2oQTezs2tM"
      }
    },
    {
      "cell_type": "code",
      "source": [
        "# Question 8: String Manipulation:\n",
        "# Extract the domain name from the email column and create a new column called email_domain.\n",
        "# Your Code Here:"
      ],
      "metadata": {
        "id": "pkzXo2WGs6Cj"
      },
      "execution_count": null,
      "outputs": []
    },
    {
      "cell_type": "markdown",
      "source": [
        "**Explanation**\n",
        "\n",
        "[Your explanation here]"
      ],
      "metadata": {
        "id": "Ye8S33-ks7-Z"
      }
    },
    {
      "cell_type": "markdown",
      "source": [
        "**Question 9: Discretization and Binning:**\n",
        "\n",
        "Create a new categorical column called amount_category by binning the transaction_amount into \"Low\", \"Medium\", and \"High\" categories.\n"
      ],
      "metadata": {
        "id": "zWebkA95tBAx"
      }
    },
    {
      "cell_type": "code",
      "source": [
        "# Discretization and Binning\n",
        "# Create a new categorical column called amount_category by binning the transaction_amount into \"Low\", \"Medium\", and \"High\" categories.\n",
        "# Your Code Here:"
      ],
      "metadata": {
        "id": "KSphwJ3atEnM"
      },
      "execution_count": null,
      "outputs": []
    },
    {
      "cell_type": "markdown",
      "source": [
        "**Explanation**\n",
        "\n",
        "[Your explanation here]"
      ],
      "metadata": {
        "id": "lY2kWLUttFnK"
      }
    },
    {
      "cell_type": "markdown",
      "source": [
        "**Question 10: Outlier Detection:**\n",
        "\n",
        "Use the IQR method to identify outliers in the transaction_amount column.\n"
      ],
      "metadata": {
        "id": "Co_40ItytK66"
      }
    },
    {
      "cell_type": "code",
      "source": [
        "# Question 10: Dummy Variable Creation and Stacked Bar Plot\n",
        "# Create dummy variables for the 'Gender' and 'SchoolType' columns. Explain how dummy variables are used in data analysis. Create a stacked bar plot to visualize the distribution of 'Gender' within each 'SchoolType'.\n",
        "# Your Code Here:"
      ],
      "metadata": {
        "id": "Dfu0AxIDtOVh"
      },
      "execution_count": null,
      "outputs": []
    },
    {
      "cell_type": "markdown",
      "source": [
        "**Explanation**\n",
        "\n",
        "[Your explanation here]"
      ],
      "metadata": {
        "id": "WcqeN9MUtQZv"
      }
    },
    {
      "cell_type": "markdown",
      "source": [
        "##**Advanced (RBT Levels: 4, 5):**\n",
        "\n",
        "Total: 15 Marks\n",
        "\n",
        "Each Question Carry 3 Marks"
      ],
      "metadata": {
        "id": "QpPOrEp6tSh8"
      }
    },
    {
      "cell_type": "markdown",
      "source": [
        "**Question 11: Grouped Aggregation:**\n",
        "\n",
        "Group transactions by customer_id and calculate the total spending for each customer."
      ],
      "metadata": {
        "id": "dT7J-qPDtZEa"
      }
    },
    {
      "cell_type": "code",
      "source": [
        "# Question 11: Grouped Aggregation\n",
        "# Group transactions by customer_id and calculate the total spending for each customer.\n",
        "# Your Code Here:"
      ],
      "metadata": {
        "id": "VUpVUV8Gtc_r"
      },
      "execution_count": null,
      "outputs": []
    },
    {
      "cell_type": "markdown",
      "source": [
        "**Explanation**\n",
        "\n",
        "[Your explanation here]"
      ],
      "metadata": {
        "id": "Z-4SlRaKtgMi"
      }
    },
    {
      "cell_type": "markdown",
      "source": [
        "**Question 12: Grouped Transformation**\n",
        "\n",
        "Normalize the transaction_amount within each transaction_type category using z-scores.\n"
      ],
      "metadata": {
        "id": "ujJXl0QctiUE"
      }
    },
    {
      "cell_type": "code",
      "source": [
        "# Question 12: Grouped Transformation\n",
        "# Normalize the transaction_amount within each transaction_type category using z-scores.\n",
        "# Your Code Here:"
      ],
      "metadata": {
        "id": "Dz_PEI1QtmcA"
      },
      "execution_count": null,
      "outputs": []
    },
    {
      "cell_type": "markdown",
      "source": [
        "**Explanation**\n",
        "\n",
        "[Your explanation here]"
      ],
      "metadata": {
        "id": "hA24kA1StoZw"
      }
    },
    {
      "cell_type": "markdown",
      "source": [
        "**Question 13: Time Series Analysis**\n",
        "\n",
        "- Convert transaction_date to datetime objects.\n",
        "- Group transactions by month and calculate the average transaction_amount for each month.\n"
      ],
      "metadata": {
        "id": "xgidKP7zts6U"
      }
    },
    {
      "cell_type": "code",
      "source": [
        "# Question 13: Time Series Analysis\n",
        "# Convert transaction_date to datetime objects.\n",
        "# Group transactions by month and calculate the average transaction_amount for each month.\n",
        "# Your Code Here:"
      ],
      "metadata": {
        "id": "LDRMBxYItv9H"
      },
      "execution_count": null,
      "outputs": []
    },
    {
      "cell_type": "markdown",
      "source": [
        "**Explanation**\n",
        "\n",
        "[Your explanation here]"
      ],
      "metadata": {
        "id": "bJMyhZ_ZtwxT"
      }
    },
    {
      "cell_type": "markdown",
      "source": [
        "**Question 14: Correlation Analysis**\n",
        "\n",
        "- Calculate the correlation between age and transaction_amount.\n",
        "- Calculate the correlation between transaction amount and numerical gender."
      ],
      "metadata": {
        "id": "RCGnLcnit1Tb"
      }
    },
    {
      "cell_type": "code",
      "source": [
        "# Question 14: Correlation Analysis\n",
        "# Calculate the correlation between age and transaction_amount.\n",
        "# Calculate the correlation between transaction amount and numerical gender.\n",
        "# Your Code Here:"
      ],
      "metadata": {
        "id": "vR04KOlgt7y2"
      },
      "execution_count": null,
      "outputs": []
    },
    {
      "cell_type": "markdown",
      "source": [
        "**Explanation**\n",
        "\n",
        "[Your explanation here]"
      ],
      "metadata": {
        "id": "YvQ4rx57t8fi"
      }
    },
    {
      "cell_type": "markdown",
      "source": [
        "**Question 15: Conditional Logic and Feature Engineering:**\n",
        "\n",
        "Create a new column called high_spending_customer that indicates whether a customer's total spending is above a certain threshold."
      ],
      "metadata": {
        "id": "hHpgcuoXuAuP"
      }
    },
    {
      "cell_type": "code",
      "source": [
        "# Question 15: Conditional Logic and Feature Engineering\n",
        "# Create a new column called high_spending_customer that indicates whether a customer's total spending is above a certain threshold.\n",
        "# Your Code Here:"
      ],
      "metadata": {
        "id": "tNQaFiZUuFMl"
      },
      "execution_count": null,
      "outputs": []
    },
    {
      "cell_type": "markdown",
      "source": [
        "**Explanation**\n",
        "\n",
        "[Your explanation here]"
      ],
      "metadata": {
        "id": "GvD9l0ICuFuq"
      }
    },
    {
      "cell_type": "markdown",
      "source": [
        "**Report**\n",
        "\n",
        "**Part 1**\n",
        "\n",
        "- In this section, compile the explanation of each of the questions.\n",
        "\n",
        "**Part 2**\n",
        "\n",
        "- Answer the following data analysis questions:\n",
        "  1. What are the key characteristics of the customer and transaction data?\n",
        "  2. What are the main trends in customer spending?\n",
        "  3. How does customer age relate to transaction amounts\n",
        "  4. Identify and discuss any potential data quality issues\n",
        "  5. Provide 2-3 actionable business insights based on your analysis."
      ],
      "metadata": {
        "id": "SkaQA3LKzVT9"
      }
    }
  ]
}