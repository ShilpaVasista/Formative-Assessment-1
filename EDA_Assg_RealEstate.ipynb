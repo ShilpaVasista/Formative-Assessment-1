{
  "nbformat": 4,
  "nbformat_minor": 0,
  "metadata": {
    "colab": {
      "provenance": []
    },
    "kernelspec": {
      "name": "python3",
      "display_name": "Python 3"
    },
    "language_info": {
      "name": "python"
    }
  },
  "cells": [
    {
      "cell_type": "markdown",
      "source": [
        "**Assignment Submission Guidelines**\n",
        "\n",
        "**1. Submission Platform:**\n",
        "\n",
        "- Submit your completed assignment through [Specify Platform: e.g., Google Classroom, Canvas, GitHub Classroom, etc.].\n",
        "\n",
        "**2. Submission Format:**\n",
        "\n",
        "- Submit the Google Colab Notebook (.ipynb file) provided as the assignment template.\n",
        "- Do not create a new notebook. Fill in the provided template.\n",
        "\n",
        "**3. Template Completion:**\n",
        "\n",
        "The template notebook contains:\n",
        "- The code to generate the student_performance_detailed_nan.csv dataset.\n",
        "- Placeholders for your code and explanations for each question.\n",
        "\n",
        "Follow the instructions within the template.\n",
        "- Code Cells:\n",
        "  - Place your code solutions directly in the designated code cells below each question.\n",
        "- Markdown Cells:\n",
        "  - Provide your explanations and justifications in the designated Markdown cells.\n",
        "- Report section:\n",
        "  - Complete the markdown section at the bottom of the notebook titled \"Report\".\n",
        "  - In this section, compile the explanation of each of the questions.\n",
        "  - Answer the following data analysis questions:\n",
        "     1. \"What are the key characteristics of the properties listed in this dataset?\"\n",
        "     2. \"Which factors appear to have the strongest influence on property prices?\"\n",
        "     3. \"What are the most common missing data patterns, and what implications might they have on our analysis?\"\n",
        "     4. \"Based on your analysis, what are 2-3 recommendations you would make to improve property sales or listings?\"\n",
        "\n",
        "- Do not modify the structure of the template notebook.\n",
        "\n",
        "**4. File Naming:**\n",
        "\n",
        "Ensure the file name remains as provided in the template. Do not rename the file.\n",
        "\n",
        "**5. Timely Submission:**\n",
        "\n",
        "- Submit your completed template notebook by the deadline: **24th of March, 2025**.\n",
        "- Late submissions will be penalized as follows:\n",
        "- Submissions within **5:00pm 26th of March, 2025**  will receive a maximum of 5 marks for timely submission.\n",
        "Submissions after  will receive 0 marks for timely submission.\n",
        "\n",
        "**6. Report:**\n",
        "\n",
        "- Complete the \"Report\" section at the end of your notebook.\n",
        "- Ensure your report is:\n",
        "  - Well-organized and easy to read.\n",
        "  - Clear and concise.\n",
        "  - Free of grammatical errors.\n",
        "\n",
        "**7. Code Execution:**\n",
        "\n",
        "Ensure your completed notebook runs without errors from top to bottom.\n",
        "Before submitting, restart the kernel and run all cells to confirm reproducibility.\n",
        "\n",
        "\n",
        "\n",
        "**8. Academic Integrity:**\n",
        "\n",
        "All work must be your own.\n",
        "Plagiarism will result in a failing grade.\n",
        "Cite any external resources you use.\n",
        "\n",
        "\n",
        "\n",
        "**Tips for Success:**\n",
        "\n",
        "- Start the assignment early.\n",
        "- Read the instructions within the template carefully.\n",
        "- Plan your approach before coding.\n",
        "- Test your code thoroughly.\n",
        "- Document your work clearly.\n",
        "- Review the rubrics to understand the grading criteria.\n"
      ],
      "metadata": {
        "id": "V5L5TLCTyWzp"
      }
    },
    {
      "cell_type": "markdown",
      "source": [
        "**Grading Rubrics:**\n",
        "\n",
        "Total 50 Marks\n",
        "\n",
        "- Timely Submission: 10 Marks\n",
        "- Report : 10 Marks\n",
        "- Level 1 (Basic Questions): 5 Marks (1 x 5 = 5)\n",
        "- Level 2 (Intermediate Questions): 10 Marks (2 x 5 = 10)\n",
        "- Level 3 (Advanced Questions): 15 Marks (3 x 5 = 15)"
      ],
      "metadata": {
        "id": "KuApPrY4xHsQ"
      }
    },
    {
      "cell_type": "markdown",
      "source": [
        "##**Assignment**"
      ],
      "metadata": {
        "id": "-160l66H1rRa"
      }
    },
    {
      "cell_type": "markdown",
      "source": [
        "**Background**\n",
        "\n",
        "You are a data analyst working for \"EduMetrics,\" a specialized educational consultancy. EduMetrics partners with schools, universities, and educational organizations to improve student outcomes and optimize resource allocation through data-driven insights.\n",
        "\n",
        "Your team has been tasked with analyzing a comprehensive dataset of student performance and related factors. This dataset, which you've compiled, contains information on a diverse group of students, including their demographics, academic performance, behavioral indicators, and school-related factors.\n",
        "\n",
        "Your goal is to leverage this data to uncover key factors that influence student success. By identifying these trends, you can provide actionable recommendations to educational institutionsld text"
      ],
      "metadata": {
        "id": "5vHQVUMmoixt"
      }
    },
    {
      "cell_type": "code",
      "execution_count": null,
      "metadata": {
        "colab": {
          "base_uri": "https://localhost:8080/"
        },
        "id": "bKAhCN7Aeez7",
        "outputId": "4053a5b2-ece9-4a33-facf-2d3c83678d82"
      },
      "outputs": [
        {
          "output_type": "stream",
          "name": "stdout",
          "text": [
            "Synthetic real estate listings dataset generated: real_estate_listings_neighborhood.csv\n"
          ]
        }
      ],
      "source": [
        "import pandas as pd\n",
        "import numpy as np\n",
        "import random\n",
        "from datetime import datetime, timedelta\n",
        "\n",
        "def generate_real_estate_data(num_properties=1000):\n",
        "    \"\"\"Generates synthetic real estate data with a Neighborhood column.\"\"\"\n",
        "\n",
        "    neighborhoods = ['Downtown', 'Suburbia', 'Hillside', 'Lakeside', 'Meadow', 'Uptown', 'Riverside', 'Forest', 'Valley']\n",
        "\n",
        "    data = []\n",
        "    for property_id in range(1, num_properties + 1):\n",
        "        property_type = random.choice(['House', 'Apartment', 'Condo', 'Townhouse'])\n",
        "        bedrooms = random.randint(1, 5)\n",
        "        bathrooms = random.randint(1, 4)\n",
        "        square_footage = random.randint(800, 3000)\n",
        "        location = random.choice(['Urban', 'Suburban', 'Rural'])\n",
        "        price = np.random.uniform(100000, 1000000)\n",
        "        year_built = random.randint(1950, 2023)\n",
        "        has_garage = random.choice([True, False])\n",
        "        has_pool = random.choice([True, False])\n",
        "        days_on_market = random.randint(1, 180)\n",
        "        property_condition = random.choice(['Excellent', 'Good', 'Average', 'Poor', np.nan])\n",
        "        neighborhood = random.choice(neighborhoods) #add neighborhood column\n",
        "\n",
        "        data.append({\n",
        "            'PropertyID': property_id,\n",
        "            'PropertyType': property_type,\n",
        "            'Bedrooms': bedrooms,\n",
        "            'Bathrooms': bathrooms,\n",
        "            'SquareFootage': square_footage,\n",
        "            'Location': location,\n",
        "            'Price': price,\n",
        "            'YearBuilt': year_built,\n",
        "            'HasGarage': has_garage,\n",
        "            'HasPool': has_pool,\n",
        "            'DaysOnMarket': days_on_market,\n",
        "            'PropertyCondition': property_condition,\n",
        "            'Neighborhood': neighborhood #add neighborhood column\n",
        "        })\n",
        "\n",
        "    df = pd.DataFrame(data)\n",
        "    return df\n",
        "\n",
        "# Generate and save the dataset\n",
        "real_estate_df = generate_real_estate_data()\n",
        "real_estate_df.to_csv('real_estate_listings_neighborhood.csv', index=False)\n",
        "\n",
        "print(\"Synthetic real estate listings dataset generated: real_estate_listings_neighborhood.csv\")"
      ]
    },
    {
      "cell_type": "markdown",
      "source": [
        "**The Data**\n",
        "\n",
        "The Data\n",
        "\n",
        "The data comes from a compilation by PropertyInsights, available in 'real_estate_listings_neighborhood.csv'. Each row represents a single property listing:\n",
        "\n",
        "-PropertyID - Unique identifier for each property.\n",
        "\n",
        "-PropertyType - Type of property:\n",
        "\n",
        "          - House\n",
        "          - Apartment\n",
        "          - Condo\n",
        "          - Townhouse\n",
        "\n",
        "-Bedrooms - Number of bedrooms.\n",
        "\n",
        "-Bathrooms - Number of bathrooms.\n",
        "\n",
        "-SquareFootage - Square footage of the property.\n",
        "\n",
        "-Location - Location of the property:\n",
        "\n",
        "      - Urban\n",
        "      - Suburban\n",
        "      - Rural\n",
        "\n",
        "-Price - Listing price of the property (in USD).\n",
        "\n",
        "-YearBuilt - Year the property was built.\n",
        "\n",
        "-HasGarage - Indicates whether the property has a garage:\n",
        "\n",
        "      - True\n",
        "      - False\n",
        "\n",
        "-HasPool - Indicates whether the property has a pool:\n",
        "\n",
        "      - True\n",
        "      - False\n",
        "\n",
        "-DaysOnMarket - Number of days the property has been on the market.\n",
        "\n",
        "-PropertyCondition - Condition of the property:\n",
        "\n",
        "      - Excellent\n",
        "      - Good\n",
        "      - Average\n",
        "      - Poor\n",
        "      - NaN (if not specified)\n",
        "\n",
        "-Neighborhood - The name of the neighborhood the property is located in.\n",
        "\n",
        "      - Downtown\n",
        "      - Suburbia\n",
        "      - Hillside\n",
        "      - Lakeside\n",
        "      - Meadow\n",
        "      - Uptown\n",
        "      - Riverside\n",
        "      - Forest\n",
        "      - Valley"
      ],
      "metadata": {
        "id": "pffym1X7p6kb"
      }
    },
    {
      "cell_type": "markdown",
      "source": [
        "## **Basic (RBT Levels: 2, 3):**\n",
        "\n",
        "Total: 5 Marks\n",
        "\n",
        "Each Question Carry 1 Mark"
      ],
      "metadata": {
        "id": "IOGkhu55u7EP"
      }
    },
    {
      "cell_type": "markdown",
      "source": [
        "**Question 1. Missing Value Identification:**\n",
        "\n",
        "Identify the columns in the real estate dataset that contain missing values. How many missing values are present in each column?"
      ],
      "metadata": {
        "id": "VMuKMQsjqYRT"
      }
    },
    {
      "cell_type": "code",
      "source": [
        "# Question 1: Missing Value Identification\n",
        "# Identify the columns in the real estate dataset that contain missing values.\n",
        "# How many missing values are present in each column?\n",
        "\n",
        "# Your Code Here:\n",
        "\n",
        "# ... your code here ..."
      ],
      "metadata": {
        "id": "xin7rfJiqz5x"
      },
      "execution_count": null,
      "outputs": []
    },
    {
      "cell_type": "markdown",
      "source": [
        "**Explanation**\n",
        "\n",
        "[Your explanation here]"
      ],
      "metadata": {
        "id": "nk4VmK0Iq1Zh"
      }
    },
    {
      "cell_type": "markdown",
      "source": [
        "**Question 2: Basic Missing Value Handling**\n",
        "\n",
        "Remove all rows from the real estate dataset that contain at least one missing value. How many rows are removed? Explain why you chose this approach.\n"
      ],
      "metadata": {
        "id": "Xid0fq3aq-oa"
      }
    },
    {
      "cell_type": "code",
      "source": [
        "# Question 2: Basic Missing Value Handling\n",
        "# Remove all rows from the real estate dataset that contain at least one missing value.\n",
        "# How many rows are removed? Explain why you chose this approach.\n",
        "\n",
        "# Your Code Here:\n"
      ],
      "metadata": {
        "id": "UtiTeJ6kq-_C"
      },
      "execution_count": null,
      "outputs": []
    },
    {
      "cell_type": "markdown",
      "source": [
        "**Explanation**\n",
        "\n",
        "[Your explanation here]"
      ],
      "metadata": {
        "id": "RXbg4fFprMXX"
      }
    },
    {
      "cell_type": "markdown",
      "source": [
        "**Question 3: Data Type Conversion**\n",
        "\n",
        "Verify the data types of each column in the real estate dataset. Convert the 'Price' column to a float data type and the 'YearBuilt' column to an integer data type. Explain why these data types are appropriate."
      ],
      "metadata": {
        "id": "eb4SIFzUrTMn"
      }
    },
    {
      "cell_type": "code",
      "source": [
        "# Question 3: Data Type Conversion\n",
        "# Verify the data types of each column in the real estate dataset.\n",
        "# Convert the 'Price' column to a float data type and the 'YearBuilt' column to an integer data type.\n",
        "# Explain why these data types are appropriate.\n",
        "\n",
        "# Your Code Here:"
      ],
      "metadata": {
        "id": "2NA2q68ErZi8"
      },
      "execution_count": null,
      "outputs": []
    },
    {
      "cell_type": "markdown",
      "source": [
        "**Explanation**\n",
        "\n",
        "[Your explanation here]"
      ],
      "metadata": {
        "id": "Br74aBGIrbYU"
      }
    },
    {
      "cell_type": "markdown",
      "source": [
        "**Question 4: Renaming Columns**\n",
        "\n",
        "Rename the 'PropertyID' column to 'Listing_ID' and the 'SquareFootage' column to 'SqFt'. Explain why renaming columns can be useful."
      ],
      "metadata": {
        "id": "E-2eKwwgrfyc"
      }
    },
    {
      "cell_type": "code",
      "source": [
        "# Question 4: Renaming Columns\n",
        "# Rename the 'PropertyID' column to 'Listing_ID' and the 'SquareFootage' column to 'SqFt'.\n",
        "# Explain why renaming columns can be useful.\n",
        "\n",
        "# Your Code Here:"
      ],
      "metadata": {
        "id": "Tw9EU-BereyX"
      },
      "execution_count": null,
      "outputs": []
    },
    {
      "cell_type": "markdown",
      "source": [
        "**Explanation**\n",
        "\n",
        "[Your explanation here]"
      ],
      "metadata": {
        "id": "iyQnG0LyrnKv"
      }
    },
    {
      "cell_type": "markdown",
      "source": [
        "Question 5: Duplicate Row Removal\n",
        "\n",
        "Check for and remove any duplicate rows in the real estate dataset. How many duplicate rows were found and removed?"
      ],
      "metadata": {
        "id": "N1A9gc4rrokI"
      }
    },
    {
      "cell_type": "code",
      "source": [
        "# Question 5: Duplicate Row Removal\n",
        "# Check for and remove any duplicate rows in the real estate dataset.\n",
        "# How many duplicate rows were found and removed?\n",
        "\n",
        "# Your Code Here:"
      ],
      "metadata": {
        "id": "w_ZJDkUKrs6p"
      },
      "execution_count": null,
      "outputs": []
    },
    {
      "cell_type": "markdown",
      "source": [
        "**Explanation**\n",
        "\n",
        "[Your explanation here]"
      ],
      "metadata": {
        "id": "yI-gGOm9rt30"
      }
    },
    {
      "cell_type": "markdown",
      "source": [
        "##**Intermediate (RBT Levels: 3, 4):**\n",
        "\n",
        "Total: 10 Marks\n",
        "\n",
        "Each Question Carry 2 Marks\n",
        "\n"
      ],
      "metadata": {
        "id": "YFGbvgbHrwQG"
      }
    },
    {
      "cell_type": "markdown",
      "source": [
        "**Question 6: Targeted Missing Value Imputation**\n",
        "\n",
        "Impute the missing values in the 'PropertyCondition' column with the most frequent value (mode). Explain why you chose this imputation method.\n"
      ],
      "metadata": {
        "id": "KKS8BMOkr5JQ"
      }
    },
    {
      "cell_type": "code",
      "source": [
        "# Question 6: Targeted Missing Value Imputation\n",
        "#Impute the missing values in the 'PropertyCondition' column with the most frequent value (mode).\n",
        "# Explain why you chose this imputation method.\n",
        "\n",
        "# Your Code Here:"
      ],
      "metadata": {
        "id": "lXoU0J9er4m2"
      },
      "execution_count": null,
      "outputs": []
    },
    {
      "cell_type": "markdown",
      "source": [
        "**Explanation**\n",
        "\n",
        "[Your explanation here]"
      ],
      "metadata": {
        "id": "EGhDjPDKsG--"
      }
    },
    {
      "cell_type": "markdown",
      "source": [
        "\"Impute the missing values in the 'PropertyCondition' column with the most frequent value (mode). Before and after the imputation, calculate the percentage of each property condition. Discuss how the missing data, and the imputation, affects the distribution of the property condition column.\""
      ],
      "metadata": {
        "id": "V9kzr552sKaq"
      }
    },
    {
      "cell_type": "code",
      "source": [
        "# \"Impute the missing values in the 'PropertyCondition' column with the most frequent value (mode).\n",
        "# Before and after the imputation, calculate the percentage of each property condition.\n",
        "# Discuss how the missing data, and the imputation, affects the distribution of the property condition column.\"\n",
        "\n",
        "# Your Code Here:\n"
      ],
      "metadata": {
        "id": "Mkktkt2_sUnB"
      },
      "execution_count": null,
      "outputs": []
    },
    {
      "cell_type": "markdown",
      "source": [
        "**Explanation**\n",
        "\n",
        "[Your explanation here]"
      ],
      "metadata": {
        "id": "ck8KxO5tsWkR"
      }
    },
    {
      "cell_type": "markdown",
      "source": [
        "**Question 7: Binning Numerical Data and Visualization**\n",
        "\n",
        "Create a new categorical column called 'PriceRange' by binning the 'Price' column into appropriate price ranges (e.g., Low, Medium, High). Explain your binning strategy. Create a bar chart showing the distribution of properties in each price range.\n"
      ],
      "metadata": {
        "id": "GK7ssffVscGc"
      }
    },
    {
      "cell_type": "code",
      "source": [
        "# Question 7: Binning Numerical Data and Visualization\n",
        "#Create a new categorical column called 'PriceRange' by binning the 'Price' column into appropriate price ranges (e.g., Low, Medium, High).\n",
        "# Explain your binning strategy. Create a bar chart showing the distribution of properties in each price range.\n",
        "# Your Code Here:"
      ],
      "metadata": {
        "id": "z5-tC9AIshsR"
      },
      "execution_count": null,
      "outputs": []
    },
    {
      "cell_type": "markdown",
      "source": [
        "**Explanation**\n",
        "\n",
        "[Your explanation here]"
      ],
      "metadata": {
        "id": "Cp8XZjXdsihR"
      }
    },
    {
      "cell_type": "markdown",
      "source": [
        "Create a new categorical column called 'SqFtRange' by binning the 'SquareFootage' column into quantiles. Explain your binning strategy. Create a boxplot chart showing the distribution of 'Price' based on 'SqFtRange'."
      ],
      "metadata": {
        "id": "_iP8-WjVssGI"
      }
    },
    {
      "cell_type": "code",
      "source": [
        "# Create a new categorical column called 'SqFtRange' by binning the 'SquareFootage' column into quantiles.\n",
        "# Explain your binning strategy. Create a boxplot chart showing the distribution of 'Price' based on 'SqFtRange'.\n",
        "\n",
        "# Your Code Here:"
      ],
      "metadata": {
        "id": "Qcndp-8TspoR"
      },
      "execution_count": null,
      "outputs": []
    },
    {
      "cell_type": "markdown",
      "source": [
        "**Explanation**\n",
        "\n",
        "[Your explanation here]"
      ],
      "metadata": {
        "id": "XAhpsFIjsxZx"
      }
    },
    {
      "cell_type": "markdown",
      "source": [
        "**Question 8: Outlier Detection and Removal**\n",
        "\n",
        "Use the IQR method to identify and remove outliers from the 'Price' and 'SquareFootage' columns. Explain your outlier detection and removal process.\n"
      ],
      "metadata": {
        "id": "ln2oQTezs2tM"
      }
    },
    {
      "cell_type": "code",
      "source": [
        "# Question 8: Outlier Detection and Removal\n",
        "# Use the IQR method to identify and remove outliers from the 'Price' and 'SquareFootage' columns.\n",
        "# Explain your outlier detection and removal process.\n",
        "\n",
        "# Your Code Here:\n"
      ],
      "metadata": {
        "id": "pkzXo2WGs6Cj"
      },
      "execution_count": null,
      "outputs": []
    },
    {
      "cell_type": "markdown",
      "source": [
        "**Explanation**\n",
        "\n",
        "[Your explanation here]"
      ],
      "metadata": {
        "id": "Ye8S33-ks7-Z"
      }
    },
    {
      "cell_type": "markdown",
      "source": [
        "**Question 9: String Manipulation**\n",
        "\n",
        "Clean the 'Neighborhood' column by removing any leading or trailing whitespace. Convert all values to lowercase to ensure consistency."
      ],
      "metadata": {
        "id": "zWebkA95tBAx"
      }
    },
    {
      "cell_type": "code",
      "source": [
        "# Question 9: String Manipulation\n",
        "# Clean the 'Neighborhood' column by removing any leading or trailing whitespace.\n",
        "# Convert all values to lowercase to ensure consistency.\n",
        "\n",
        "# Your Code Here:"
      ],
      "metadata": {
        "id": "KSphwJ3atEnM"
      },
      "execution_count": null,
      "outputs": []
    },
    {
      "cell_type": "markdown",
      "source": [
        "**Explanation**\n",
        "\n",
        "[Your explanation here]"
      ],
      "metadata": {
        "id": "lY2kWLUttFnK"
      }
    },
    {
      "cell_type": "markdown",
      "source": [
        "**Question 10: Dummy Variable Creation and Stacked Bar Plot**\n",
        "\n",
        "Create dummy variables for the 'PropertyType' and 'Location' columns. Explain how dummy variables are used in data analysis. Create a stacked bar plot to visualize the distribution of 'PropertyType' within each 'Location'.\n"
      ],
      "metadata": {
        "id": "Co_40ItytK66"
      }
    },
    {
      "cell_type": "code",
      "source": [
        "# Question 10: Dummy Variable Creation and Stacked Bar Plot\n",
        "# Create dummy variables for the 'PropertyType' and 'Location' columns. Explain how dummy variables are used in data analysis.\n",
        "# Create a stacked bar plot to visualize the distribution of 'PropertyType' within each 'Location'.\n",
        "\n",
        "# Your Code Here:"
      ],
      "metadata": {
        "id": "Dfu0AxIDtOVh"
      },
      "execution_count": null,
      "outputs": []
    },
    {
      "cell_type": "markdown",
      "source": [
        "**Explanation**\n",
        "\n",
        "[Your explanation here]"
      ],
      "metadata": {
        "id": "WcqeN9MUtQZv"
      }
    },
    {
      "cell_type": "markdown",
      "source": [
        "##**Advanced (RBT Levels: 4, 5):**\n",
        "\n",
        "Total: 15 Marks\n",
        "\n",
        "Each Question Carry 3 Marks"
      ],
      "metadata": {
        "id": "QpPOrEp6tSh8"
      }
    },
    {
      "cell_type": "markdown",
      "source": [
        "**Question 11: Conditional Missing Value Imputation**\n",
        "\n",
        "Impute missing values in the 'PropertyCondition' column. If 'DaysOnMarket' is greater than 90, impute 'PropertyCondition' with 'Poor'. Otherwise, impute with the mode of the existing 'PropertyCondition' values. Explain your approach."
      ],
      "metadata": {
        "id": "dT7J-qPDtZEa"
      }
    },
    {
      "cell_type": "code",
      "source": [
        "# Question 11: Conditional Missing Value Imputation\n",
        "# Impute missing values in the 'PropertyCondition' column. If 'DaysOnMarket' is greater than 90, impute 'PropertyCondition' with 'Poor'.\n",
        "# Otherwise, impute with the mode of the existing 'PropertyCondition' values. Explain your approach.\n",
        "\n",
        "# Your Code Here:"
      ],
      "metadata": {
        "id": "VUpVUV8Gtc_r"
      },
      "execution_count": null,
      "outputs": []
    },
    {
      "cell_type": "markdown",
      "source": [
        "**Explanation**\n",
        "\n",
        "[Your explanation here]"
      ],
      "metadata": {
        "id": "Z-4SlRaKtgMi"
      }
    },
    {
      "cell_type": "markdown",
      "source": [
        "**Question 12: Custom Binning Function**\n",
        "\n",
        "Write a custom function to create an 'AgeCategory' column based on the 'YearBuilt' column. Categorize properties built before 1980 as 'Old', properties built between 1980 and 2000 as 'Mid-Age', and properties built after 2000 as 'New'. Apply this function to create the new column.\n"
      ],
      "metadata": {
        "id": "ujJXl0QctiUE"
      }
    },
    {
      "cell_type": "code",
      "source": [
        "# Question 12: Custom Binning Function\n",
        "# Write a custom function to create an 'AgeCategory' column based on the 'YearBuilt' column.\n",
        "# Categorize properties built before 1980 as 'Old', properties built between 1980 and 2000 as 'Mid-Age', and properties built after 2000 as 'New'.\n",
        "# Apply this function to create the new column.\n",
        "\n",
        "# Your Code Here:"
      ],
      "metadata": {
        "id": "Dz_PEI1QtmcA"
      },
      "execution_count": null,
      "outputs": []
    },
    {
      "cell_type": "markdown",
      "source": [
        "**Explanation**\n",
        "\n",
        "[Your explanation here]"
      ],
      "metadata": {
        "id": "hA24kA1StoZw"
      }
    },
    {
      "cell_type": "markdown",
      "source": [
        "**Question 13: Grouped Transformations and Line Chart**\n",
        "\n",
        "Calculate the average 'Price' for each 'Neighborhood'. Then create a new column called 'PriceNormalized' that represents each property's 'Price' as a z-score relative to its neighborhood's average. Create a line chart visualizing the average normalized Price across neighborhoods sorted by average normalized Price.\n"
      ],
      "metadata": {
        "id": "xgidKP7zts6U"
      }
    },
    {
      "cell_type": "code",
      "source": [
        "# Question 13: Grouped Transformations and Line Chart\n",
        "# Calculate the average 'Price' for each 'Neighborhood'. Then create a new column called 'PriceNormalized'\n",
        "# that represents each property's 'Price' as a z-score relative to its neighborhood's average.\n",
        "# Create a line chart visualizing the average normalized Price\n",
        "# across neighborhoods sorted by average normalized Price.\n",
        "\n",
        "# Your Code Here:"
      ],
      "metadata": {
        "id": "LDRMBxYItv9H"
      },
      "execution_count": null,
      "outputs": []
    },
    {
      "cell_type": "markdown",
      "source": [
        "**Explanation**\n",
        "\n",
        "[Your explanation here]"
      ],
      "metadata": {
        "id": "bJMyhZ_ZtwxT"
      }
    },
    {
      "cell_type": "markdown",
      "source": [
        "**Question 14: Data Sampling and Validation**\n",
        "\n",
        "Randomly sample 30% of the dataset. Use this sample to calculate the mean 'Price' for each 'Location'. Compare these means to the means calculated using the entire dataset. Discuss any differences and their potential implications."
      ],
      "metadata": {
        "id": "RCGnLcnit1Tb"
      }
    },
    {
      "cell_type": "code",
      "source": [
        "# Question 14: Data Sampling and Validation\n",
        "# Randomly sample 30% of the dataset. Use this sample to calculate the mean 'Price' for each 'Location'.\n",
        "# Compare these means to the means calculated using the entire dataset.\n",
        "# Discuss any differences and their potential implications.\n",
        "\n",
        "# Your Code Here:"
      ],
      "metadata": {
        "id": "vR04KOlgt7y2"
      },
      "execution_count": null,
      "outputs": []
    },
    {
      "cell_type": "markdown",
      "source": [
        "**Explanation**\n",
        "\n",
        "[Your explanation here]"
      ],
      "metadata": {
        "id": "YvQ4rx57t8fi"
      }
    },
    {
      "cell_type": "markdown",
      "source": [
        "**Question 15: Merging Hypothetical Data**\n",
        "\n",
        "Imagine you have a second dataset with neighborhood demographic information (e.g., average income, school ratings). Merge this hypothetical dataset with the real estate dataset using the 'Neighborhood' column as a key. Explain your merge strategy and how this merged data could be used for further analysis.\n"
      ],
      "metadata": {
        "id": "hHpgcuoXuAuP"
      }
    },
    {
      "cell_type": "code",
      "source": [
        "# Question 15: Merging Hypothetical Data\n",
        "# Imagine you have a second dataset with neighborhood demographic information (e.g., average income, school ratings).\n",
        "# Merge this hypothetical dataset with the real estate dataset using the 'Neighborhood' column as a key.\n",
        "# Explain your merge strategy and how this merged data could be used for further analysis.\n",
        "\n",
        "# Your Code Here:"
      ],
      "metadata": {
        "id": "tNQaFiZUuFMl"
      },
      "execution_count": null,
      "outputs": []
    },
    {
      "cell_type": "markdown",
      "source": [
        "**Explanation**\n",
        "\n",
        "[Your explanation here]"
      ],
      "metadata": {
        "id": "GvD9l0ICuFuq"
      }
    },
    {
      "cell_type": "markdown",
      "source": [
        "**Report**\n",
        "\n",
        "**Part 1**\n",
        "\n",
        "- In this section, compile the explanation of each of the questions.\n",
        "\n",
        "**Part 2**\n",
        "\n",
        "- Answer the following data analysis questions:\n",
        "  1. \"What are the key characteristics of the properties listed in this dataset?\"\n",
        "  2. \"Which factors appear to have the strongest influence on property prices?\"\n",
        "  3. \"What are the most common missing data patterns, and what implications might they have on our analysis?\"\n",
        "  4. \"Based on your analysis, what are 2-3 recommendations you would make to improve property sales or listings?\""
      ],
      "metadata": {
        "id": "SkaQA3LKzVT9"
      }
    }
  ]
}