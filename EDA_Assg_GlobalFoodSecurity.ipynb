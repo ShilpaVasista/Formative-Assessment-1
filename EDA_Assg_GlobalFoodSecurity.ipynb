{
  "nbformat": 4,
  "nbformat_minor": 0,
  "metadata": {
    "colab": {
      "provenance": []
    },
    "kernelspec": {
      "name": "python3",
      "display_name": "Python 3"
    },
    "language_info": {
      "name": "python"
    }
  },
  "cells": [
    {
      "cell_type": "markdown",
      "source": [
        "**Assignment Submission Guidelines**\n",
        "\n",
        "**1. Submission Platform:**\n",
        "\n",
        "- Submit your completed assignment through Google Classroom.\n",
        "\n",
        "**2. Submission Format:**\n",
        "\n",
        "- Submit the Google Colab Notebook (.ipynb file) provided as the assignment template.\n",
        "- Do not create a new notebook. Fill in the provided template.\n",
        "\n",
        "**3. Template Completion:**\n",
        "\n",
        "The template notebook contains:\n",
        "- The code to generate the Global Food Security Analysis csv dataset.\n",
        "- Placeholders for your code and explanations for each question.\n",
        "\n",
        "Follow the instructions within the template.\n",
        "- Code Cells:\n",
        "  - Place your code solutions directly in the designated code cells below each question.\n",
        "- Markdown Cells:\n",
        "  - Provide your explanations and justifications in the designated Markdown cells.\n",
        "- Report section:\n",
        "  - Complete the markdown section at the bottom of the notebook titled \"Report\".\n",
        "  - In this section, compile the explanation of each of the questions.\n",
        "  - Answer the following data analysis questions:\n",
        "    1.  What are the key characteristics of global food security based on this dataset?\n",
        "    2. Which factors appear to have the strongest influence on food security?\n",
        "    3. What are the most common missing data patterns, and what implications might they have?\n",
        "    4. Based on your analysis, what are 2-3 recommendations you would make to improve global food security?\n",
        "\n",
        "- Do not modify the structure of the template notebook.\n",
        "\n",
        "**4. File Naming:**\n",
        "\n",
        "Ensure the file name remains as provided in the template. Do not rename the file.\n",
        "\n",
        "**5. Timely Submission:**\n",
        "\n",
        "- Submit your completed template notebook by the deadline: **24th of March, 2025**.\n",
        "- Late submissions will be penalized as follows:\n",
        "- Submissions within **5:00pm 26th of March, 2025**  will receive a maximum of 5 marks for timely submission.\n",
        "Submissions after  will receive 0 marks for timely submission.\n",
        "\n",
        "**6. Report:**\n",
        "\n",
        "- Complete the \"Report\" section at the end of your notebook.\n",
        "- Ensure your report is:\n",
        "  - Well-organized and easy to read.\n",
        "  - Clear and concise.\n",
        "  - Free of grammatical errors.\n",
        "\n",
        "**7. Code Execution:**\n",
        "\n",
        "Ensure your completed notebook runs without errors from top to bottom.\n",
        "Before submitting, restart the kernel and run all cells to confirm reproducibility.\n",
        "\n",
        "\n",
        "\n",
        "**8. Academic Integrity:**\n",
        "\n",
        "All work must be your own.\n",
        "Plagiarism will result in a failing grade.\n",
        "Cite any external resources you use.\n",
        "\n",
        "\n",
        "\n",
        "**Tips for Success:**\n",
        "\n",
        "- Start the assignment early.\n",
        "- Read the instructions within the template carefully.\n",
        "- Plan your approach before coding.\n",
        "- Test your code thoroughly.\n",
        "- Document your work clearly.\n",
        "- Review the rubrics to understand the grading criteria.\n"
      ],
      "metadata": {
        "id": "V5L5TLCTyWzp"
      }
    },
    {
      "cell_type": "markdown",
      "source": [
        "**Grading Rubrics:**\n",
        "\n",
        "Total 50 Marks\n",
        "\n",
        "- Timely Submission: 10 Marks\n",
        "- Report : 10 Marks\n",
        "- Level 1 (Basic Questions): 5 Marks (1 x 5 = 5)\n",
        "- Level 2 (Intermediate Questions): 10 Marks (2 x 5 = 10)\n",
        "- Level 3 (Advanced Questions): 15 Marks (3 x 5 = 15)"
      ],
      "metadata": {
        "id": "KuApPrY4xHsQ"
      }
    },
    {
      "cell_type": "markdown",
      "source": [
        "##**Assignment**"
      ],
      "metadata": {
        "id": "-160l66H1rRa"
      }
    },
    {
      "cell_type": "markdown",
      "source": [
        "**Background**\n",
        "\n",
        "You are a data analyst working for \"Global Food Insights,\" a consultancy focused on analyzing global food security and providing data-driven recommendations. Your team has been tasked with analyzing a dataset containing various indicators of food security across different countries. This dataset includes information on food availability, access, utilization, and stability.\n",
        "\n",
        "Your goal is to leverage this data to identify key factors influencing food security and provide actionable recommendations to international organizations and governments."
      ],
      "metadata": {
        "id": "5vHQVUMmoixt"
      }
    },
    {
      "cell_type": "code",
      "execution_count": null,
      "metadata": {
        "colab": {
          "base_uri": "https://localhost:8080/"
        },
        "id": "bKAhCN7Aeez7",
        "outputId": "89f9a002-8ea4-4980-ac9a-07f33d862edf"
      },
      "outputs": [
        {
          "output_type": "stream",
          "name": "stdout",
          "text": [
            "Synthetic food security dataset generated: food_security_data.csv\n"
          ]
        }
      ],
      "source": [
        "import pandas as pd\n",
        "import numpy as np\n",
        "import random\n",
        "\n",
        "def generate_food_security_data(num_countries=150, num_years=5):\n",
        "    \"\"\"Generates synthetic food security data with specific events.\"\"\"\n",
        "\n",
        "    countries = [\n",
        "        \"United States\", \"China\", \"India\", \"Brazil\", \"Russia\", \"Japan\", \"Germany\", \"United Kingdom\",\n",
        "        \"France\", \"Italy\", \"Canada\", \"Australia\", \"Mexico\", \"Indonesia\", \"Nigeria\", \"Pakistan\",\n",
        "        \"Egypt\", \"South Africa\", \"Turkey\", \"Saudi Arabia\", \"Argentina\", \"Spain\", \"Poland\", \"Netherlands\",\n",
        "        \"Belgium\", \"Switzerland\", \"Sweden\", \"Norway\", \"Denmark\", \"Finland\", \"Ireland\", \"Portugal\",\n",
        "        \"Austria\", \"Greece\", \"Hungary\", \"Czech Republic\", \"Romania\", \"Ukraine\", \"Belarus\", \"Kazakhstan\",\n",
        "        \"Uzbekistan\", \"Vietnam\", \"Thailand\", \"Malaysia\", \"Singapore\", \"Philippines\", \"Bangladesh\",\n",
        "        \"Nepal\", \"Sri Lanka\", \"Cambodia\", \"Laos\", \"Myanmar\", \"New Zealand\", \"Chile\", \"Colombia\",\n",
        "        \"Peru\", \"Venezuela\", \"Ecuador\", \"Bolivia\", \"Paraguay\", \"Uruguay\", \"Algeria\", \"Morocco\",\n",
        "        \"Tunisia\", \"Libya\", \"Sudan\", \"Kenya\", \"Ethiopia\", \"Tanzania\", \"Uganda\", \"Ghana\", \"Ivory Coast\",\n",
        "        \"Cameroon\", \"Senegal\", \"Zambia\", \"Zimbabwe\", \"Angola\", \"Mozambique\", \"Botswana\", \"Namibia\",\n",
        "        \"Madagascar\", \"Iceland\", \"Greenland\", \"Cuba\", \"Dominican Republic\", \"Haiti\", \"Jamaica\",\n",
        "        \"Panama\", \"Costa Rica\", \"Nicaragua\", \"Honduras\", \"Guatemala\", \"El Salvador\", \"Kuwait\",\n",
        "        \"Qatar\", \"United Arab Emirates\", \"Oman\", \"Bahrain\", \"Jordan\", \"Lebanon\", \"Syria\", \"Iraq\",\n",
        "        \"Iran\", \"Afghanistan\", \"Mongolia\", \"North Korea\", \"South Korea\", \"Taiwan\", \"Georgia\",\n",
        "        \"Armenia\", \"Azerbaijan\", \"Kyrgyzstan\", \"Tajikistan\", \"Turkmenistan\", \"Moldova\", \"Slovakia\",\n",
        "        \"Slovenia\", \"Croatia\", \"Bosnia and Herzegovina\", \"Albania\", \"North Macedonia\", \"Serbia\",\n",
        "        \"Montenegro\", \"Estonia\", \"Latvia\", \"Lithuania\", \"Luxembourg\", \"Malta\", \"Cyprus\"\n",
        "    ]\n",
        "\n",
        "    data = []\n",
        "    for country in countries[:num_countries]:\n",
        "        for year in range(2018, 2018 + num_years):\n",
        "            # Generate random but somewhat realistic data\n",
        "            prevalence_undernourishment = max(0, np.random.normal(10, 5))\n",
        "            food_supply_quantity = max(100, np.random.normal(2500, 500))\n",
        "            food_production_index = max(50, np.random.normal(110, 15))\n",
        "            gdp_per_capita = max(500, np.random.normal(20000, 10000))\n",
        "            political_stability = np.random.normal(0, 1)  # Scale -2.5 to 2.5\n",
        "            import_dependency = max(0, np.random.normal(30, 15))\n",
        "            agricultural_land = max(5, np.random.normal(40, 20))\n",
        "            average_rainfall = max(100, np.random.normal(1000, 300))\n",
        "            average_temperature = max(-10, np.random.normal(20, 10))\n",
        "\n",
        "            # Generate specific events\n",
        "            natural_disaster_events = []\n",
        "            conflict_events = []\n",
        "\n",
        "            if random.random() < 0.2:  # 20% chance of a natural disaster\n",
        "                disaster_types = [\"Flood\", \"Drought\", \"Earthquake\", \"Hurricane\", \"Wildfire\"]\n",
        "                natural_disaster_events.append(random.choice(disaster_types))\n",
        "            if random.random() < 0.1:  # 10% chance of a conflict event\n",
        "                conflict_types = [\"Civil Unrest\", \"Localized Conflict\", \"Border Dispute\"]\n",
        "                conflict_events.append(random.choice(conflict_types))\n",
        "\n",
        "            data.append({\n",
        "                \"Country\": country,\n",
        "                \"Year\": year,\n",
        "                \"Prevalence of Undernourishment (%)\": prevalence_undernourishment,\n",
        "                \"Food Supply Quantity (kg/capita/year)\": food_supply_quantity,\n",
        "                \"Food Production Index (2014-2016=100)\": food_production_index,\n",
        "                \"GDP per Capita (USD)\": gdp_per_capita,\n",
        "                \"Political Stability and Absence of Violence/Terrorism\": political_stability,\n",
        "                \"Import Dependency Ratio (%)\": import_dependency,\n",
        "                \"Agricultural Land (% of land area)\": agricultural_land,\n",
        "                \"Average Rainfall (mm)\": average_rainfall,\n",
        "                \"Average Temperature (Celsius)\": average_temperature,\n",
        "                \"Natural Disaster Events\": \", \".join(natural_disaster_events) if natural_disaster_events else None,\n",
        "                \"Conflict Events\": \", \".join(conflict_events) if conflict_events else None,\n",
        "            })\n",
        "\n",
        "    df = pd.DataFrame(data)\n",
        "    return df\n",
        "\n",
        "# Generate and save the dataset\n",
        "food_security_df = generate_food_security_data()\n",
        "food_security_df.to_csv(\"food_security_data.csv\", index=False)\n",
        "print(\"Synthetic food security dataset generated: food_security_data.csv\")"
      ]
    },
    {
      "cell_type": "markdown",
      "source": [
        "**The Data**\n",
        "\n",
        "- **Country**: The name of the country.\n",
        "- **Year**: The year for which the data is recorded.\n",
        "- **Prevalence of Undernourishment (%)**: The percentage of the population suffering from undernourishment.\n",
        "- **Food Supply Quantity (kg/capita/year)**: The amount of food supply available per person per year, measured in kilograms.\n",
        "- **Food Production Index (2014-2016=100)**: An index representing the level of food production, with the base period of 2014-2016 set to 100.\n",
        "- **GDP per Capita (USD)**: The Gross Domestic Product per capita, measured in US dollars.\n",
        "- **Political Stability and Absence of Violence/Terrorism**: An index measuring the level of political stability and the absence of violence and terrorism. Higher values indicate greater stability.\n",
        "- **Import Dependency Ratio (%)**: The percentage of food that is imported, indicating the country's reliance on food imports.\n",
        "- **Agricultural Land (% of land area)**: The percentage of the country's total land area that is used for agricultural purposes.\n",
        "- **Average Rainfall (mm)**: The average annual rainfall in millimeters.\n",
        "- **Average Temperature (Celsius)**: The average annual temperature in degrees Celsius.\n",
        "- **Natural Disaster Events**: A comma-separated string listing specific natural disaster events that occurred in the country during the given year (e.g., \"Flood, Drought\"). If no natural disasters occurred, this column contains None.\n",
        "- **Conflict Events**: A comma-separated string listing specific conflict events that occurred in the country during the given year (e.g., \"Civil Unrest\"). If no conflict events occurred, this column contains None.\n"
      ],
      "metadata": {
        "id": "pffym1X7p6kb"
      }
    },
    {
      "cell_type": "markdown",
      "source": [
        "## **Basic (RBT Levels: 2, 3):**\n",
        "\n",
        "Total: 5 Marks\n",
        "\n",
        "Each Question Carry 1 Mark"
      ],
      "metadata": {
        "id": "IOGkhu55u7EP"
      }
    },
    {
      "cell_type": "markdown",
      "source": [
        "**Question 1. Missing Value Identification:**\n",
        "\n",
        "Identify the columns in the dataset that contain missing values. How many missing values are present in each column?"
      ],
      "metadata": {
        "id": "VMuKMQsjqYRT"
      }
    },
    {
      "cell_type": "code",
      "source": [
        "# Question 1: Missing Value Identification\n",
        "# Identify the columns in the dataset that contain missing values. How many missing values are present in each column?\n",
        "# Your Code Here:"
      ],
      "metadata": {
        "id": "xin7rfJiqz5x"
      },
      "execution_count": null,
      "outputs": []
    },
    {
      "cell_type": "markdown",
      "source": [
        "**Explanation**\n",
        "\n",
        "[Your explanation here]"
      ],
      "metadata": {
        "id": "nk4VmK0Iq1Zh"
      }
    },
    {
      "cell_type": "markdown",
      "source": [
        "**Question 2: Basic Missing Value Handling**\n",
        "\n",
        "Remove all rows that contain at least one missing value. How many rows are removed? Explain why you chose this approach.\n"
      ],
      "metadata": {
        "id": "Xid0fq3aq-oa"
      }
    },
    {
      "cell_type": "code",
      "source": [
        "# Question 2: Basic Missing Value Handling\n",
        "# Remove all rows that contain at least one missing value. How many rows are removed? Explain why you chose this approach.\n",
        "# Your Code Here:"
      ],
      "metadata": {
        "id": "UtiTeJ6kq-_C"
      },
      "execution_count": null,
      "outputs": []
    },
    {
      "cell_type": "markdown",
      "source": [
        "**Explanation**\n",
        "\n",
        "[Your explanation here]"
      ],
      "metadata": {
        "id": "RXbg4fFprMXX"
      }
    },
    {
      "cell_type": "markdown",
      "source": [
        "**Question 3: Data Type Conversion**\n",
        "\n",
        "Verify the data types of each column. Convert the 'Year' column to an integer data type and the 'Prevalence of Undernourishment (%)' column to a float data type. Explain why these data types are appropriate.\n"
      ],
      "metadata": {
        "id": "eb4SIFzUrTMn"
      }
    },
    {
      "cell_type": "code",
      "source": [
        "# Question 3: Data Type Conversion\n",
        "# Verify the data types of each column. Convert the 'Year' column to an integer data type and the 'Prevalence of Undernourishment (%)' column to a float data type.\n",
        "# Explain why these data types are appropriate.\n",
        "# Your Code Here:"
      ],
      "metadata": {
        "id": "2NA2q68ErZi8"
      },
      "execution_count": null,
      "outputs": []
    },
    {
      "cell_type": "markdown",
      "source": [
        "**Explanation**\n",
        "\n",
        "[Your explanation here]"
      ],
      "metadata": {
        "id": "Br74aBGIrbYU"
      }
    },
    {
      "cell_type": "markdown",
      "source": [
        "**Question 4: Renaming Columns**\n",
        "\n",
        "Rename the 'Prevalence of Undernourishment (%)' column to 'Undernourishment_Percentage' and the 'GDP per Capita (USD)' column to 'GDP_Per_Capita'. Explain why renaming columns can be useful.\n"
      ],
      "metadata": {
        "id": "E-2eKwwgrfyc"
      }
    },
    {
      "cell_type": "code",
      "source": [
        "# Question 4: Renaming Columns\n",
        "# Rename the 'Prevalence of Undernourishment (%)' column to 'Undernourishment_Percentage' and the 'GDP per Capita (USD)' column to 'GDP_Per_Capita'.\n",
        "# Explain why renaming columns can be useful.\n",
        "# Your Code Here:"
      ],
      "metadata": {
        "id": "Tw9EU-BereyX"
      },
      "execution_count": null,
      "outputs": []
    },
    {
      "cell_type": "markdown",
      "source": [
        "**Explanation**\n",
        "\n",
        "[Your explanation here]"
      ],
      "metadata": {
        "id": "iyQnG0LyrnKv"
      }
    },
    {
      "cell_type": "markdown",
      "source": [
        "**Question 5: Duplicate Row Removal**\n",
        "\n",
        "Check for and remove any duplicate rows in the dataset. How many duplicate rows were found and removed?\n",
        "\n",
        "\n"
      ],
      "metadata": {
        "id": "N1A9gc4rrokI"
      }
    },
    {
      "cell_type": "code",
      "source": [
        "# Question 5: Duplicate Row Removal\n",
        "# Check for and remove any duplicate rows in the dataset. How many duplicate rows were found and removed?\n",
        "# Your Code Here:"
      ],
      "metadata": {
        "id": "w_ZJDkUKrs6p"
      },
      "execution_count": null,
      "outputs": []
    },
    {
      "cell_type": "markdown",
      "source": [
        "**Explanation**\n",
        "\n",
        "[Your explanation here]"
      ],
      "metadata": {
        "id": "yI-gGOm9rt30"
      }
    },
    {
      "cell_type": "markdown",
      "source": [
        "##**Intermediate (RBT Levels: 3, 4):**\n",
        "\n",
        "Total: 10 Marks\n",
        "\n",
        "Each Question Carry 2 Marks\n",
        "\n"
      ],
      "metadata": {
        "id": "YFGbvgbHrwQG"
      }
    },
    {
      "cell_type": "markdown",
      "source": [
        "**Question 6: Targeted Missing Value Imputation**\n",
        "\n",
        "Impute the missing values in the 'Political Stability and Absence of Violence/Terrorism' column with the mean. Explain why you chose this imputation method.\n",
        "\n",
        "\n"
      ],
      "metadata": {
        "id": "KKS8BMOkr5JQ"
      }
    },
    {
      "cell_type": "code",
      "source": [
        "# Question 6: Targeted Missing Value Imputation\n",
        "# Impute the missing values in the 'Political Stability and Absence of Violence/Terrorism' column with the mean.\n",
        "# Explain why you chose this imputation method.\n",
        "# Your Code Here:"
      ],
      "metadata": {
        "id": "lXoU0J9er4m2"
      },
      "execution_count": null,
      "outputs": []
    },
    {
      "cell_type": "markdown",
      "source": [
        "**Explanation**\n",
        "\n",
        "[Your explanation here]"
      ],
      "metadata": {
        "id": "EGhDjPDKsG--"
      }
    },
    {
      "cell_type": "markdown",
      "source": [
        "Impute the missing values in the 'Import Dependency Ratio (%)' and 'Agricultural Land (% of land area)' columns with the median. Explain why you chose this imputation method."
      ],
      "metadata": {
        "id": "V9kzr552sKaq"
      }
    },
    {
      "cell_type": "code",
      "source": [
        "# Impute the missing values in the 'Import Dependency Ratio (%)' and 'Agricultural Land (% of land area)' columns with the median.\n",
        "# Explain why you chose this imputation method.\n",
        "# Your Code Here:"
      ],
      "metadata": {
        "id": "Mkktkt2_sUnB"
      },
      "execution_count": null,
      "outputs": []
    },
    {
      "cell_type": "markdown",
      "source": [
        "**Explanation**\n",
        "\n",
        "[Your explanation here]"
      ],
      "metadata": {
        "id": "ck8KxO5tsWkR"
      }
    },
    {
      "cell_type": "markdown",
      "source": [
        "**Question 7: Binning Numerical Data and Visualization**\n",
        "\n",
        "Create a new categorical column called 'GDP_Category' by binning the 'GDP_Per_Capita' column into quantiles. Explain your binning strategy. Create a boxplot chart showing the distribution of 'Undernourishment_Percentage' based on 'GDP_Category'."
      ],
      "metadata": {
        "id": "GK7ssffVscGc"
      }
    },
    {
      "cell_type": "code",
      "source": [
        "# Question 7: Binning Numerical Data and Visualization\n",
        "# Create a new categorical column called 'GDP_Category' by binning the 'GDP_Per_Capita' column into quantiles.\n",
        "# Explain your binning strategy. Create a boxplot chart showing the distribution of 'Undernourishment_Percentage' based on 'GDP_Category'.\n",
        "# Your Code Here:"
      ],
      "metadata": {
        "id": "z5-tC9AIshsR"
      },
      "execution_count": null,
      "outputs": []
    },
    {
      "cell_type": "markdown",
      "source": [
        "**Explanation**\n",
        "\n",
        "[Your explanation here]"
      ],
      "metadata": {
        "id": "Cp8XZjXdsihR"
      }
    },
    {
      "cell_type": "markdown",
      "source": [
        "Create a new categorical column called 'RainfallCategory' by binning the \"Average Rainfall (mm)\" into 3 equal sized bins. Create a bar chart showing the distribution of countries in each 'RainfallCategory'."
      ],
      "metadata": {
        "id": "_iP8-WjVssGI"
      }
    },
    {
      "cell_type": "code",
      "source": [
        "# Create a new categorical column called 'RainfallCategory' by binning the \"Average Rainfall (mm)\" into 3 equal sized bins.\n",
        "# Create a bar chart showing the distribution of countries in each 'RainfallCategory'.\n",
        "# Your Code Here:"
      ],
      "metadata": {
        "id": "Qcndp-8TspoR"
      },
      "execution_count": null,
      "outputs": []
    },
    {
      "cell_type": "markdown",
      "source": [
        "**Explanation**\n",
        "\n",
        "[Your explanation here]"
      ],
      "metadata": {
        "id": "XAhpsFIjsxZx"
      }
    },
    {
      "cell_type": "markdown",
      "source": [
        "**Question 8: Outlier Detection and Removal**\n",
        "\n",
        "Use the IQR method to identify and remove outliers from the 'Undernourishment_Percentage' and 'Food Supply Quantity (kg/capita/year)' columns. Explain your outlier detection and removal process.\n"
      ],
      "metadata": {
        "id": "ln2oQTezs2tM"
      }
    },
    {
      "cell_type": "code",
      "source": [
        "# Question 8: Outlier Detection and Removal\n",
        "# Use the IQR method to identify and remove outliers from the 'Undernourishment_Percentage'\n",
        "# And 'Food Supply Quantity (kg/capita/year)' columns.\n",
        "# Explain your outlier detection and removal process.\n",
        "# Your Code Here:"
      ],
      "metadata": {
        "id": "pkzXo2WGs6Cj"
      },
      "execution_count": null,
      "outputs": []
    },
    {
      "cell_type": "markdown",
      "source": [
        "**Explanation**\n",
        "\n",
        "[Your explanation here]"
      ],
      "metadata": {
        "id": "Ye8S33-ks7-Z"
      }
    },
    {
      "cell_type": "markdown",
      "source": [
        "**Question 9: String Manipulation**\n",
        "\n",
        "Clean the 'Country' column by removing any leading or trailing whitespace. Convert all values to lowercase to ensure consistency.\n"
      ],
      "metadata": {
        "id": "zWebkA95tBAx"
      }
    },
    {
      "cell_type": "code",
      "source": [
        "# Question 9: String Manipulation\n",
        "# Clean the 'Country' column by removing any leading or trailing whitespace.\n",
        "# Convert all values to lowercase to ensure consistency.\n",
        "# Your Code Here:"
      ],
      "metadata": {
        "id": "KSphwJ3atEnM"
      },
      "execution_count": null,
      "outputs": []
    },
    {
      "cell_type": "markdown",
      "source": [
        "**Explanation**\n",
        "\n",
        "[Your explanation here]"
      ],
      "metadata": {
        "id": "lY2kWLUttFnK"
      }
    },
    {
      "cell_type": "markdown",
      "source": [
        "**Question 10: Dummy Variable Creation and Stacked Bar Plot**\n",
        "\n",
        "Create dummy variables for the presence of natural disasters (i.e., if the 'Natural Disaster Events' column is not None). Create a stacked bar plot to visualize the distribution of 'GDP_Category' based on the presence of natural disasters."
      ],
      "metadata": {
        "id": "Co_40ItytK66"
      }
    },
    {
      "cell_type": "code",
      "source": [
        "# Question 10: Dummy Variable Creation and Stacked Bar Plot\n",
        "# Create dummy variables for the presence of natural disasters (i.e., if the 'Natural Disaster Events' column is not None).\n",
        "# Create a stacked bar plot to visualize the distribution of 'GDP_Category' based on the presence of natural disasters.\n",
        "# Your Code Here:"
      ],
      "metadata": {
        "id": "Dfu0AxIDtOVh"
      },
      "execution_count": null,
      "outputs": []
    },
    {
      "cell_type": "markdown",
      "source": [
        "**Explanation**\n",
        "\n",
        "[Your explanation here]"
      ],
      "metadata": {
        "id": "WcqeN9MUtQZv"
      }
    },
    {
      "cell_type": "markdown",
      "source": [
        "##**Advanced (RBT Levels: 4, 5):**\n",
        "\n",
        "Total: 15 Marks\n",
        "\n",
        "Each Question Carry 3 Marks"
      ],
      "metadata": {
        "id": "QpPOrEp6tSh8"
      }
    },
    {
      "cell_type": "markdown",
      "source": [
        "**Question 11: Conditional Missing Value Imputation**\n",
        "\n",
        "If 'GDP_Per_Capita' is NaN, impute 'Undernourishment_Percentage' with the global mean. Otherwise, impute with the mean of the existing values for the particular 'GDP_Category'. Explain your approach."
      ],
      "metadata": {
        "id": "dT7J-qPDtZEa"
      }
    },
    {
      "cell_type": "code",
      "source": [
        "# Question 11: Conditional Missing Value Imputation\n",
        "# If 'GDP_Per_Capita' is NaN, impute 'Undernourishment_Percentage' with the global mean.\n",
        "# Otherwise, impute with the mean of the existing values for the particular 'GDP_Category'.\n",
        "# Explain your approach.\n",
        "# Your Code Here:"
      ],
      "metadata": {
        "id": "VUpVUV8Gtc_r"
      },
      "execution_count": null,
      "outputs": []
    },
    {
      "cell_type": "markdown",
      "source": [
        "**Explanation**\n",
        "\n",
        "[Your explanation here]"
      ],
      "metadata": {
        "id": "Z-4SlRaKtgMi"
      }
    },
    {
      "cell_type": "markdown",
      "source": [
        "**Question 12: Custom Binning Function**\n",
        "\n",
        "Write a custom function to create a 'FoodSecurityLevel' column based on the 'Undernourishment_Percentage'. Categorize percentages below 5 as 'High Security', percentages between 5 and 20 as 'Medium Security', and percentages above 20 as 'Low Security'. Apply this function to create the new column."
      ],
      "metadata": {
        "id": "ujJXl0QctiUE"
      }
    },
    {
      "cell_type": "code",
      "source": [
        "# Question 12: Custom Binning Function\n",
        "# Write a custom function to create a 'FoodSecurityLevel' column based on the 'Undernourishment_Percentage'.\n",
        "# Categorize percentages below 5 as 'High Security', percentages between 5 and 20 as 'Medium Security',\n",
        "# And percentages above 20 as 'Low Security'.\n",
        "# Apply this function to create the new column.\n",
        "# Your Code Here:"
      ],
      "metadata": {
        "id": "Dz_PEI1QtmcA"
      },
      "execution_count": null,
      "outputs": []
    },
    {
      "cell_type": "markdown",
      "source": [
        "**Explanation**\n",
        "\n",
        "[Your explanation here]"
      ],
      "metadata": {
        "id": "hA24kA1StoZw"
      }
    },
    {
      "cell_type": "markdown",
      "source": [
        "**Question 13: Grouped Transformations and Line Chart**\n",
        "\n",
        "Calculate the average 'Undernourishment_Percentage' for each 'Year'. Then create a new column called 'UndernourishmentNormalized' that represents each country's 'Undernourishment_Percentage' as a z-score relative to the year's average. Create a line chart visualizing the average normalized Undernourishment across years.\n"
      ],
      "metadata": {
        "id": "xgidKP7zts6U"
      }
    },
    {
      "cell_type": "code",
      "source": [
        "# Question 13: Grouped Transformations and Line Chart\n",
        "# Calculate the average 'Undernourishment_Percentage' for each 'Year'.\n",
        "# Then create a new column called 'UndernourishmentNormalized' that represents each country's 'Undernourishment_Percentage' as a z-score relative to the year's average.\n",
        "# Create a line chart visualizing the average normalized Undernourishment across years.\n",
        "# Your Code Here:"
      ],
      "metadata": {
        "id": "LDRMBxYItv9H"
      },
      "execution_count": null,
      "outputs": []
    },
    {
      "cell_type": "markdown",
      "source": [
        "**Explanation**\n",
        "\n",
        "[Your explanation here]"
      ],
      "metadata": {
        "id": "bJMyhZ_ZtwxT"
      }
    },
    {
      "cell_type": "markdown",
      "source": [
        "**Question 14: Data Sampling and Validation**\n",
        "\n",
        "Randomly sample 20% of the dataset. Use this sample to calculate the mean 'Food Supply Quantity (kg/capita/year)' for each 'GDP_Category'. Compare these means to the means calculated using the entire dataset. Discuss any differences and their potential implications."
      ],
      "metadata": {
        "id": "RCGnLcnit1Tb"
      }
    },
    {
      "cell_type": "code",
      "source": [
        "# Question 14: Data Sampling and Validation\n",
        "# Randomly sample 20% of the dataset. Use this sample to calculate the mean 'Food Supply Quantity (kg/capita/year)' for each 'GDP_Category'.\n",
        "# Compare these means to the means calculated using the entire dataset.\n",
        "# Discuss any differences and their potential implications.\n",
        "# Your Code Here:"
      ],
      "metadata": {
        "id": "vR04KOlgt7y2"
      },
      "execution_count": null,
      "outputs": []
    },
    {
      "cell_type": "markdown",
      "source": [
        "**Explanation**\n",
        "\n",
        "[Your explanation here]"
      ],
      "metadata": {
        "id": "YvQ4rx57t8fi"
      }
    },
    {
      "cell_type": "markdown",
      "source": [
        "**Question 15: Merging Hypothetical Data**\n",
        "\n",
        "Imagine you have a second dataset with information on international aid for food security (e.g., aid amounts per country per year). Merge this hypothetical dataset with the food security dataset using the 'Country' and 'Year' columns as keys. Explain your merge strategy and how this merged data could be used for further analysis."
      ],
      "metadata": {
        "id": "hHpgcuoXuAuP"
      }
    },
    {
      "cell_type": "code",
      "source": [
        "# Question 15: Merging Hypothetical Data\n",
        "# Imagine you have a second dataset with information on international aid for food security (e.g., aid amounts per country per year).\n",
        "# Merge this hypothetical dataset with the food security dataset using the 'Country' and 'Year' columns as keys.\n",
        "# Explain your merge strategy and how this merged data could be used for further analysis.\n",
        "# Your Code Here:"
      ],
      "metadata": {
        "id": "tNQaFiZUuFMl"
      },
      "execution_count": null,
      "outputs": []
    },
    {
      "cell_type": "markdown",
      "source": [
        "**Explanation**\n",
        "\n",
        "[Your explanation here]"
      ],
      "metadata": {
        "id": "GvD9l0ICuFuq"
      }
    },
    {
      "cell_type": "markdown",
      "source": [
        "**Report**\n",
        "\n",
        "**Part 1**\n",
        "\n",
        "- In this section, compile the explanation of each of the questions.\n",
        "\n",
        "**Part 2**\n",
        "\n",
        "- Answer the following data analysis questions:\n",
        "  1. What are the key characteristics of global food security based on this dataset?\n",
        "  2. Which factors appear to have the strongest influence on food security?\n",
        "  3. What are the most common missing data patterns, and what implications might they have?\n",
        "  4. Based on your analysis, what are 2-3 recommendations you would make to improve global food security?"
      ],
      "metadata": {
        "id": "SkaQA3LKzVT9"
      }
    }
  ]
}