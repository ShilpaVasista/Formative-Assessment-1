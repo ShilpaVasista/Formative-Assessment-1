{
  "nbformat": 4,
  "nbformat_minor": 0,
  "metadata": {
    "colab": {
      "provenance": []
    },
    "kernelspec": {
      "name": "python3",
      "display_name": "Python 3"
    },
    "language_info": {
      "name": "python"
    }
  },
  "cells": [
    {
      "cell_type": "markdown",
      "source": [
        "**Assignment Submission Guidelines**\n",
        "\n",
        "**1. Submission Platform:**\n",
        "\n",
        "- Submit your completed assignment through [Specify Platform: e.g., Google Classroom, Canvas, GitHub Classroom, etc.].\n",
        "\n",
        "**2. Submission Format:**\n",
        "\n",
        "- Submit the Google Colab Notebook (.ipynb file) provided as the assignment template.\n",
        "- Do not create a new notebook. Fill in the provided template.\n",
        "\n",
        "**3. Template Completion:**\n",
        "\n",
        "The template notebook contains:\n",
        "- The code to generate the student_performance_detailed_nan.csv dataset.\n",
        "- Placeholders for your code and explanations for each question.\n",
        "\n",
        "Follow the instructions within the template.\n",
        "- Code Cells:\n",
        "  - Place your code solutions directly in the designated code cells below each question.\n",
        "- Markdown Cells:\n",
        "  - Provide your explanations and justifications in the designated Markdown cells.\n",
        "- Report section:\n",
        "  - Complete the markdown section at the bottom of the notebook titled \"Report\".\n",
        "  - In this section, compile the explanation of each of the questions.\n",
        "  - Answer the following data analysis questions:\n",
        "    \n",
        "  1. What are the key characteristics of the user base and their posts in this dataset?\n",
        "  2. Which factors appear to have the strongest influence on post engagement (likes, retweets)?\n",
        "  3. What are the most common missing data patterns, and what implications might they have on our analysis?\n",
        "  4. Based on your analysis, what are 2-3 recommendations you would make to improve post engagement or user reac\n",
        "- Do not modify the structure of the template notebook.\n",
        "\n",
        "**4. File Naming:**\n",
        "\n",
        "Ensure the file name remains as provided in the template. Do not rename the file.\n",
        "\n",
        "**5. Timely Submission:**\n",
        "\n",
        "- Submit your completed template notebook by the deadline: **24th of March, 2025**.\n",
        "- Late submissions will be penalized as follows:\n",
        "- Submissions within **5:00pm 26th of March, 2025**  will receive a maximum of 5 marks for timely submission.\n",
        "Submissions after  will receive 0 marks for timely submission.\n",
        "\n",
        "**6. Report:**\n",
        "\n",
        "- Complete the \"Report\" section at the end of your notebook.\n",
        "- Ensure your report is:\n",
        "  - Well-organized and easy to read.\n",
        "  - Clear and concise.\n",
        "  - Free of grammatical errors.\n",
        "\n",
        "**7. Code Execution:**\n",
        "\n",
        "Ensure your completed notebook runs without errors from top to bottom.\n",
        "Before submitting, restart the kernel and run all cells to confirm reproducibility.\n",
        "\n",
        "\n",
        "\n",
        "**8. Academic Integrity:**\n",
        "\n",
        "All work must be your own.\n",
        "Plagiarism will result in a failing grade.\n",
        "Cite any external resources you use.\n",
        "\n",
        "\n",
        "\n",
        "**Tips for Success:**\n",
        "\n",
        "- Start the assignment early.\n",
        "- Read the instructions within the template carefully.\n",
        "- Plan your approach before coding.\n",
        "- Test your code thoroughly.\n",
        "- Document your work clearly.\n",
        "- Review the rubrics to understand the grading criteria.\n"
      ],
      "metadata": {
        "id": "V5L5TLCTyWzp"
      }
    },
    {
      "cell_type": "markdown",
      "source": [
        "**Grading Rubrics:**\n",
        "\n",
        "Total 50 Marks\n",
        "\n",
        "- Timely Submission: 10 Marks\n",
        "- Report : 10 Marks\n",
        "- Level 1 (Basic Questions): 5 Marks (1 x 5 = 5)\n",
        "- Level 2 (Intermediate Questions): 10 Marks (2 x 5 = 10)\n",
        "- Level 3 (Advanced Questions): 15 Marks (3 x 5 = 15)"
      ],
      "metadata": {
        "id": "KuApPrY4xHsQ"
      }
    },
    {
      "cell_type": "markdown",
      "source": [
        "##**Assignment Title: Unveiling Social Media Trends - A Data Exploration**"
      ],
      "metadata": {
        "id": "-160l66H1rRa"
      }
    },
    {
      "cell_type": "markdown",
      "source": [
        "**Background**\n",
        "\n",
        "You are a data analyst working for \"SocialPulse,\" a social media analytics firm. SocialPulse helps businesses and organizations understand their online presence, track trends, and engage with their audience effectively.\n",
        "\n",
        "Your team has collected a dataset of posts (tweets) from a social media platform. This dataset includes information on post content, user demographics, engagement metrics, and sentiment.\n",
        "\n",
        "Your goal is to explore and analyze this data to uncover key trends and patterns that can help clients:\n",
        "\n",
        "Understand audience engagement and sentiment. Identify trending topics and influential users. Optimize social media content and marketing strategies. Track the impact of campaigns and events. In this assignment, you will explore and analyze the social media posts dataset. If you choose to tackle the advanced level, you will delve deeper by building predictive models to understand the key drivers of post engagement and provide recommendations for enhancing future data collection."
      ],
      "metadata": {
        "id": "5vHQVUMmoixt"
      }
    },
    {
      "cell_type": "markdown",
      "source": [
        "**Dataset (Synthetic):**\n",
        "\n",
        "We will create a synthetic dataset."
      ],
      "metadata": {
        "id": "aGAbP-GSWINr"
      }
    },
    {
      "cell_type": "code",
      "execution_count": null,
      "metadata": {
        "colab": {
          "base_uri": "https://localhost:8080/"
        },
        "id": "bKAhCN7Aeez7",
        "outputId": "c2560ea8-cb0b-4cae-9206-93299007756f"
      },
      "outputs": [
        {
          "output_type": "stream",
          "name": "stdout",
          "text": [
            "Synthetic social media posts dataset generated: social_media_posts.csv\n"
          ]
        }
      ],
      "source": [
        "import pandas as pd\n",
        "import numpy as np\n",
        "import random\n",
        "from datetime import datetime, timedelta\n",
        "\n",
        "def generate_social_media_data(num_posts=1000):\n",
        "    \"\"\"Generates synthetic social media data.\"\"\"\n",
        "\n",
        "    data = []\n",
        "    for post_id in range(1, num_posts + 1):\n",
        "        user_id = random.randint(1001, 2000)\n",
        "        post_content = \"This is a synthetic post. #example\"\n",
        "        post_date = datetime(2023, 1, 1) + timedelta(days=random.randint(0, 364))\n",
        "        user_age = random.randint(18, 60)\n",
        "        user_gender = random.choice(['Male', 'Female', 'Other'])\n",
        "        user_location = random.choice(['Urban', 'Suburban', 'Rural'])\n",
        "        likes = random.randint(0, 500)\n",
        "        retweets = random.randint(0, 200)\n",
        "        hashtags = random.choice(['#example', '#trending', '#news', '#tech', '#social', np.nan])\n",
        "        sentiment = random.choice(['Positive', 'Negative', 'Neutral', np.nan])\n",
        "        verified_user = random.choice([True, False])\n",
        "\n",
        "        data.append({\n",
        "            'PostID': post_id,\n",
        "            'UserID': user_id,\n",
        "            'PostContent': post_content,\n",
        "            'PostDate': post_date,\n",
        "            'UserAge': user_age,\n",
        "            'UserGender': user_gender,\n",
        "            'UserLocation': user_location,\n",
        "            'Likes': likes,\n",
        "            'Retweets': retweets,\n",
        "            'Hashtags': hashtags,\n",
        "            'Sentiment': sentiment,\n",
        "            'VerifiedUser': verified_user\n",
        "        })\n",
        "\n",
        "    df = pd.DataFrame(data)\n",
        "    df['PostDate'] = pd.to_datetime(df['PostDate'])\n",
        "    return df\n",
        "\n",
        "# Generate and save the dataset\n",
        "social_media_df = generate_social_media_data()\n",
        "social_media_df.to_csv('social_media_posts.csv', index=False)\n",
        "\n",
        "print(\"Synthetic social media posts dataset generated: social_media_posts.csv\")"
      ]
    },
    {
      "cell_type": "markdown",
      "source": [
        "**The Data**\n",
        "\n",
        "The data comes from a compilation by SocialPulse, available in 'social_media_posts.csv'. Each row represents a single social media post:\n",
        "\n",
        "**PostID** - Unique identifier for each post.\n",
        "\n",
        "**UserID** - Unique identifier for the user who made the post.\n",
        "\n",
        "**PostContent** - Content of the post.\n",
        "\n",
        "**PostDate** - Date and time of the post.\n",
        "\n",
        "**UserAge** - Age of the user.\n",
        "\n",
        "**UserGender** - Gender of the user:\n",
        "\n",
        "    -Male\n",
        "    -Female\n",
        "    -Other\n",
        "\n",
        "**UserLocation** - Location of the user:\n",
        "    -Urban\n",
        "    -Suburban\n",
        "    -Rural\n",
        "\n",
        "**Likes** - Number of likes the post received.\n",
        "\n",
        "**Retweets** - Number of retweets the post received.\n",
        "\n",
        "**Hashtags** - Hashtags used in the post (or NaN if none).\n",
        "\n",
        "    - #example\n",
        "    - #trending\n",
        "    - #news\n",
        "    - #tech\n",
        "    - #social\n",
        "    - NaN (if none)\n",
        "\n",
        "**Sentiment** - Sentiment of the post:\n",
        "\n",
        "    -Positive\n",
        "    -Negative\n",
        "    -Neutral, or NaN\n",
        "\n",
        "**VerifiedUser** - Indicates whether the user is verified.\n",
        "\n",
        "    -True\n",
        "    -False"
      ],
      "metadata": {
        "id": "pffym1X7p6kb"
      }
    },
    {
      "cell_type": "markdown",
      "source": [
        "## **Basic (RBT Levels: 2, 3):**\n",
        "\n",
        "Total: 5 Marks\n",
        "\n",
        "Each Question Carry 1 Mark"
      ],
      "metadata": {
        "id": "IOGkhu55u7EP"
      }
    },
    {
      "cell_type": "code",
      "source": [],
      "metadata": {
        "id": "PKatURVSbhZV"
      },
      "execution_count": null,
      "outputs": []
    },
    {
      "cell_type": "markdown",
      "source": [
        "**Question 1. Missing Value Identification:**\n",
        "\n",
        "Identify the columns in the social media dataset that contain missing values. How many missing values are present in each column?"
      ],
      "metadata": {
        "id": "VMuKMQsjqYRT"
      }
    },
    {
      "cell_type": "code",
      "source": [
        "# Question 1: Missing Value Identification\n",
        "# Identify the columns in the social media dataset that contain missing values. How many missing values are present in each column?\n",
        "\n",
        "# Your Code Here:\n",
        "# ... your code here ...\n"
      ],
      "metadata": {
        "id": "xin7rfJiqz5x"
      },
      "execution_count": null,
      "outputs": []
    },
    {
      "cell_type": "markdown",
      "source": [
        "**Explanation**\n",
        "\n",
        "[Your explanation here]"
      ],
      "metadata": {
        "id": "6kQStsoecr1E"
      }
    },
    {
      "cell_type": "markdown",
      "source": [
        "**Question 2: Basic Missing Value Handling**\n",
        "\n",
        "Remove all rows from the social media dataset that contain at least one missing value. How many rows are removed? Explain why you chose this approach.\n"
      ],
      "metadata": {
        "id": "Xid0fq3aq-oa"
      }
    },
    {
      "cell_type": "code",
      "source": [
        "# Question 2: Basic Missing Value Handling\n",
        "# Remove all rows from the social media dataset that contain at least one missing value. How many rows are removed? Explain why you chose this approach.\n",
        "\n",
        "# Your Code Here:\n",
        "# ... your code here ...\n"
      ],
      "metadata": {
        "id": "UtiTeJ6kq-_C"
      },
      "execution_count": null,
      "outputs": []
    },
    {
      "cell_type": "markdown",
      "source": [
        "**Explanation**\n",
        "\n",
        "[Your explanation here]"
      ],
      "metadata": {
        "id": "RXbg4fFprMXX"
      }
    },
    {
      "cell_type": "markdown",
      "source": [
        "**Question 3: Data Type Conversion**\n",
        "\n",
        "Verify the data types of each column in the social media dataset. Convert the 'Likes' and 'Retweets' columns to integer data types and the 'PostDate' column to a datetime data type. Explain why these data types are appropriate.\n"
      ],
      "metadata": {
        "id": "eb4SIFzUrTMn"
      }
    },
    {
      "cell_type": "code",
      "source": [
        "# Question 3: Data Type Conversion\n",
        "# Verify the data types of each column. Convert the 'Likes' and 'Retweets' columns to integer data types and the 'PostDate' column to a datetime data type. Explain why these data types are appropriate.\n",
        "\n",
        "# Your Code Here:\n",
        "# ... your code here ...\n"
      ],
      "metadata": {
        "id": "2NA2q68ErZi8"
      },
      "execution_count": null,
      "outputs": []
    },
    {
      "cell_type": "markdown",
      "source": [
        "**Explanation**\n",
        "\n",
        "[Your explanation here]"
      ],
      "metadata": {
        "id": "Br74aBGIrbYU"
      }
    },
    {
      "cell_type": "markdown",
      "source": [
        "**Question 4: Renaming Columns**\n",
        "\n",
        "Rename the 'PostID' column to 'Tweet_ID' and the 'UserID' column to 'User_ID'. Explain why renaming columns can be useful.\n"
      ],
      "metadata": {
        "id": "E-2eKwwgrfyc"
      }
    },
    {
      "cell_type": "code",
      "source": [
        "# Question 4: Renaming Columns\n",
        "# Rename the 'PostID' column to 'Tweet_ID' and the 'UserID' column to 'User_ID'. Explain why renaming columns can be useful.\n",
        "\n",
        "# Your Code Here:\n",
        "# ... your code here ...\n"
      ],
      "metadata": {
        "id": "Tw9EU-BereyX"
      },
      "execution_count": null,
      "outputs": []
    },
    {
      "cell_type": "markdown",
      "source": [
        "**Explanation**\n",
        "\n",
        "[Your explanation here]"
      ],
      "metadata": {
        "id": "iyQnG0LyrnKv"
      }
    },
    {
      "cell_type": "markdown",
      "source": [
        "Question 5: Duplicate Row Removal\n",
        "\n",
        "Check for and remove any duplicate rows in the social media dataset. How many duplicate rows were found and removed?\n"
      ],
      "metadata": {
        "id": "N1A9gc4rrokI"
      }
    },
    {
      "cell_type": "code",
      "source": [
        "# Question 5: Duplicate Row Removal\n",
        "# Check for and remove any duplicate rows in the social media dataset. How many duplicate rows were found and removed?\n",
        "\n",
        "# Your Code Here:\n",
        "# ... your code here ...\n"
      ],
      "metadata": {
        "id": "w_ZJDkUKrs6p"
      },
      "execution_count": null,
      "outputs": []
    },
    {
      "cell_type": "markdown",
      "source": [
        "**Explanation**\n",
        "\n",
        "[Your explanation here]"
      ],
      "metadata": {
        "id": "yI-gGOm9rt30"
      }
    },
    {
      "cell_type": "markdown",
      "source": [
        "##**Intermediate (RBT Levels: 3, 4):**\n",
        "\n",
        "Total: 10 Marks\n",
        "\n",
        "Each Question Carry 2 Marks\n",
        "\n"
      ],
      "metadata": {
        "id": "YFGbvgbHrwQG"
      }
    },
    {
      "cell_type": "markdown",
      "source": [
        "**Question 6: Targeted Missing Value Imputation**\n",
        "\n",
        "Impute the missing values in the 'Sentiment' column with the most frequent value (mode). Explain why you chose this imputation method."
      ],
      "metadata": {
        "id": "KKS8BMOkr5JQ"
      }
    },
    {
      "cell_type": "code",
      "source": [
        "# Question 6: Targeted Missing Value Imputation\n",
        "# Impute the missing values in the 'Sentiment' column with the most frequent value (mode). Explain why you chose this imputation method.\n",
        "\n",
        "# Your Code Here:\n",
        "# ... your code here ...\n"
      ],
      "metadata": {
        "id": "lXoU0J9er4m2"
      },
      "execution_count": null,
      "outputs": []
    },
    {
      "cell_type": "markdown",
      "source": [
        "**Explanation**\n",
        "\n",
        "[Your explanation here]"
      ],
      "metadata": {
        "id": "EGhDjPDKsG--"
      }
    },
    {
      "cell_type": "markdown",
      "source": [
        "\n",
        "\n",
        "Impute the missing values in the 'Hashtags' column with the string 'No Hashtags'. Explain why you chose this imputation method.\n"
      ],
      "metadata": {
        "id": "V9kzr552sKaq"
      }
    },
    {
      "cell_type": "code",
      "source": [
        "# Impute the missing values in the 'Hashtags' column with the string 'No Hashtags'. Explain why you chose this imputation method.\n",
        "\n",
        "# Your Code Here:\n",
        "# ... your code here ...\n",
        "\n"
      ],
      "metadata": {
        "id": "Mkktkt2_sUnB"
      },
      "execution_count": null,
      "outputs": []
    },
    {
      "cell_type": "markdown",
      "source": [
        "**Explanation**\n",
        "\n",
        "[Your explanation here]"
      ],
      "metadata": {
        "id": "ck8KxO5tsWkR"
      }
    },
    {
      "cell_type": "markdown",
      "source": [
        "**Question 7: Binning Numerical Data and Visualization**\n",
        "\n",
        "Create a new categorical column called 'AgeGroup' by binning the 'UserAge' column into appropriate age ranges (e.g., 18-25, 26-35, 36-45, 46+). Explain your binning strategy. Create a bar chart showing the distribution of users in each age group."
      ],
      "metadata": {
        "id": "GK7ssffVscGc"
      }
    },
    {
      "cell_type": "code",
      "source": [
        "# Question 7: Binning Numerical Data and Visualization\n",
        "# Create a new categorical column called 'AgeGroup' by binning the 'UserAge' column into appropriate age ranges (e.g., 18-25, 26-35, 36-45, 46+). Explain your binning strategy. Create a bar chart showing the distribution of users in each age group.\n",
        "\n",
        "# Your Code Here:\n",
        "# ... your code here ...\n"
      ],
      "metadata": {
        "id": "z5-tC9AIshsR"
      },
      "execution_count": null,
      "outputs": []
    },
    {
      "cell_type": "markdown",
      "source": [
        "**Explanation**\n",
        "\n",
        "[Your explanation here]"
      ],
      "metadata": {
        "id": "Cp8XZjXdsihR"
      }
    },
    {
      "cell_type": "markdown",
      "source": [
        "Create a new categorical column called 'EngagementCategory' by binning the 'Likes' column into quantiles. Explain your binning strategy. Create a boxplot chart showing the distribution of 'Retweets' based on 'EngagementCategory'."
      ],
      "metadata": {
        "id": "_iP8-WjVssGI"
      }
    },
    {
      "cell_type": "code",
      "source": [
        "# Create a new categorical column called 'EngagementCategory' by binning the 'Likes' column into quantiles. Explain your binning strategy. Create a boxplot chart showing the distribution of 'Retweets' based on 'EngagementCategory'.\n",
        "\n",
        "# Your Code Here:\n",
        "# ... your code here ...\n"
      ],
      "metadata": {
        "id": "Qcndp-8TspoR"
      },
      "execution_count": null,
      "outputs": []
    },
    {
      "cell_type": "markdown",
      "source": [
        "**Explanation**\n",
        "\n",
        "[Your explanation here]"
      ],
      "metadata": {
        "id": "XAhpsFIjsxZx"
      }
    },
    {
      "cell_type": "markdown",
      "source": [
        "**Question 8: Outlier Detection and Removal**\n",
        "\n",
        "Use the IQR method to identify and remove outliers from the 'Likes' and 'Retweets' columns. Explain your outlier detection and removal process.\n"
      ],
      "metadata": {
        "id": "ln2oQTezs2tM"
      }
    },
    {
      "cell_type": "code",
      "source": [
        "# Question 8: Outlier Detection and Removal\n",
        "# Use the IQR method to identify and remove outliers from the 'Likes' and 'Retweets' columns. Explain your outlier detection and removal process.\n",
        "\n",
        "# Your Code Here:\n",
        "# ... your code here ...\n"
      ],
      "metadata": {
        "id": "pkzXo2WGs6Cj"
      },
      "execution_count": null,
      "outputs": []
    },
    {
      "cell_type": "markdown",
      "source": [
        "**Explanation**\n",
        "\n",
        "[Your explanation here]"
      ],
      "metadata": {
        "id": "Ye8S33-ks7-Z"
      }
    },
    {
      "cell_type": "markdown",
      "source": [
        "**Question 9: String Manipulation**\n",
        "\n",
        "Clean the 'Hashtags' column by removing any leading or trailing whitespace. Convert all values to lowercase to ensure consistency."
      ],
      "metadata": {
        "id": "zWebkA95tBAx"
      }
    },
    {
      "cell_type": "code",
      "source": [
        "# Question 9: String Manipulation\n",
        "# Clean the 'Hashtags' column by removing any leading or trailing whitespace. Convert all values to lowercase to ensure consistency.\n",
        "\n",
        "# Your Code Here:\n",
        "# ... your code here ...\n"
      ],
      "metadata": {
        "id": "KSphwJ3atEnM"
      },
      "execution_count": null,
      "outputs": []
    },
    {
      "cell_type": "markdown",
      "source": [
        "**Explanation**\n",
        "\n",
        "[Your explanation here]"
      ],
      "metadata": {
        "id": "lY2kWLUttFnK"
      }
    },
    {
      "cell_type": "markdown",
      "source": [
        "**Question 10: Dummy Variable Creation and Stacked Bar Plot**\n",
        "\n",
        "Create dummy variables for the 'UserGender' and 'UserLocation' columns. Explain how dummy variables are used in data analysis. Create a stacked bar plot to visualize the distribution of 'UserGender' within each 'UserLocation'.\n"
      ],
      "metadata": {
        "id": "Co_40ItytK66"
      }
    },
    {
      "cell_type": "code",
      "source": [
        "# Question 10: Dummy Variable Creation and Stacked Bar Plot\n",
        "# Create dummy variables for the 'UserGender' and 'UserLocation' columns. Explain how dummy variables are used in data analysis. Create a stacked bar plot to visualize the distribution of 'UserGender' within each 'UserLocation'.\n",
        "\n",
        "# Your Code Here:\n",
        "# ... your code here ...\n"
      ],
      "metadata": {
        "id": "Dfu0AxIDtOVh"
      },
      "execution_count": null,
      "outputs": []
    },
    {
      "cell_type": "markdown",
      "source": [
        "**Explanation**\n",
        "\n",
        "[Your explanation here]"
      ],
      "metadata": {
        "id": "WcqeN9MUtQZv"
      }
    },
    {
      "cell_type": "markdown",
      "source": [
        "##**Advanced (RBT Levels: 4, 5):**\n",
        "\n",
        "Total: 15 Marks\n",
        "\n",
        "Each Question Carry 3 Marks"
      ],
      "metadata": {
        "id": "QpPOrEp6tSh8"
      }
    },
    {
      "cell_type": "markdown",
      "source": [
        "**Question 11: Conditional Missing Value Imputation**\n",
        "\n",
        "Impute missing values in the 'Sentiment' column. If 'Hashtags' is NaN, impute 'Sentiment' with 'Neutral'. Otherwise, impute with the most frequent sentiment among posts with hashtags. Explain your approach."
      ],
      "metadata": {
        "id": "dT7J-qPDtZEa"
      }
    },
    {
      "cell_type": "code",
      "source": [
        "# Question 11: Conditional Missing Value Imputation\n",
        "# Impute missing values in the 'Sentiment' column. If 'Hashtags' is NaN, impute 'Sentiment' with 'Neutral'. Otherwise, impute with the most frequent sentiment among posts with hashtags. Explain your approach.\n",
        "\n",
        "# Your Code Here:\n",
        "# ... your code here ...\n"
      ],
      "metadata": {
        "id": "VUpVUV8Gtc_r"
      },
      "execution_count": null,
      "outputs": []
    },
    {
      "cell_type": "markdown",
      "source": [
        "**Explanation**\n",
        "\n",
        "[Your explanation here]"
      ],
      "metadata": {
        "id": "Z-4SlRaKtgMi"
      }
    },
    {
      "cell_type": "markdown",
      "source": [
        "**Question 12: Custom Binning Function**\n",
        "\n",
        "Write a custom function to create an 'EngagementLevel' column based on the combined 'Likes' and 'Retweets' scores. Categorize scores below 100 as 'Low', scores between 100 and 300 as 'Medium', and scores above 300 as 'High'. Apply this function to create the new column."
      ],
      "metadata": {
        "id": "ujJXl0QctiUE"
      }
    },
    {
      "cell_type": "code",
      "source": [
        "# Question 12: Custom Binning Function\n",
        "# Write a custom function to create an 'EngagementLevel' column based on the combined 'Likes' and 'Retweets' scores. Categorize scores below 100 as 'Low', scores between 100 and 300 as 'Medium', and scores above 300 as 'High'. Apply this function to create the new column.\n",
        "\n",
        "# Your Code Here:\n",
        "# ... your code here ...\n"
      ],
      "metadata": {
        "id": "Dz_PEI1QtmcA"
      },
      "execution_count": null,
      "outputs": []
    },
    {
      "cell_type": "markdown",
      "source": [
        "**Explanation**\n",
        "\n",
        "[Your explanation here]"
      ],
      "metadata": {
        "id": "hA24kA1StoZw"
      }
    },
    {
      "cell_type": "markdown",
      "source": [
        "**Question 13: Grouped Transformations and Line Chart**\n",
        "\n",
        "Calculate the average 'Likes' for each 'UserLocation'. Then create a new column called 'LikesNormalized' that represents each post's 'Likes' as a z-score relative to its user location's average. Create a line chart visualizing the average normalized Likes across user locations sorted by average normalized Likes.\n"
      ],
      "metadata": {
        "id": "xgidKP7zts6U"
      }
    },
    {
      "cell_type": "code",
      "source": [
        "# Question 13: Grouped Transformations and Line Chart\n",
        "# Calculate the average 'Likes' for each 'UserLocation'. Then create a new column called 'LikesNormalized' that represents each post's 'Likes' as a z-score relative to its user location's average. Create a line chart visualizing the average normalized Likes across user locations sorted by average normalized Likes.\n",
        "\n",
        "# Your Code Here:\n",
        "# ... your code here ...\n"
      ],
      "metadata": {
        "id": "LDRMBxYItv9H"
      },
      "execution_count": null,
      "outputs": []
    },
    {
      "cell_type": "markdown",
      "source": [
        "**Explanation**\n",
        "\n",
        "[Your explanation here]"
      ],
      "metadata": {
        "id": "bJMyhZ_ZtwxT"
      }
    },
    {
      "cell_type": "markdown",
      "source": [
        "**Question 14: Data Sampling and Validation**\n",
        "\n",
        "Randomly sample 30% of the dataset. Use this sample to calculate the average 'Retweets' for each 'UserGender'. Compare these means to the means calculated using the entire dataset. Discuss any differences and their potential implications."
      ],
      "metadata": {
        "id": "RCGnLcnit1Tb"
      }
    },
    {
      "cell_type": "code",
      "source": [
        "# Question 14: Data Sampling and Validation\n",
        "# Randomly sample 30% of the dataset. Use this sample to calculate the average 'Retweets' for each 'UserGender'. Compare these means to the means calculated using the entire dataset. Discuss any differences and their potential implications.\n",
        "\n",
        "# Your Code Here:\n",
        "# ... your code here ...\n"
      ],
      "metadata": {
        "id": "vR04KOlgt7y2"
      },
      "execution_count": null,
      "outputs": []
    },
    {
      "cell_type": "markdown",
      "source": [
        "**Explanation**\n",
        "\n",
        "[Your explanation here]"
      ],
      "metadata": {
        "id": "YvQ4rx57t8fi"
      }
    },
    {
      "cell_type": "markdown",
      "source": [
        "**Question 15: Merging Hypothetical Data**\n",
        "\n",
        "Imagine you have a second dataset with user profile information (e.g., follower count, profile description). Merge this hypothetical dataset with the social media dataset using the 'UserID' column as a key. Explain your merge strategy and how this merged data could be used for further analysis.\n"
      ],
      "metadata": {
        "id": "hHpgcuoXuAuP"
      }
    },
    {
      "cell_type": "code",
      "source": [
        "# Question 15: Merging Hypothetical Data\n",
        "# Imagine you have a second dataset with user profile information (e.g., follower count, profile description). Merge this hypothetical dataset with the social media dataset using the 'UserID' column as a key. Explain your merge strategy and how this merged data could be used for further analysis.\n",
        "\n",
        "# Your Code Here:\n",
        "# ... your code here ...\n"
      ],
      "metadata": {
        "id": "tNQaFiZUuFMl"
      },
      "execution_count": null,
      "outputs": []
    },
    {
      "cell_type": "markdown",
      "source": [
        "**Explanation**\n",
        "\n",
        "[Your explanation here]"
      ],
      "metadata": {
        "id": "GvD9l0ICuFuq"
      }
    },
    {
      "cell_type": "markdown",
      "source": [
        "**Report**\n",
        "\n",
        "**Part 1**\n",
        "\n",
        "- In this section, compile the explanation of each of the questions.\n",
        "\n",
        "**Part 2**\n",
        "- Answer the following data analysis questions:\n",
        "  1. What are the key characteristics of the user base and their posts in this dataset?\n",
        "  2. Which factors appear to have the strongest influence on post engagement (likes, retweets)?\n",
        "  3. What are the most common missing data patterns, and what implications might they have on our analysis?\n",
        "  4. Based on your analysis, what are 2-3 recommendations you would make to improve post engagement or user reach?"
      ],
      "metadata": {
        "id": "SkaQA3LKzVT9"
      }
    },
    {
      "cell_type": "markdown",
      "source": [
        "##**Answers**"
      ],
      "metadata": {
        "id": "23ZvV8WziL0d"
      }
    }
  ]
}