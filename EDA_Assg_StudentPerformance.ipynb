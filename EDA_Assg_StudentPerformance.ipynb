{
  "nbformat": 4,
  "nbformat_minor": 0,
  "metadata": {
    "colab": {
      "provenance": []
    },
    "kernelspec": {
      "name": "python3",
      "display_name": "Python 3"
    },
    "language_info": {
      "name": "python"
    }
  },
  "cells": [
    {
      "cell_type": "markdown",
      "source": [
        "**Assignment Submission Guidelines**\n",
        "\n",
        "**1. Submission Platform:**\n",
        "\n",
        "- Submit your completed assignment through Google Classroom.\n",
        "\n",
        "**2. Submission Format:**\n",
        "\n",
        "- Submit the Google Colab Notebook (.ipynb file) provided as the assignment template.\n",
        "- Do not create a new notebook. Fill in the provided template.\n",
        "\n",
        "**3. Template Completion:**\n",
        "\n",
        "The template notebook contains:\n",
        "- The code to generate the student_performance_detailed_nan.csv dataset.\n",
        "- Placeholders for your code and explanations for each question.\n",
        "\n",
        "Follow the instructions within the template.\n",
        "- Code Cells:\n",
        "  - Place your code solutions directly in the designated code cells below each question.\n",
        "- Markdown Cells:\n",
        "  - Provide your explanations and justifications in the designated Markdown cells.\n",
        "- Report section:\n",
        "  - Complete the markdown section at the bottom of the notebook titled \"Report\".\n",
        "  - In this section, compile the explanation of each of the questions.\n",
        "  - Answer the following data analysis questions:\n",
        "    1.  What are the key characteristics of the student population in this dataset?\n",
        "    2. Which factors appear to have the strongest influence on student grades?\n",
        "    3. What are the most common missing data patterns, and what implications might they have?\n",
        "    4. Based on your analysis, what are 2-3 recommendations you would make to improve student performance?\n",
        "\n",
        "- Do not modify the structure of the template notebook.\n",
        "\n",
        "**4. File Naming:**\n",
        "\n",
        "Ensure the file name remains as provided in the template. Do not rename the file.\n",
        "\n",
        "**5. Timely Submission:**\n",
        "\n",
        "- Submit your completed template notebook by the deadline: **24th of March, 2025**.\n",
        "- Late submissions will be penalized as follows:\n",
        "- Submissions within **5:00pm 26th of March, 2025**  will receive a maximum of 5 marks for timely submission.\n",
        "Submissions after  will receive 0 marks for timely submission.\n",
        "\n",
        "**6. Report:**\n",
        "\n",
        "- Complete the \"Report\" section at the end of your notebook.\n",
        "- Ensure your report is:\n",
        "  - Well-organized and easy to read.\n",
        "  - Clear and concise.\n",
        "  - Free of grammatical errors.\n",
        "\n",
        "**7. Code Execution:**\n",
        "\n",
        "Ensure your completed notebook runs without errors from top to bottom.\n",
        "Before submitting, restart the kernel and run all cells to confirm reproducibility.\n",
        "\n",
        "\n",
        "\n",
        "**8. Academic Integrity:**\n",
        "\n",
        "All work must be your own.\n",
        "Plagiarism will result in a failing grade.\n",
        "Cite any external resources you use.\n",
        "\n",
        "\n",
        "\n",
        "**Tips for Success:**\n",
        "\n",
        "- Start the assignment early.\n",
        "- Read the instructions within the template carefully.\n",
        "- Plan your approach before coding.\n",
        "- Test your code thoroughly.\n",
        "- Document your work clearly.\n",
        "- Review the rubrics to understand the grading criteria.\n"
      ],
      "metadata": {
        "id": "V5L5TLCTyWzp"
      }
    },
    {
      "cell_type": "markdown",
      "source": [
        "**Grading Rubrics:**\n",
        "\n",
        "Total 50 Marks\n",
        "\n",
        "- Timely Submission: 10 Marks\n",
        "- Report : 10 Marks\n",
        "- Level 1 (Basic Questions): 5 Marks (1 x 5 = 5)\n",
        "- Level 2 (Intermediate Questions): 10 Marks (2 x 5 = 10)\n",
        "- Level 3 (Advanced Questions): 15 Marks (3 x 5 = 15)"
      ],
      "metadata": {
        "id": "KuApPrY4xHsQ"
      }
    },
    {
      "cell_type": "markdown",
      "source": [
        "##**Assignment**"
      ],
      "metadata": {
        "id": "-160l66H1rRa"
      }
    },
    {
      "cell_type": "markdown",
      "source": [
        "**Background**\n",
        "\n",
        "You are a data analyst working for \"EduMetrics,\" a specialized educational consultancy. EduMetrics partners with schools, universities, and educational organizations to improve student outcomes and optimize resource allocation through data-driven insights.\n",
        "\n",
        "Your team has been tasked with analyzing a comprehensive dataset of student performance and related factors. This dataset, which you've compiled, contains information on a diverse group of students, including their demographics, academic performance, behavioral indicators, and school-related factors.\n",
        "\n",
        "Your goal is to leverage this data to uncover key factors that influence student success. By identifying these trends, you can provide actionable recommendations to educational institutionsld text"
      ],
      "metadata": {
        "id": "5vHQVUMmoixt"
      }
    },
    {
      "cell_type": "code",
      "execution_count": null,
      "metadata": {
        "colab": {
          "base_uri": "https://localhost:8080/"
        },
        "id": "bKAhCN7Aeez7",
        "outputId": "47ee1b9b-0c30-4be4-bd13-603dff304625"
      },
      "outputs": [
        {
          "output_type": "stream",
          "name": "stdout",
          "text": [
            "Synthetic student performance dataset generated: student_performance_detailed.csv\n"
          ]
        }
      ],
      "source": [
        "import pandas as pd\n",
        "import numpy as np\n",
        "import random\n",
        "from datetime import datetime, timedelta\n",
        "\n",
        "def generate_student_performance_data(num_students=1000):\n",
        "    \"\"\"Generates synthetic student performance data with more specific columns.\"\"\"\n",
        "\n",
        "    student_data = []\n",
        "\n",
        "    for student_id in range(1, num_students + 1):\n",
        "        # Student Demographics\n",
        "        age = random.randint(14, 18)\n",
        "        gender = random.choice(['Male', 'Female', 'Other'])\n",
        "        race = random.choice(['White', 'Black', 'Asian', 'Hispanic', 'Other'])\n",
        "        ses = random.choice(['Low', 'Medium', 'High'])\n",
        "        special_ed = random.choice([True, False])\n",
        "\n",
        "        # Academic Performance\n",
        "        math_grade = np.random.normal(75, 10)\n",
        "        science_grade = np.random.normal(80, 12)\n",
        "        english_grade = np.random.normal(78, 11)\n",
        "        attendance = random.randint(150, 180)  # Days attended\n",
        "        homework_completion = random.uniform(0.6, 1.0) # percentage 0.6 to 1\n",
        "\n",
        "        # Behavioral and Psychological Factors\n",
        "        counseling_type = random.choice(['Academic', 'Personal', 'Professional', None])\n",
        "        motivation = np.random.normal(7, 1.5) # scale 1 to 10\n",
        "        study_time = random.uniform(1, 10) # hours per week\n",
        "\n",
        "        # School and Teacher Factors (simplified)\n",
        "        teacher_experience = random.randint(1, 20)\n",
        "        class_size = random.randint(20, 35)\n",
        "        school_type = random.choice(['Public', 'Private', 'Charter'])\n",
        "\n",
        "        # Extracurricular Activities\n",
        "        sports_type = random.choice(['Basketball', 'Soccer', 'Tennis', 'Swimming', None])\n",
        "        club_type = random.choice(['Math Club', 'Science Club', 'Debate Club', 'Art Club', None])\n",
        "\n",
        "        # Disciplinary Actions\n",
        "        disciplinary_action_type = random.choice(['Detention', 'Suspension', 'Warning', None])\n",
        "        disciplinary_action_count = 0\n",
        "        if disciplinary_action_type:\n",
        "            disciplinary_action_count = random.randint(1, 3)\n",
        "\n",
        "        student_data.append({\n",
        "            'StudentID': student_id,\n",
        "            'Age': age,\n",
        "            'Gender': gender,\n",
        "            'Race': race,\n",
        "            'SES': ses,\n",
        "            'SpecialEd': special_ed,\n",
        "            'MathGrade': math_grade,\n",
        "            'ScienceGrade': science_grade,\n",
        "            'EnglishGrade': english_grade,\n",
        "            'Attendance': attendance,\n",
        "            'HomeworkCompletion': homework_completion,\n",
        "            'CounselingType': counseling_type,\n",
        "            'Motivation': motivation,\n",
        "            'StudyTime': study_time,\n",
        "            'TeacherExperience': teacher_experience,\n",
        "            'ClassSize': class_size,\n",
        "            'SchoolType': school_type,\n",
        "            'SportsType': sports_type,\n",
        "            'ClubType': club_type,\n",
        "            'DisciplinaryActionType': disciplinary_action_type,\n",
        "            'DisciplinaryActionCount': disciplinary_action_count\n",
        "        })\n",
        "\n",
        "    df = pd.DataFrame(student_data)\n",
        "    return df\n",
        "\n",
        "# Generate and save the dataset\n",
        "student_df = generate_student_performance_data()\n",
        "student_df.to_csv('student_performance_detailed.csv', index=False)\n",
        "\n",
        "print(\"Synthetic student performance dataset generated: student_performance_detailed.csv\")"
      ]
    },
    {
      "cell_type": "markdown",
      "source": [
        "**The Data**\n",
        "\n",
        "The data comes from a compilation by EduMetrics, available in 'student_performance_detailed_nan.csv'. Each row represents a single student's performance record:\n",
        "\n",
        "- StudentID - Unique identifier for each student.\n",
        "- Age - Student's age in years.\n",
        "- Gender - Student's gender\n",
        "  - Male\n",
        "  - Female\n",
        "  - Other\n",
        "- Race - Student's race or ethnicity\n",
        "    - White\n",
        "    - Black\n",
        "    - Asian\n",
        "    - Hispanic\n",
        "    - Other\n",
        "- SES - Student's socioeconomic status\n",
        "    - Low\n",
        "    - Medium\n",
        "    - High\n",
        "- SpecialEd - Indicates whether the student receives special education services (True/False).\n",
        "- MathGrade - Student's grade in mathematics.\n",
        "- ScienceGrade - Student's grade in science.\n",
        "- EnglishGrade - Student's grade in English.\n",
        "- Attendance - Number of days the student attended school.\n",
        "- HomeworkCompletion - Percentage of homework completed.\n",
        "- CounselingType - Type of counseling received\n",
        "    - Academic\n",
        "    - Personal\n",
        "    - Professional\n",
        "    - NaN if none\n",
        "- Motivation - Student's level of motivation (numerical scale).\n",
        "- StudyTime - Student's average study time per week (in hours).\n",
        "- TeacherExperience - Years of teaching experience of the student's teacher.\n",
        "- ClassSize - Number of students in the student's class.\n",
        "- SchoolType - Type of school the student attends\n",
        "    - Public\n",
        "    - Private\n",
        "    - Charter\n",
        "- SportsType - Type of sport the student participates in\n",
        "  - Basketball\n",
        "  - Soccer\n",
        "  - Tennis\n",
        "  - Swimming\n",
        "  - NaN if none\n",
        "- ClubType - Type of club the student participates in\n",
        "  - Math Club\n",
        "  - Science Club\n",
        "  - Debate Club\n",
        "  - Art Club\n",
        "  - NaN if none\n",
        "- DisciplinaryActionType - Type of disciplinary action taken\n",
        "    - Detention\n",
        "    - Suspension\n",
        "    - Warning\n",
        "    - NaN if none\n",
        "- DisciplinaryActionCount - Number of times the disciplinary action occurred."
      ],
      "metadata": {
        "id": "pffym1X7p6kb"
      }
    },
    {
      "cell_type": "markdown",
      "source": [
        "## **Basic (RBT Levels: 2, 3):**\n",
        "\n",
        "Total: 5 Marks\n",
        "\n",
        "Each Question Carry 1 Mark"
      ],
      "metadata": {
        "id": "IOGkhu55u7EP"
      }
    },
    {
      "cell_type": "markdown",
      "source": [
        "**Question 1. Missing Value Identification:**\n",
        "\n",
        "Identify the columns in the dataset that contain missing values. How many missing values are present in each column?"
      ],
      "metadata": {
        "id": "VMuKMQsjqYRT"
      }
    },
    {
      "cell_type": "code",
      "source": [
        "# Question 1: Missing Value Identification\n",
        "# Identify the columns in the dataset that contain missing values. How many missing values are present in each column?\n",
        "# Your Code Here:"
      ],
      "metadata": {
        "id": "xin7rfJiqz5x"
      },
      "execution_count": null,
      "outputs": []
    },
    {
      "cell_type": "markdown",
      "source": [
        "**Explanation**\n",
        "\n",
        "[Your explanation here]"
      ],
      "metadata": {
        "id": "nk4VmK0Iq1Zh"
      }
    },
    {
      "cell_type": "markdown",
      "source": [
        "**Question 2: Basic Missing Value Handling**\n",
        "\n",
        "Remove all rows that contain at least one missing value. How many rows are removed? Explain why you chose this approach.\n"
      ],
      "metadata": {
        "id": "Xid0fq3aq-oa"
      }
    },
    {
      "cell_type": "code",
      "source": [
        "# Question 2: Basic Missing Value Handling\n",
        "# Remove all rows that contain at least one missing value. How many rows are removed? Explain why you chose this approach.\n",
        "# Your Code Here:"
      ],
      "metadata": {
        "id": "UtiTeJ6kq-_C"
      },
      "execution_count": null,
      "outputs": []
    },
    {
      "cell_type": "markdown",
      "source": [
        "**Explanation**\n",
        "\n",
        "[Your explanation here]"
      ],
      "metadata": {
        "id": "RXbg4fFprMXX"
      }
    },
    {
      "cell_type": "markdown",
      "source": [
        "**Question 3: Data Type Conversion**\n",
        "\n",
        "Verify the data types of each column. Convert the 'Attendance' column to an integer data type and the 'HomeworkCompletion' column to a float data type. Explain why these data types are appropriate.\n"
      ],
      "metadata": {
        "id": "eb4SIFzUrTMn"
      }
    },
    {
      "cell_type": "code",
      "source": [
        "# Question 3: Data Type Conversion\n",
        "# Verify the data types of each column. Convert the 'Attendance' column to an integer data type and the 'HomeworkCompletion' column to a float data type. Explain why these data types are appropriate.\n",
        "# Your Code Here:"
      ],
      "metadata": {
        "id": "2NA2q68ErZi8"
      },
      "execution_count": null,
      "outputs": []
    },
    {
      "cell_type": "markdown",
      "source": [
        "**Explanation**\n",
        "\n",
        "[Your explanation here]"
      ],
      "metadata": {
        "id": "Br74aBGIrbYU"
      }
    },
    {
      "cell_type": "markdown",
      "source": [
        "**Question 4: Renaming Columns**\n",
        "\n",
        "Rename the 'StudentID' column to 'Student_ID' and the 'MathGrade' column to 'Math_Score'. Explain why renaming columns can be useful.\n"
      ],
      "metadata": {
        "id": "E-2eKwwgrfyc"
      }
    },
    {
      "cell_type": "code",
      "source": [
        "# Question 4: Renaming Columns\n",
        "# Rename the 'StudentID' column to 'Student_ID' and the 'MathGrade' column to 'Math_Score'. Explain why renaming columns can be useful.\n",
        "# Your Code Here:"
      ],
      "metadata": {
        "id": "Tw9EU-BereyX"
      },
      "execution_count": null,
      "outputs": []
    },
    {
      "cell_type": "markdown",
      "source": [
        "**Explanation**\n",
        "\n",
        "[Your explanation here]"
      ],
      "metadata": {
        "id": "iyQnG0LyrnKv"
      }
    },
    {
      "cell_type": "markdown",
      "source": [
        "**Question 5: Duplicate Row Removal**\n",
        "\n",
        "Check for and remove any duplicate rows in the dataset. How many duplicate rows were found and removed?\n"
      ],
      "metadata": {
        "id": "N1A9gc4rrokI"
      }
    },
    {
      "cell_type": "code",
      "source": [
        "# Question 5: Duplicate Row Removal\n",
        "# Check for and remove any duplicate rows in the dataset. How many duplicate rows were found and removed?\n",
        "# Your Code Here:"
      ],
      "metadata": {
        "id": "w_ZJDkUKrs6p"
      },
      "execution_count": null,
      "outputs": []
    },
    {
      "cell_type": "markdown",
      "source": [
        "**Explanation**\n",
        "\n",
        "[Your explanation here]"
      ],
      "metadata": {
        "id": "yI-gGOm9rt30"
      }
    },
    {
      "cell_type": "markdown",
      "source": [
        "##**Intermediate (RBT Levels: 3, 4):**\n",
        "\n",
        "Total: 10 Marks\n",
        "\n",
        "Each Question Carry 2 Marks\n",
        "\n"
      ],
      "metadata": {
        "id": "YFGbvgbHrwQG"
      }
    },
    {
      "cell_type": "markdown",
      "source": [
        "**Question 6: Targeted Missing Value Imputation**\n",
        "\n",
        "Impute the missing values in the 'CounselingType' column with the most frequent value (mode). Explain why you chose this imputation method.\n"
      ],
      "metadata": {
        "id": "KKS8BMOkr5JQ"
      }
    },
    {
      "cell_type": "code",
      "source": [
        "# Question 6: Targeted Missing Value Imputation\n",
        "# Impute the missing values in the 'CounselingType' column with the most frequent value (mode). Explain why you chose this imputation method.\n",
        "# Your Code Here:"
      ],
      "metadata": {
        "id": "lXoU0J9er4m2"
      },
      "execution_count": null,
      "outputs": []
    },
    {
      "cell_type": "markdown",
      "source": [
        "**Explanation**\n",
        "\n",
        "[Your explanation here]"
      ],
      "metadata": {
        "id": "EGhDjPDKsG--"
      }
    },
    {
      "cell_type": "markdown",
      "source": [
        "Impute the missing values in the 'SportsType' and 'ClubType' columns with the string 'None'. Explain why you chose this imputation method.\n"
      ],
      "metadata": {
        "id": "V9kzr552sKaq"
      }
    },
    {
      "cell_type": "code",
      "source": [
        "# Impute the missing values in the 'SportsType' and 'ClubType' columns with the string 'None'. Explain why you chose this imputation method.\n",
        "# Your Code Here:"
      ],
      "metadata": {
        "id": "Mkktkt2_sUnB"
      },
      "execution_count": null,
      "outputs": []
    },
    {
      "cell_type": "markdown",
      "source": [
        "**Explanation**\n",
        "\n",
        "[Your explanation here]"
      ],
      "metadata": {
        "id": "ck8KxO5tsWkR"
      }
    },
    {
      "cell_type": "markdown",
      "source": [
        "**Question 7: Binning Numerical Data and Visualization**\n",
        "\n",
        "Create a new categorical column called 'AgeGroup' by binning the 'Age' column into appropriate age ranges (e.g., 14-15, 16-17, 18). Explain your binning strategy. Create a bar chart showing the distribution of students in each age group.\n"
      ],
      "metadata": {
        "id": "GK7ssffVscGc"
      }
    },
    {
      "cell_type": "code",
      "source": [
        "# Question 7: Binning Numerical Data and Visualization\n",
        "# Create a new categorical column called 'AgeGroup' by binning the 'Age' column into appropriate age ranges (e.g., 14-15, 16-17, 18). Explain your binning strategy. Create a bar chart showing the distribution of students in each age group.\n",
        "# Your Code Here:"
      ],
      "metadata": {
        "id": "z5-tC9AIshsR"
      },
      "execution_count": null,
      "outputs": []
    },
    {
      "cell_type": "markdown",
      "source": [
        "**Explanation**\n",
        "\n",
        "[Your explanation here]"
      ],
      "metadata": {
        "id": "Cp8XZjXdsihR"
      }
    },
    {
      "cell_type": "markdown",
      "source": [
        "Create a new categorical column called 'StudyTimeCategory' by binning the 'StudyTime' column into quantiles. Explain your binning strategy. Create a boxplot chart showing the distribution of MathGrade based on StudyTimeCategory."
      ],
      "metadata": {
        "id": "_iP8-WjVssGI"
      }
    },
    {
      "cell_type": "code",
      "source": [
        "# Create a new categorical column called 'StudyTimeCategory' by binning the 'StudyTime' column into quantiles. Explain your binning strategy. Create a boxplot chart showing the distribution of MathGrade based on StudyTimeCategory.\n",
        "# Your Code Here:"
      ],
      "metadata": {
        "id": "Qcndp-8TspoR"
      },
      "execution_count": null,
      "outputs": []
    },
    {
      "cell_type": "markdown",
      "source": [
        "**Explanation**\n",
        "\n",
        "[Your explanation here]"
      ],
      "metadata": {
        "id": "XAhpsFIjsxZx"
      }
    },
    {
      "cell_type": "markdown",
      "source": [
        "**Question 8: Outlier Detection and Removal**\n",
        "\n",
        "Use the IQR method to identify and remove outliers from the 'MathGrade' and 'ScienceGrade' columns. Explain your outlier detection and removal process.\n"
      ],
      "metadata": {
        "id": "ln2oQTezs2tM"
      }
    },
    {
      "cell_type": "code",
      "source": [
        "# Question 8: Outlier Detection and Removal\n",
        "# Use the IQR method to identify and remove outliers from the 'MathGrade' and 'ScienceGrade' columns. Explain your outlier detection and removal process.\n",
        "# Your Code Here:"
      ],
      "metadata": {
        "id": "pkzXo2WGs6Cj"
      },
      "execution_count": null,
      "outputs": []
    },
    {
      "cell_type": "markdown",
      "source": [
        "**Explanation**\n",
        "\n",
        "[Your explanation here]"
      ],
      "metadata": {
        "id": "Ye8S33-ks7-Z"
      }
    },
    {
      "cell_type": "markdown",
      "source": [
        "**Question 9: String Manipulation**\n",
        "\n",
        "Clean the 'Race' column by removing any leading or trailing whitespace. Convert all values to lowercase to ensure consistency.\n"
      ],
      "metadata": {
        "id": "zWebkA95tBAx"
      }
    },
    {
      "cell_type": "code",
      "source": [
        "# Question 9: String Manipulation\n",
        "# Clean the 'Race' column by removing any leading or trailing whitespace. Convert all values to lowercase to ensure consistency.\n",
        "# Your Code Here:"
      ],
      "metadata": {
        "id": "KSphwJ3atEnM"
      },
      "execution_count": null,
      "outputs": []
    },
    {
      "cell_type": "markdown",
      "source": [
        "**Explanation**\n",
        "\n",
        "[Your explanation here]"
      ],
      "metadata": {
        "id": "lY2kWLUttFnK"
      }
    },
    {
      "cell_type": "markdown",
      "source": [
        "**Question 10: Dummy Variable Creation and Stacked Bar Plot**\n",
        "\n",
        "Create dummy variables for the 'Gender' and 'SchoolType' columns. Explain how dummy variables are used in data analysis. Create a stacked bar plot to visualize the distribution of 'Gender' within each 'SchoolType'.\n"
      ],
      "metadata": {
        "id": "Co_40ItytK66"
      }
    },
    {
      "cell_type": "code",
      "source": [
        "# Question 10: Dummy Variable Creation and Stacked Bar Plot\n",
        "# Create dummy variables for the 'Gender' and 'SchoolType' columns. Explain how dummy variables are used in data analysis. Create a stacked bar plot to visualize the distribution of 'Gender' within each 'SchoolType'.\n",
        "# Your Code Here:"
      ],
      "metadata": {
        "id": "Dfu0AxIDtOVh"
      },
      "execution_count": null,
      "outputs": []
    },
    {
      "cell_type": "markdown",
      "source": [
        "**Explanation**\n",
        "\n",
        "[Your explanation here]"
      ],
      "metadata": {
        "id": "WcqeN9MUtQZv"
      }
    },
    {
      "cell_type": "markdown",
      "source": [
        "##**Advanced (RBT Levels: 4, 5):**\n",
        "\n",
        "Total: 15 Marks\n",
        "\n",
        "Each Question Carry 3 Marks"
      ],
      "metadata": {
        "id": "QpPOrEp6tSh8"
      }
    },
    {
      "cell_type": "markdown",
      "source": [
        "**Question 11: Conditional Missing Value Imputation**\n",
        "\n",
        "Impute missing values in the 'DisciplinaryActionCount' column. If 'DisciplinaryActionType' is NaN, impute 'DisciplinaryActionCount' with 0. Otherwise, impute with the mean of the existing values for the particular 'DisciplinaryActionType'. Explain your approach."
      ],
      "metadata": {
        "id": "dT7J-qPDtZEa"
      }
    },
    {
      "cell_type": "code",
      "source": [
        "# Question 11: Conditional Missing Value Imputation\n",
        "# Impute missing values in the 'DisciplinaryActionCount' column. If 'DisciplinaryActionType' is NaN, impute 'DisciplinaryActionCount' with 0. Otherwise, impute with the mean of the existing values for the particular 'DisciplinaryActionType'. Explain your approach.\n",
        "# Your Code Here:"
      ],
      "metadata": {
        "id": "VUpVUV8Gtc_r"
      },
      "execution_count": null,
      "outputs": []
    },
    {
      "cell_type": "markdown",
      "source": [
        "**Explanation**\n",
        "\n",
        "[Your explanation here]"
      ],
      "metadata": {
        "id": "Z-4SlRaKtgMi"
      }
    },
    {
      "cell_type": "markdown",
      "source": [
        "**Question 12: Custom Binning Function**\n",
        "\n",
        "Write a custom function to create a 'MotivationCategory' column based on the 'Motivation' score. Categorize scores below 4 as 'Low', scores between 4 and 7 as 'Medium', and scores above 7 as 'High'. Apply this function to create the new column.\n"
      ],
      "metadata": {
        "id": "ujJXl0QctiUE"
      }
    },
    {
      "cell_type": "code",
      "source": [
        "# Question 12: Custom Binning Function\n",
        "# Write a custom function to create a 'MotivationCategory' column based on the\n",
        "#'Motivation' score. Categorize scores below 4 as 'Low', scores between 4 and 7\n",
        "#as 'Medium', and scores above 7 as 'High'. Apply this function to create the new column.\n",
        "# Your Code Here:"
      ],
      "metadata": {
        "id": "Dz_PEI1QtmcA"
      },
      "execution_count": null,
      "outputs": []
    },
    {
      "cell_type": "markdown",
      "source": [
        "**Explanation**\n",
        "\n",
        "[Your explanation here]"
      ],
      "metadata": {
        "id": "hA24kA1StoZw"
      }
    },
    {
      "cell_type": "markdown",
      "source": [
        "**Question 13: Grouped Transformations and Line Chart**\n",
        "\n",
        "Calculate the average 'MathGrade' for each 'SchoolType'. Then create a new column called 'MathGradeNormalized' that represents each student's 'MathGrade' as a z-score relative to their school type's average. Create a line chart visualizing the average normalized MathGrade across schools sorted by average normalized MathGrade.\n"
      ],
      "metadata": {
        "id": "xgidKP7zts6U"
      }
    },
    {
      "cell_type": "code",
      "source": [
        "# Question 13: Grouped Transformations and Line Chart\n",
        "# Calculate the average 'MathGrade' for each 'SchoolType'. Then create a new column called 'MathGradeNormalized' that represents each student's 'MathGrade' as a z-score relative to their school type's average. Create a line chart visualizing the average normalized MathGrade across schools sorted by average normalized MathGrade.\n",
        "# Your Code Here:"
      ],
      "metadata": {
        "id": "LDRMBxYItv9H"
      },
      "execution_count": null,
      "outputs": []
    },
    {
      "cell_type": "markdown",
      "source": [
        "**Explanation**\n",
        "\n",
        "[Your explanation here]"
      ],
      "metadata": {
        "id": "bJMyhZ_ZtwxT"
      }
    },
    {
      "cell_type": "markdown",
      "source": [
        "**Question 14: Data Sampling and Validation**\n",
        "\n",
        "Randomly sample 20% of the dataset. Use this sample to calculate the mean 'StudyTime' for each 'SES' category. Compare these means to the means calculated using the entire dataset. Discuss any differences and their potential implications.\n"
      ],
      "metadata": {
        "id": "RCGnLcnit1Tb"
      }
    },
    {
      "cell_type": "code",
      "source": [
        "# Question 14: Data Sampling and Validation\n",
        "# Randomly sample 20% of the dataset. Use this sample to calculate the mean 'StudyTime' for each 'SES' category. Compare these means to the means calculated using the entire dataset. Discuss any differences and their potential implications.\n",
        "# Your Code Here:"
      ],
      "metadata": {
        "id": "vR04KOlgt7y2"
      },
      "execution_count": null,
      "outputs": []
    },
    {
      "cell_type": "markdown",
      "source": [
        "**Explanation**\n",
        "\n",
        "[Your explanation here]"
      ],
      "metadata": {
        "id": "YvQ4rx57t8fi"
      }
    },
    {
      "cell_type": "markdown",
      "source": [
        "**Question 15: Merging Hypothetical Data**\n",
        "\n",
        "Imagine you have a second dataset with teacher demographic information (e.g., teacher qualifications). Merge this hypothetical dataset with the student performance dataset using the 'TeacherExperience' column as a key. Explain your merge strategy and how this merged data could be used for further analysis.\n"
      ],
      "metadata": {
        "id": "hHpgcuoXuAuP"
      }
    },
    {
      "cell_type": "code",
      "source": [
        "# Question 15: Merging Hypothetical Data\n",
        "# Imagine you have a second dataset with teacher demographic information (e.g., teacher qualifications). Merge this hypothetical dataset with the student performance dataset using the 'TeacherExperience' column as a key. Explain your merge strategy and how this merged data could be used for further analysis.\n",
        "# Your Code Here:"
      ],
      "metadata": {
        "id": "tNQaFiZUuFMl"
      },
      "execution_count": null,
      "outputs": []
    },
    {
      "cell_type": "markdown",
      "source": [
        "**Explanation**\n",
        "\n",
        "[Your explanation here]"
      ],
      "metadata": {
        "id": "GvD9l0ICuFuq"
      }
    },
    {
      "cell_type": "markdown",
      "source": [
        "**Report**\n",
        "\n",
        "**Part 1**\n",
        "\n",
        "- In this section, compile the explanation of each of the questions.\n",
        "\n",
        "**Part 2**\n",
        "\n",
        "- Answer the following data analysis questions:\n",
        "  1. What are the key characteristics of the student population in this dataset?\"\n",
        "  2. Which factors appear to have the strongest influence on student grades?\"\n",
        "  3. What are the most common missing data patterns, and what implications might they have?\"\n",
        "  4. Based on your analysis, what are 2-3 recommendations you would make to improve student performance?\""
      ],
      "metadata": {
        "id": "SkaQA3LKzVT9"
      }
    }
  ]
}