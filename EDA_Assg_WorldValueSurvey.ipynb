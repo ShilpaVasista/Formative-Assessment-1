{
  "nbformat": 4,
  "nbformat_minor": 0,
  "metadata": {
    "colab": {
      "provenance": []
    },
    "kernelspec": {
      "name": "python3",
      "display_name": "Python 3"
    },
    "language_info": {
      "name": "python"
    }
  },
  "cells": [
    {
      "cell_type": "markdown",
      "source": [
        "**Assignment Submission Guidelines**\n",
        "\n",
        "**1. Submission Platform:**\n",
        "\n",
        "- Submit your completed assignment through Google Classroom\n",
        "\n",
        "**2. Submission Format:**\n",
        "\n",
        "- Submit the Google Colab Notebook (.ipynb file) provided as the assignment template.\n",
        "- Do not create a new notebook. Fill in the provided template.\n",
        "\n",
        "**3. Template Completion:**\n",
        "\n",
        "The template notebook contains:\n",
        "- The code to generate the World Values Survey csv dataset.\n",
        "- Placeholders for your code and explanations for each question.\n",
        "\n",
        "Follow the instructions within the template.\n",
        "- Code Cells:\n",
        "  - Place your code solutions directly in the designated code cells below each question.\n",
        "- Markdown Cells:\n",
        "  - Provide your explanations and justifications in the designated Markdown cells.\n",
        "- Report section:\n",
        "  - Complete the markdown section at the bottom of the notebook titled \"Report\".\n",
        "  - In this section, compile the explanation of each of the questions.\n",
        "  - Answer the following data analysis questions:\n",
        "    1.   What are the key characteristics of global values and beliefs based on this dataset?\n",
        "    2. Which factors appear to have the strongest influence on life satisfaction?\n",
        "    3. What are the most common missing data patterns, and what implications might they have?\n",
        "    4. Based on your analysis, what are 2-3 recommendations you would make to improve social well-being?\n",
        "- Do not modify the structure of the template notebook.\n",
        "\n",
        "**4. File Naming:**\n",
        "\n",
        "Ensure the file name remains as provided in the template. Do not rename the file.\n",
        "\n",
        "**5. Timely Submission:**\n",
        "\n",
        "- Submit your completed template notebook by the deadline: **24th of March, 2025**.\n",
        "- Late submissions will be penalized as follows:\n",
        "- Submissions within **5:00pm 26th of March, 2025**  will receive a maximum of 5 marks for timely submission.\n",
        "Submissions after  will receive 0 marks for timely submission.\n",
        "\n",
        "**6. Report:**\n",
        "\n",
        "- Complete the \"Report\" section at the end of your notebook.\n",
        "- Ensure your report is:\n",
        "  - Well-organized and easy to read.\n",
        "  - Clear and concise.\n",
        "  - Free of grammatical errors.\n",
        "\n",
        "**7. Code Execution:**\n",
        "\n",
        "Ensure your completed notebook runs without errors from top to bottom.\n",
        "Before submitting, restart the kernel and run all cells to confirm reproducibility.\n",
        "\n",
        "\n",
        "\n",
        "**8. Academic Integrity:**\n",
        "\n",
        "All work must be your own.\n",
        "Plagiarism will result in a failing grade.\n",
        "Cite any external resources you use.\n",
        "\n",
        "\n",
        "\n",
        "**Tips for Success:**\n",
        "\n",
        "- Start the assignment early.\n",
        "- Read the instructions within the template carefully.\n",
        "- Plan your approach before coding.\n",
        "- Test your code thoroughly.\n",
        "- Document your work clearly.\n",
        "- Review the rubrics to understand the grading criteria.\n"
      ],
      "metadata": {
        "id": "V5L5TLCTyWzp"
      }
    },
    {
      "cell_type": "markdown",
      "source": [
        "**Grading Rubrics:**\n",
        "\n",
        "Total 50 Marks\n",
        "\n",
        "- Timely Submission: 10 Marks\n",
        "- Report : 10 Marks\n",
        "- Level 1 (Basic Questions): 5 Marks (1 x 5 = 5)\n",
        "- Level 2 (Intermediate Questions): 10 Marks (2 x 5 = 10)\n",
        "- Level 3 (Advanced Questions): 15 Marks (3 x 5 = 15)"
      ],
      "metadata": {
        "id": "KuApPrY4xHsQ"
      }
    },
    {
      "cell_type": "markdown",
      "source": [
        "##**Assignment**"
      ],
      "metadata": {
        "id": "-160l66H1rRa"
      }
    },
    {
      "cell_type": "markdown",
      "source": [
        "**Background**\n",
        "\n",
        "You are a social scientist working for an international research institute. Your team is tasked with analyzing the World Values Survey data to understand how values and beliefs vary across different countries and regions. Your goal is to identify key trends and patterns that can inform social and political policies."
      ],
      "metadata": {
        "id": "5vHQVUMmoixt"
      }
    },
    {
      "cell_type": "code",
      "execution_count": null,
      "metadata": {
        "colab": {
          "base_uri": "https://localhost:8080/"
        },
        "id": "bKAhCN7Aeez7",
        "outputId": "e1bc1531-c40d-40af-b5af-bcede6572052"
      },
      "outputs": [
        {
          "output_type": "stream",
          "name": "stdout",
          "text": [
            "Synthetic World Values Survey dataset generated: wvs_synthetic_data.csv\n"
          ]
        }
      ],
      "source": [
        "import pandas as pd\n",
        "import numpy as np\n",
        "import random\n",
        "\n",
        "def generate_wvs_data(num_respondents=1000, num_countries=30, num_waves=3):\n",
        "    \"\"\"Generates synthetic World Values Survey data with numerical columns.\"\"\"\n",
        "\n",
        "    countries = [\n",
        "        \"United States\", \"China\", \"India\", \"Brazil\", \"Russia\", \"Japan\", \"Germany\", \"United Kingdom\",\n",
        "        \"France\", \"Italy\", \"Canada\", \"Australia\", \"Mexico\", \"Indonesia\", \"Nigeria\", \"Pakistan\",\n",
        "        \"Egypt\", \"South Africa\", \"Turkey\", \"Saudi Arabia\", \"Argentina\", \"Spain\", \"Poland\", \"Netherlands\",\n",
        "        \"Sweden\", \"Norway\", \"Denmark\", \"Finland\", \"Ireland\", \"Portugal\"\n",
        "    ]\n",
        "\n",
        "    waves = list(range(1, num_waves + 1))\n",
        "\n",
        "    data = []\n",
        "    for i in range(num_respondents):\n",
        "        country = random.choice(countries)\n",
        "        wave = random.choice(waves)\n",
        "\n",
        "        # Generate categorical values\n",
        "        trust_family = random.choice([\"Very much\", \"Quite a lot\", \"Not very much\", \"Not at all\"])\n",
        "        importance_religion = random.choice([\"Very important\", \"Quite important\", \"Not very important\", \"Not at all important\"])\n",
        "        political_interest = random.choice([\"Very interested\", \"Somewhat interested\", \"Not very interested\", \"Not at all interested\"])\n",
        "        life_satisfaction = random.choice([\"Very satisfied\", \"Satisfied\", \"Dissatisfied\", \"Very dissatisfied\"])\n",
        "        importance_friends = random.choice([\"Very important\", \"Quite important\", \"Not very much\", \"Not at all important\"])\n",
        "        attitude_homosexuality = random.choice([\"Strongly disagree\", \"Disagree\", \"Agree\", \"Strongly agree\"])\n",
        "        confidence_government = random.choice([\"A great deal\", \"Quite a lot\", \"Not very much\", \"Not at all\"])\n",
        "        env_vs_econ = random.choice([\"Economic growth is more important\", \"Environmental protection is more important\", \"Both are equally important\", \"Neither is important\"])\n",
        "        gender = random.choice([\"Male\", \"Female\", \"Other\"])\n",
        "        education = random.choice([\"Primary\", \"Secondary\", \"Tertiary\", \"Postgraduate\"])\n",
        "        income_level = random.choice([\"Low\", \"Medium\", \"High\"])\n",
        "        internet_access = random.choice([\"Yes\", \"No\"])\n",
        "        trust_neighbors = random.choice([\"Very much\", \"Quite a lot\", \"Not very much\", \"Not at all\"])\n",
        "        importance_leisure = random.choice([\"Very important\", \"Quite important\", \"Not very much\", \"Not at all important\"])\n",
        "\n",
        "        # Generate numerical values\n",
        "        age = random.randint(18, 85)\n",
        "        number_children = random.randint(0, 5)\n",
        "        years_education = random.randint(6, 20)\n",
        "        household_income = round(np.random.normal(50000, 20000),2)\n",
        "\n",
        "        data.append({\n",
        "            \"country\": country,\n",
        "            \"wave\": wave,\n",
        "            \"trust_family\": trust_family,\n",
        "            \"importance_religion\": importance_religion,\n",
        "            \"political_interest\": political_interest,\n",
        "            \"life_satisfaction\": life_satisfaction,\n",
        "            \"importance_friends\": importance_friends,\n",
        "            \"attitude_homosexuality\": attitude_homosexuality,\n",
        "            \"confidence_government\": confidence_government,\n",
        "            \"env_vs_econ\": env_vs_econ,\n",
        "            \"gender\": gender,\n",
        "            \"education\": education,\n",
        "            \"income_level\": income_level,\n",
        "            \"internet_access\": internet_access,\n",
        "            \"trust_neighbors\": trust_neighbors,\n",
        "            \"importance_leisure\": importance_leisure,\n",
        "            \"age\": age,\n",
        "            \"number_children\": number_children,\n",
        "            \"years_education\": years_education,\n",
        "            \"household_income\": household_income\n",
        "        })\n",
        "\n",
        "    df = pd.DataFrame(data)\n",
        "    return df\n",
        "\n",
        "# Generate and save the dataset\n",
        "wvs_df = generate_wvs_data()\n",
        "wvs_df.to_csv(\"wvs_synthetic_data.csv\", index=False)\n",
        "print(\"Synthetic World Values Survey dataset generated: wvs_synthetic_data.csv\")"
      ]
    },
    {
      "cell_type": "markdown",
      "source": [
        "**The Data**\n",
        "\n",
        "Here's the data description for the synthetic World Values Survey dataset:\n",
        "\n",
        "- country: The country where the survey was conducted.\n",
        "wave: The wave of the survey.\n",
        "- trust_family: Respondent's level of trust in their family.\n",
        "  - Very much\n",
        "  - Quite a lot\n",
        "  - Not very much\n",
        "  - Not at all\n",
        "importance_religion: Respondent's perceived importance of religion.\n",
        "  - Very important\n",
        "  - Quite important\n",
        "  - Not very important\n",
        "  - Not at all important\n",
        "- political_interest: Respondent's level of political interest.\n",
        "  - Very interested\n",
        "  - Somewhat interested\n",
        "  - Not very interested\n",
        "  - Not at all interested\n",
        "- life_satisfaction: Respondent's level of life satisfaction.\n",
        "   - Very satisfied\n",
        "   - Satisfied\n",
        "   - Dissatisfied\n",
        "   - Very dissatisfied\n",
        "- importance_friends: Respondent's perceived importance of friends\n",
        "  - Very important\n",
        "  - Quite important\n",
        "  - Not very much\n",
        "  - Not at all important\n",
        "- attitude_homosexuality: Respondent's attitude towards homosexuality\n",
        "  - Strongly disagree\n",
        "  - Disagree\n",
        "  - Agree\n",
        "  - Strongly agree\n",
        "- confidence_government: Respondent's confidence in the government.\n",
        "  - A great deal\n",
        "  - Quite a lot\n",
        "  - Not very much\n",
        "  - Not at all\n",
        "- env_vs_econ: Respondent's view on environmental protection vs. economic growth.\n",
        "  - Economic growth is more important\n",
        "  - Environmental protection is more important\n",
        "  - Both are equally important\n",
        "  - Neither is important\n",
        "- gender: Respondent's gender\n",
        "  - Male\n",
        "  - Female\n",
        "  - Other\n",
        "- education: Respondent's highest level of education  \n",
        "  - Primary\n",
        "  - Secondary\n",
        "  - Tertiary\n",
        "  - Postgraduate\n",
        "income_level: Respondent's income level.\n",
        "  - Low\n",
        "  - Medium\n",
        "  - High\n",
        "- internet_access: Respondent's access to the internet\n",
        "  - Yes\n",
        "  - No\n",
        "- trust_neighbors: Respondent's trust in their neighbors.\n",
        "   - Very much\n",
        "   - Quite a lot\n",
        "   - Not very much\n",
        "   - Not at all\n",
        "- importance_leisure: Respondent's perceived importance of leisure time.\n",
        "  - Very important\n",
        "  - Quite important\n",
        "  - Not very much\n",
        "  - Not at all important\n",
        "- age: Respondent's age (numerical).\n",
        "- number_children: Number of children the respondent has (numerical).\n",
        "- years_education: Years of education the respondent has received (numerical).\n",
        "- household_income: Household income (numerical)."
      ],
      "metadata": {
        "id": "pffym1X7p6kb"
      }
    },
    {
      "cell_type": "markdown",
      "source": [
        "## **Basic (RBT Levels: 2, 3):**\n",
        "\n",
        "Total: 5 Marks\n",
        "\n",
        "Each Question Carry 1 Mark"
      ],
      "metadata": {
        "id": "IOGkhu55u7EP"
      }
    },
    {
      "cell_type": "markdown",
      "source": [
        "**Question 1. Missing Value Identification and Basic Handling:**\n",
        "\n",
        "Identify the columns in the dataset that contain missing values. How many missing values are present in each column?"
      ],
      "metadata": {
        "id": "VMuKMQsjqYRT"
      }
    },
    {
      "cell_type": "code",
      "source": [
        "# Question 1: Missing Value Identification\n",
        "# Identify the columns in the dataset that contain missing values. How many missing values are present in each column?\n",
        "# Your Code Here:"
      ],
      "metadata": {
        "id": "xin7rfJiqz5x"
      },
      "execution_count": null,
      "outputs": []
    },
    {
      "cell_type": "markdown",
      "source": [
        "**Explanation**\n",
        "\n",
        "[Your explanation here]"
      ],
      "metadata": {
        "id": "nk4VmK0Iq1Zh"
      }
    },
    {
      "cell_type": "markdown",
      "source": [
        "**Question 2: Data Type Validation and Conversion:**\n",
        "\n",
        "Remove all rows that contain at least one missing value. How many rows are removed? Explain why you chose this approach."
      ],
      "metadata": {
        "id": "Xid0fq3aq-oa"
      }
    },
    {
      "cell_type": "code",
      "source": [
        "# Question 2: Basic Missing Value Handling\n",
        "# Remove all rows that contain at least one missing value. How many rows are removed? Explain why you chose this approach.\n",
        "# Your Code Here:"
      ],
      "metadata": {
        "id": "UtiTeJ6kq-_C"
      },
      "execution_count": null,
      "outputs": []
    },
    {
      "cell_type": "markdown",
      "source": [
        "**Explanation**\n",
        "\n",
        "[Your explanation here]"
      ],
      "metadata": {
        "id": "RXbg4fFprMXX"
      }
    },
    {
      "cell_type": "markdown",
      "source": [
        "**Question 3: Basic Descriptive Statistics:**\n",
        "\n",
        "Verify the data types of each column. Convert the 'wave', 'age', 'number_children' and 'years_education' columns to integer data types and the 'household_income' column to a float datatype. Explain why these data types are appropriate.\n"
      ],
      "metadata": {
        "id": "eb4SIFzUrTMn"
      }
    },
    {
      "cell_type": "code",
      "source": [
        "# Question 3: Data Type Conversion\n",
        "# Verify the data types of each column. Convert the 'wave', 'age', 'number_children' and 'years_education' columns to integer data types and the 'household_income' column to a float datatype.\n",
        "# Explain why these data types are appropriate.\n",
        "# Your Code Here:"
      ],
      "metadata": {
        "id": "2NA2q68ErZi8"
      },
      "execution_count": null,
      "outputs": []
    },
    {
      "cell_type": "markdown",
      "source": [
        "**Explanation**\n",
        "\n",
        "[Your explanation here]"
      ],
      "metadata": {
        "id": "Br74aBGIrbYU"
      }
    },
    {
      "cell_type": "markdown",
      "source": [
        "**Question 4: Renaming Columns**\n",
        "\n",
        "Rename columns like 'trust_family' to 'Trust_Family' and 'life_satisfaction' to 'Life_Satisfaction'. Explain why renaming columns can be useful.\n"
      ],
      "metadata": {
        "id": "E-2eKwwgrfyc"
      }
    },
    {
      "cell_type": "code",
      "source": [
        "# Question 4: Renaming Columns\n",
        "# Rename columns like 'trust_family' to 'Trust_Family' and 'life_satisfaction' to 'Life_Satisfaction'.\n",
        "# Explain why renaming columns can be useful.\n",
        "# Your Code Here:"
      ],
      "metadata": {
        "id": "Tw9EU-BereyX"
      },
      "execution_count": null,
      "outputs": []
    },
    {
      "cell_type": "markdown",
      "source": [
        "**Explanation**\n",
        "\n",
        "[Your explanation here]"
      ],
      "metadata": {
        "id": "iyQnG0LyrnKv"
      }
    },
    {
      "cell_type": "markdown",
      "source": [
        "**Question 5: Duplicate Row Removal**\n",
        "\n",
        "Check for and remove any duplicate rows in the dataset. How many duplicate rows were found and removed?\n"
      ],
      "metadata": {
        "id": "N1A9gc4rrokI"
      }
    },
    {
      "cell_type": "code",
      "source": [
        "# Question 5: Duplicate Row Removal\n",
        "# Check for and remove any duplicate rows in the dataset. How many duplicate rows were found and removed?\n",
        "# Your Code Here:"
      ],
      "metadata": {
        "id": "w_ZJDkUKrs6p"
      },
      "execution_count": null,
      "outputs": []
    },
    {
      "cell_type": "markdown",
      "source": [
        "**Explanation**\n",
        "\n",
        "[Your explanation here]"
      ],
      "metadata": {
        "id": "yI-gGOm9rt30"
      }
    },
    {
      "cell_type": "markdown",
      "source": [
        "##**Intermediate (RBT Levels: 3, 4):**\n",
        "\n",
        "Total: 10 Marks\n",
        "\n",
        "Each Question Carry 2 Marks\n",
        "\n"
      ],
      "metadata": {
        "id": "YFGbvgbHrwQG"
      }
    },
    {
      "cell_type": "markdown",
      "source": [
        "**Question 6: Targeted Missing Value Imputation**\n",
        "\n",
        "Impute missing values in the 'years_education' column with the median. Explain why you chose this imputation method. Impute missing values in the 'household_income' column with the mean. Explain your method."
      ],
      "metadata": {
        "id": "KKS8BMOkr5JQ"
      }
    },
    {
      "cell_type": "code",
      "source": [
        "# Question 6: Targeted Missing Value Imputation\n",
        "# Impute missing values in the 'years_education' column with the median.\n",
        "# Explain why you chose this imputation method.\n",
        "# Impute missing values in the 'household_income' column with the mean.\n",
        "# Explain your method.\n",
        "# Your Code Here:"
      ],
      "metadata": {
        "id": "lXoU0J9er4m2"
      },
      "execution_count": null,
      "outputs": []
    },
    {
      "cell_type": "markdown",
      "source": [
        "**Explanation**\n",
        "\n",
        "[Your explanation here]"
      ],
      "metadata": {
        "id": "EGhDjPDKsG--"
      }
    },
    {
      "cell_type": "markdown",
      "source": [
        "**Explanation**\n",
        "\n",
        "[Your explanation here]"
      ],
      "metadata": {
        "id": "ck8KxO5tsWkR"
      }
    },
    {
      "cell_type": "markdown",
      "source": [
        "**Question 7: Binning Numerical Data and Visualization**\n",
        "\n",
        "Create a new categorical column called 'Age_Category' by binning the 'age' column into appropriate categories (e.g., young, middle-aged, elderly). Explain your binning strategy. Create a bar chart showing the distribution of respondents in each category."
      ],
      "metadata": {
        "id": "GK7ssffVscGc"
      }
    },
    {
      "cell_type": "code",
      "source": [
        "# Question 7: Binning Numerical Data and Visualization\n",
        "# Create a new categorical column called 'Age_Category' by binning the 'age' column into appropriate categories (e.g., young, middle-aged, elderly).\n",
        "# Explain your binning strategy.\n",
        "# Create a bar chart showing the distribution of respondents in each category.\n",
        "# Your Code Here:"
      ],
      "metadata": {
        "id": "z5-tC9AIshsR"
      },
      "execution_count": null,
      "outputs": []
    },
    {
      "cell_type": "markdown",
      "source": [
        "**Explanation**\n",
        "\n",
        "[Your explanation here]"
      ],
      "metadata": {
        "id": "Cp8XZjXdsihR"
      }
    },
    {
      "cell_type": "markdown",
      "source": [
        "Create a box plot to show the distribution of 'household_income' based on different 'education' categories."
      ],
      "metadata": {
        "id": "_iP8-WjVssGI"
      }
    },
    {
      "cell_type": "code",
      "source": [
        "# Create a box plot to show the distribution of 'household_income' based on different 'education' categories.\n",
        "# Your Code Here:"
      ],
      "metadata": {
        "id": "Qcndp-8TspoR"
      },
      "execution_count": null,
      "outputs": []
    },
    {
      "cell_type": "markdown",
      "source": [
        "**Explanation**\n",
        "\n",
        "[Your explanation here]"
      ],
      "metadata": {
        "id": "XAhpsFIjsxZx"
      }
    },
    {
      "cell_type": "markdown",
      "source": [
        "**Question 8: Outlier Detection and Removal**\n",
        "\n",
        "Use the IQR method to identify and remove outliers from the 'years_education' and 'household_income' columns. Explain your outlier detection and removal process.\n"
      ],
      "metadata": {
        "id": "ln2oQTezs2tM"
      }
    },
    {
      "cell_type": "code",
      "source": [
        "# Question 8: Outlier Detection and Removal\n",
        "# Use the IQR method to identify and remove outliers from the 'years_education' and 'household_income' columns.\n",
        "# Explain your outlier detection and removal process.\n",
        "# Your Code Here:"
      ],
      "metadata": {
        "id": "pkzXo2WGs6Cj"
      },
      "execution_count": null,
      "outputs": []
    },
    {
      "cell_type": "markdown",
      "source": [
        "**Explanation**\n",
        "\n",
        "[Your explanation here]"
      ],
      "metadata": {
        "id": "Ye8S33-ks7-Z"
      }
    },
    {
      "cell_type": "markdown",
      "source": [
        "**Question 9: String Manipulation**\n",
        "\n",
        "Clean the 'country' column by removing any leading or trailing whitespace. Convert all values to lowercase to ensure consistency.\n"
      ],
      "metadata": {
        "id": "zWebkA95tBAx"
      }
    },
    {
      "cell_type": "code",
      "source": [
        "# Question 9: String Manipulation\n",
        "# Clean the 'country' column by removing any leading or trailing whitespace.\n",
        "# Convert all values to lowercase to ensure consistency.\n",
        "# Your Code Here:"
      ],
      "metadata": {
        "id": "KSphwJ3atEnM"
      },
      "execution_count": null,
      "outputs": []
    },
    {
      "cell_type": "markdown",
      "source": [
        "**Explanation**\n",
        "\n",
        "[Your explanation here]"
      ],
      "metadata": {
        "id": "lY2kWLUttFnK"
      }
    },
    {
      "cell_type": "markdown",
      "source": [
        "**Question 10: Dummy Variable Creation and Stacked Bar Plot**\n",
        "\n",
        "Create dummy variables for the 'gender' column. Create a stacked bar plot to visualize the distribution of 'Life_Satisfaction' based on 'gender'."
      ],
      "metadata": {
        "id": "Co_40ItytK66"
      }
    },
    {
      "cell_type": "code",
      "source": [
        "# Question 10: Dummy Variable Creation and Stacked Bar Plot\n",
        "# Create dummy variables for the 'gender' column.\n",
        "# Create a stacked bar plot to visualize the distribution of 'Life_Satisfaction' based on 'gender'.\n",
        "# Your Code Here:"
      ],
      "metadata": {
        "id": "Dfu0AxIDtOVh"
      },
      "execution_count": null,
      "outputs": []
    },
    {
      "cell_type": "markdown",
      "source": [
        "**Explanation**\n",
        "\n",
        "[Your explanation here]"
      ],
      "metadata": {
        "id": "WcqeN9MUtQZv"
      }
    },
    {
      "cell_type": "markdown",
      "source": [
        "##**Advanced (RBT Levels: 4, 5):**\n",
        "\n",
        "Total: 15 Marks\n",
        "\n",
        "Each Question Carry 3 Marks"
      ],
      "metadata": {
        "id": "QpPOrEp6tSh8"
      }
    },
    {
      "cell_type": "markdown",
      "source": [
        "**Question 11: Conditional Missing Value Imputation**\n",
        "\n",
        "Impute missing values in 'household_income' based on 'education'. If education is primary, impute with the global low average, if education is postgraduate, impute with global high average."
      ],
      "metadata": {
        "id": "dT7J-qPDtZEa"
      }
    },
    {
      "cell_type": "code",
      "source": [
        "# Question 11: Conditional Missing Value Imputation\n",
        "# Impute missing values in 'household_income' based on 'education'.\n",
        "# If education is primary, impute with the global low average, if education is postgraduate, impute with global high average.\n",
        "# Your Code Here:"
      ],
      "metadata": {
        "id": "VUpVUV8Gtc_r"
      },
      "execution_count": null,
      "outputs": []
    },
    {
      "cell_type": "markdown",
      "source": [
        "**Explanation**\n",
        "\n",
        "[Your explanation here]"
      ],
      "metadata": {
        "id": "Z-4SlRaKtgMi"
      }
    },
    {
      "cell_type": "markdown",
      "source": [
        "**Question 12: Custom Binning Function**\n",
        "\n",
        "Write a custom function to create a 'Religion_Importance_Category' column based on the 'importance_religion' column. Categorize values into 'Low', 'Medium', and 'High'. Apply this function to create the new column.\n"
      ],
      "metadata": {
        "id": "ujJXl0QctiUE"
      }
    },
    {
      "cell_type": "code",
      "source": [
        "# Question 12: Custom Binning Function\n",
        "# Write a custom function to create a 'Religion_Importance_Category' column based on the 'importance_religion' column.\n",
        "# Categorize values into 'Low', 'Medium', and 'High'.\n",
        "# Apply this function to create the new column.\n",
        "# Your Code Here:"
      ],
      "metadata": {
        "id": "Dz_PEI1QtmcA"
      },
      "execution_count": null,
      "outputs": []
    },
    {
      "cell_type": "markdown",
      "source": [
        "**Explanation**\n",
        "\n",
        "[Your explanation here]"
      ],
      "metadata": {
        "id": "hA24kA1StoZw"
      }
    },
    {
      "cell_type": "markdown",
      "source": [
        "**Question 13: Grouped Transformations and Line Chart**\n",
        "\n",
        "Calculate the average 'household_income' for each 'wave'. Then create a new column called 'household_income_Normalized' that represents each respondent's 'household_income' as a z-score relative to the wave's average. Create a line chart visualizing the average normalized household income across waves.\n"
      ],
      "metadata": {
        "id": "xgidKP7zts6U"
      }
    },
    {
      "cell_type": "code",
      "source": [
        "# Question 13: Grouped Transformations and Line Chart\n",
        "# Calculate the average 'household_income' for each 'wave'.\n",
        "# Then create a new column called 'household_income_Normalized' that represents each respondent's 'household_income' as a z-score relative to the wave's average.\n",
        "# Create a line chart visualizing the average normalized household income across waves.\n",
        "# Your Code Here:"
      ],
      "metadata": {
        "id": "LDRMBxYItv9H"
      },
      "execution_count": null,
      "outputs": []
    },
    {
      "cell_type": "markdown",
      "source": [
        "**Explanation**\n",
        "\n",
        "[Your explanation here]"
      ],
      "metadata": {
        "id": "bJMyhZ_ZtwxT"
      }
    },
    {
      "cell_type": "markdown",
      "source": [
        "**Question 14: Data Sampling and Validation**\n",
        "\n",
        "Randomly sample 20% of the dataset. Use this sample to calculate the mean 'attitude_homosexuality' for each 'country'. Compare these means to the means calculated using the entire dataset. Discuss any differences and their potential implications."
      ],
      "metadata": {
        "id": "RCGnLcnit1Tb"
      }
    },
    {
      "cell_type": "code",
      "source": [
        "# Question 14: Data Sampling and Validation\n",
        "# Randomly sample 20% of the dataset. Use this sample to calculate the mean 'attitude_homosexuality' for each 'country'.\n",
        "# Compare these means to the means calculated using the entire dataset.\n",
        "# Discuss any differences and their potential implications.\n",
        "# Your Code Here:"
      ],
      "metadata": {
        "id": "vR04KOlgt7y2"
      },
      "execution_count": null,
      "outputs": []
    },
    {
      "cell_type": "markdown",
      "source": [
        "**Explanation**\n",
        "\n",
        "[Your explanation here]"
      ],
      "metadata": {
        "id": "YvQ4rx57t8fi"
      }
    },
    {
      "cell_type": "markdown",
      "source": [
        "**Question 15: Merging Hypothetical Data**\n",
        "\n",
        "Imagine you have a second dataset with economic indicators (e.g., GDP per capita) for each country and wave. Merge this hypothetical dataset with the WVS dataset using the 'country' and 'wave' columns as keys. Explain your merge strategy and how this merged data could be used for further analysis."
      ],
      "metadata": {
        "id": "hHpgcuoXuAuP"
      }
    },
    {
      "cell_type": "code",
      "source": [
        "# Question 15: Merging Hypothetical Data\n",
        "# Imagine you have a second dataset with economic indicators (e.g., GDP per capita) for each country and wave.\n",
        "# Merge this hypothetical dataset with the WVS dataset using the 'country' and 'wave' columns as keys.\n",
        "# Explain your merge strategy\n",
        "# And how this merged data could be used for further analysis.\n",
        "# Your Code Here:"
      ],
      "metadata": {
        "id": "tNQaFiZUuFMl"
      },
      "execution_count": null,
      "outputs": []
    },
    {
      "cell_type": "markdown",
      "source": [
        "**Explanation**\n",
        "\n",
        "[Your explanation here]"
      ],
      "metadata": {
        "id": "GvD9l0ICuFuq"
      }
    },
    {
      "cell_type": "markdown",
      "source": [
        "**Report**\n",
        "\n",
        "**Part 1**\n",
        "\n",
        "- In this section, compile the explanation of each of the questions.\n",
        "\n",
        "**Part 2**\n",
        "\n",
        "- Answer the following data analysis questions:\n",
        "  1. What are the key characteristics of global values and beliefs based on this dataset?\n",
        "  2. Which factors appear to have the strongest influence on life satisfaction?\n",
        "  3. What are the most common missing data patterns, and what implications might they have?\n",
        "  4. Based on your analysis, what are 2-3 recommendations you would make to improve social well-being?"
      ],
      "metadata": {
        "id": "SkaQA3LKzVT9"
      }
    }
  ]
}